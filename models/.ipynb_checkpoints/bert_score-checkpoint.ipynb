{
 "cells": [
  {
   "cell_type": "code",
   "execution_count": 1,
   "metadata": {},
   "outputs": [],
   "source": [
    "from bert_score import BERTScorer\n",
    "import numpy as np\n",
    "import pandas as pd\n",
    "from nltk.corpus import stopwords\n",
    "from sklearn.feature_extraction.text import TfidfVectorizer\n",
    "from lsh import LSH\n",
    "from fast_lexrank import Lexrank\n",
    "import time, emoji, string\n",
    "import re"
   ]
  },
  {
   "cell_type": "code",
   "execution_count": 2,
   "metadata": {},
   "outputs": [
    {
     "name": "stdout",
     "output_type": "stream",
     "text": [
      "                   Id                                              Tweet\n",
      "0  824941360449015808  RT @MENTION : Emergency Rally Against Trump's ...\n",
      "1  824941519857610752  RT @MENTION : Theresa May has not apologized t...\n",
      "2  824941616314122240  RT @MENTION : Trump's Immigration Ban Excludes...\n",
      "3  824942056741167105  RT @MENTION : Trump's immigration order expand...\n",
      "4  824942966875774976  ALERT : Senator John McCain Threatens Action O...\n",
      "(123385, 2)\n"
     ]
    }
   ],
   "source": [
    "# read data\n",
    "data = pd.read_csv('/home/nguyen/data/processed_travel_ban.csv')\n",
    "print(data.head())\n",
    "print(data.shape)"
   ]
  },
  {
   "cell_type": "code",
   "execution_count": 3,
   "metadata": {},
   "outputs": [
    {
     "name": "stdout",
     "output_type": "stream",
     "text": [
      "                   Id                                              Tweet  \\\n",
      "0  824941360449015808  emergency rally against trump's muslim travel ...   \n",
      "1  824941519857610752  theresa may has not apologized to trump for in...   \n",
      "2  824941616314122240  trump's immigration ban excludes countries wit...   \n",
      "3  824942056741167105  trump's immigration order expands the definiti...   \n",
      "4  824942966875774976  alert : senator john mccain threatens action o...   \n",
      "\n",
      "                                              Tweet1  uniWPercent  \n",
      "0  emergency rally trumps muslim travel ban nyc 1...           10  \n",
      "1  theresa may apologized trump insulting fails t...           11  \n",
      "2  trumps immigration ban excludes countries busi...            9  \n",
      "3  trumps immigration order expands definition cr...            6  \n",
      "4  alert senator john mccain threatens action pre...            8  \n"
     ]
    }
   ],
   "source": [
    "# remove rt, @USER, @URL, emoji\n",
    "data['Tweet'] = data['Tweet'].apply(lambda x: x.replace('@MENTION', \"\").replace(\"@URL\", \"\").\n",
    "                                    replace(\"@EMAIL\", \"\").lower())\n",
    "data['Tweet'] = data['Tweet'].apply(lambda x: re.sub(\"^ ?(rt ?)+\", \"\", x))                              \n",
    "data['Tweet'] = data['Tweet'].apply(lambda x: re.sub('^( ?: ?)', '', x))\n",
    "data['Tweet'] = data['Tweet'].apply(lambda x: re.sub(\"  +\", \" \", x))\n",
    "data['Tweet'] = data['Tweet'].apply(lambda x: ''.join(c for c in x if c not in emoji.UNICODE_EMOJI).strip())\n",
    "# remove stopwords, punctuation\n",
    "stopWords = stopwords.words('english')\n",
    "data['Tweet1'] = data['Tweet'].apply(lambda x: ' '.join(y for y in x.split(\" \") if y not in stopWords))\n",
    "data['Tweet1'] = data['Tweet1'].apply(lambda x: x.translate(str.maketrans('', '',  string.punctuation)))\n",
    "data['Tweet1'] = data['Tweet1'].apply(lambda x: re.sub('“|…|’|‘|”|—|→', \"\", x))\n",
    "data['Tweet1'] = data['Tweet1'].apply(lambda x: re.sub(' +', ' ',x).strip())\n",
    "\n",
    "# remove tweets #unique words less than haft of length\n",
    "data['uniWPercent'] = data['Tweet1'].apply(lambda x: 0 if len(set(x.split(\" \")))/len(x.split(\" \")) <= 0.5 else len(x.split(\" \")))\n",
    "data = data[data['uniWPercent']!=0]\n",
    "# # remove tweets with lengths < 3, duplicates\n",
    "while data['uniWPercent'].min() <=2:\n",
    "    data = data[data['uniWPercent'] >2]\n",
    "    data['uniWPercent'] = data['Tweet1'].apply(lambda x: 0 if len(set(x.split(\" \")))/len(x.split(\" \")) <= 0.5 else len(x.split(\" \")))\n",
    "# # # remove duplicates\n",
    "data.drop_duplicates(subset=['Tweet1'], keep='first', inplace = True)\n",
    "print(data.head())"
   ]
  },
  {
   "cell_type": "code",
   "execution_count": 4,
   "metadata": {},
   "outputs": [
    {
     "data": {
      "text/plain": [
       "(105175, 4)"
      ]
     },
     "execution_count": 4,
     "metadata": {},
     "output_type": "execute_result"
    }
   ],
   "source": [
    "data.shape"
   ]
  },
  {
   "cell_type": "code",
   "execution_count": 5,
   "metadata": {},
   "outputs": [],
   "source": [
    "remained_index = data.index"
   ]
  },
  {
   "cell_type": "code",
   "execution_count": 6,
   "metadata": {},
   "outputs": [],
   "source": [
    "data = data.reset_index(drop=True)"
   ]
  },
  {
   "cell_type": "code",
   "execution_count": 7,
   "metadata": {},
   "outputs": [
    {
     "data": {
      "text/plain": [
       "(105175, 4)"
      ]
     },
     "execution_count": 7,
     "metadata": {},
     "output_type": "execute_result"
    }
   ],
   "source": [
    "data.shape"
   ]
  },
  {
   "cell_type": "code",
   "execution_count": 8,
   "metadata": {},
   "outputs": [],
   "source": [
    "data = data.iloc[0:1000]"
   ]
  },
  {
   "cell_type": "code",
   "execution_count": 9,
   "metadata": {},
   "outputs": [
    {
     "name": "stdout",
     "output_type": "stream",
     "text": [
      "(1000, 3313)\n"
     ]
    }
   ],
   "source": [
    "#extract tfidf vector\n",
    "tfidf = TfidfVectorizer()\n",
    "tfidfData = tfidf.fit_transform(data['Tweet1'])\n",
    "print(tfidfData.shape)"
   ]
  },
  {
   "cell_type": "code",
   "execution_count": 10,
   "metadata": {},
   "outputs": [
    {
     "name": "stdout",
     "output_type": "stream",
     "text": [
      "(1000,)\n"
     ]
    }
   ],
   "source": [
    "lsh_tfidf = LSH(tfidfData)\n",
    "lsh_tfidf.train(num_bits = 8)\n"
   ]
  },
  {
   "cell_type": "code",
   "execution_count": 11,
   "metadata": {},
   "outputs": [],
   "source": [
    "scorer = BERTScorer(lang='en', rescale_with_baseline = True, idf = True, idf_sents = list(data['Tweet']), device='cuda:3')"
   ]
  },
  {
   "cell_type": "code",
   "execution_count": 13,
   "metadata": {},
   "outputs": [
    {
     "name": "stdout",
     "output_type": "stream",
     "text": [
      "#buckets: 220\n",
      ".......buck: 0, vec: 3\n"
     ]
    },
    {
     "ename": "IndexError",
     "evalue": "list index out of range",
     "output_type": "error",
     "traceback": [
      "\u001b[0;31m---------------------------------------------------------------------------\u001b[0m",
      "\u001b[0;31mIndexError\u001b[0m                                Traceback (most recent call last)",
      "\u001b[0;32m<ipython-input-13-bd673c235858>\u001b[0m in \u001b[0;36m<module>\u001b[0;34m()\u001b[0m\n\u001b[0;32m----> 1\u001b[0;31m \u001b[0mget_ipython\u001b[0m\u001b[0;34m(\u001b[0m\u001b[0;34m)\u001b[0m\u001b[0;34m.\u001b[0m\u001b[0mrun_cell_magic\u001b[0m\u001b[0;34m(\u001b[0m\u001b[0;34m'time'\u001b[0m\u001b[0;34m,\u001b[0m \u001b[0;34m''\u001b[0m\u001b[0;34m,\u001b[0m \u001b[0;34m\"lex_tfidf = Lexrank(np.array(data['Tweet']), lsh_tfidf)\\nlex_tfidf.build_graph_bert_score(scorer, search_radius = 0, sim_thres = 0.1)\"\u001b[0m\u001b[0;34m)\u001b[0m\u001b[0;34m\u001b[0m\u001b[0;34m\u001b[0m\u001b[0m\n\u001b[0m",
      "\u001b[0;32m/usr/lib/python3/dist-packages/IPython/core/interactiveshell.py\u001b[0m in \u001b[0;36mrun_cell_magic\u001b[0;34m(self, magic_name, line, cell)\u001b[0m\n\u001b[1;32m   2115\u001b[0m             \u001b[0mmagic_arg_s\u001b[0m \u001b[0;34m=\u001b[0m \u001b[0mself\u001b[0m\u001b[0;34m.\u001b[0m\u001b[0mvar_expand\u001b[0m\u001b[0;34m(\u001b[0m\u001b[0mline\u001b[0m\u001b[0;34m,\u001b[0m \u001b[0mstack_depth\u001b[0m\u001b[0;34m)\u001b[0m\u001b[0;34m\u001b[0m\u001b[0;34m\u001b[0m\u001b[0m\n\u001b[1;32m   2116\u001b[0m             \u001b[0;32mwith\u001b[0m \u001b[0mself\u001b[0m\u001b[0;34m.\u001b[0m\u001b[0mbuiltin_trap\u001b[0m\u001b[0;34m:\u001b[0m\u001b[0;34m\u001b[0m\u001b[0;34m\u001b[0m\u001b[0m\n\u001b[0;32m-> 2117\u001b[0;31m                 \u001b[0mresult\u001b[0m \u001b[0;34m=\u001b[0m \u001b[0mfn\u001b[0m\u001b[0;34m(\u001b[0m\u001b[0mmagic_arg_s\u001b[0m\u001b[0;34m,\u001b[0m \u001b[0mcell\u001b[0m\u001b[0;34m)\u001b[0m\u001b[0;34m\u001b[0m\u001b[0;34m\u001b[0m\u001b[0m\n\u001b[0m\u001b[1;32m   2118\u001b[0m             \u001b[0;32mreturn\u001b[0m \u001b[0mresult\u001b[0m\u001b[0;34m\u001b[0m\u001b[0;34m\u001b[0m\u001b[0m\n\u001b[1;32m   2119\u001b[0m \u001b[0;34m\u001b[0m\u001b[0m\n",
      "\u001b[0;32m<decorator-gen-60>\u001b[0m in \u001b[0;36mtime\u001b[0;34m(self, line, cell, local_ns)\u001b[0m\n",
      "\u001b[0;32m/usr/lib/python3/dist-packages/IPython/core/magic.py\u001b[0m in \u001b[0;36m<lambda>\u001b[0;34m(f, *a, **k)\u001b[0m\n\u001b[1;32m    186\u001b[0m     \u001b[0;31m# but it's overkill for just that one bit of state.\u001b[0m\u001b[0;34m\u001b[0m\u001b[0;34m\u001b[0m\u001b[0;34m\u001b[0m\u001b[0m\n\u001b[1;32m    187\u001b[0m     \u001b[0;32mdef\u001b[0m \u001b[0mmagic_deco\u001b[0m\u001b[0;34m(\u001b[0m\u001b[0marg\u001b[0m\u001b[0;34m)\u001b[0m\u001b[0;34m:\u001b[0m\u001b[0;34m\u001b[0m\u001b[0;34m\u001b[0m\u001b[0m\n\u001b[0;32m--> 188\u001b[0;31m         \u001b[0mcall\u001b[0m \u001b[0;34m=\u001b[0m \u001b[0;32mlambda\u001b[0m \u001b[0mf\u001b[0m\u001b[0;34m,\u001b[0m \u001b[0;34m*\u001b[0m\u001b[0ma\u001b[0m\u001b[0;34m,\u001b[0m \u001b[0;34m**\u001b[0m\u001b[0mk\u001b[0m\u001b[0;34m:\u001b[0m \u001b[0mf\u001b[0m\u001b[0;34m(\u001b[0m\u001b[0;34m*\u001b[0m\u001b[0ma\u001b[0m\u001b[0;34m,\u001b[0m \u001b[0;34m**\u001b[0m\u001b[0mk\u001b[0m\u001b[0;34m)\u001b[0m\u001b[0;34m\u001b[0m\u001b[0;34m\u001b[0m\u001b[0m\n\u001b[0m\u001b[1;32m    189\u001b[0m \u001b[0;34m\u001b[0m\u001b[0m\n\u001b[1;32m    190\u001b[0m         \u001b[0;32mif\u001b[0m \u001b[0mcallable\u001b[0m\u001b[0;34m(\u001b[0m\u001b[0marg\u001b[0m\u001b[0;34m)\u001b[0m\u001b[0;34m:\u001b[0m\u001b[0;34m\u001b[0m\u001b[0;34m\u001b[0m\u001b[0m\n",
      "\u001b[0;32m/usr/lib/python3/dist-packages/IPython/core/magics/execution.py\u001b[0m in \u001b[0;36mtime\u001b[0;34m(self, line, cell, local_ns)\u001b[0m\n\u001b[1;32m   1191\u001b[0m         \u001b[0;32melse\u001b[0m\u001b[0;34m:\u001b[0m\u001b[0;34m\u001b[0m\u001b[0;34m\u001b[0m\u001b[0m\n\u001b[1;32m   1192\u001b[0m             \u001b[0mst\u001b[0m \u001b[0;34m=\u001b[0m \u001b[0mclock2\u001b[0m\u001b[0;34m(\u001b[0m\u001b[0;34m)\u001b[0m\u001b[0;34m\u001b[0m\u001b[0;34m\u001b[0m\u001b[0m\n\u001b[0;32m-> 1193\u001b[0;31m             \u001b[0mexec\u001b[0m\u001b[0;34m(\u001b[0m\u001b[0mcode\u001b[0m\u001b[0;34m,\u001b[0m \u001b[0mglob\u001b[0m\u001b[0;34m,\u001b[0m \u001b[0mlocal_ns\u001b[0m\u001b[0;34m)\u001b[0m\u001b[0;34m\u001b[0m\u001b[0;34m\u001b[0m\u001b[0m\n\u001b[0m\u001b[1;32m   1194\u001b[0m             \u001b[0mend\u001b[0m \u001b[0;34m=\u001b[0m \u001b[0mclock2\u001b[0m\u001b[0;34m(\u001b[0m\u001b[0;34m)\u001b[0m\u001b[0;34m\u001b[0m\u001b[0;34m\u001b[0m\u001b[0m\n\u001b[1;32m   1195\u001b[0m             \u001b[0mout\u001b[0m \u001b[0;34m=\u001b[0m \u001b[0;32mNone\u001b[0m\u001b[0;34m\u001b[0m\u001b[0;34m\u001b[0m\u001b[0m\n",
      "\u001b[0;32m<timed exec>\u001b[0m in \u001b[0;36m<module>\u001b[0;34m()\u001b[0m\n",
      "\u001b[0;32m/dstore/home/nguyen/tweet_summarization/models/fast_lexrank.py\u001b[0m in \u001b[0;36mbuild_graph_bert_score\u001b[0;34m(self, bert_score, search_radius, sim_thres)\u001b[0m\n\u001b[1;32m     29\u001b[0m                 \u001b[0mself\u001b[0m\u001b[0;34m.\u001b[0m\u001b[0mgraph\u001b[0m\u001b[0;34m[\u001b[0m\u001b[0mb\u001b[0m\u001b[0;34m[\u001b[0m\u001b[0mi\u001b[0m\u001b[0;34m]\u001b[0m\u001b[0;34m]\u001b[0m \u001b[0;34m=\u001b[0m \u001b[0;34m{\u001b[0m\u001b[0;34m}\u001b[0m\u001b[0;34m\u001b[0m\u001b[0;34m\u001b[0m\u001b[0m\n\u001b[1;32m     30\u001b[0m                 \u001b[0mrefs\u001b[0m\u001b[0;34m=\u001b[0m \u001b[0;34m[\u001b[0m\u001b[0mb\u001b[0m\u001b[0;34m[\u001b[0m\u001b[0mx\u001b[0m\u001b[0;34m]\u001b[0m \u001b[0;32mfor\u001b[0m \u001b[0mx\u001b[0m \u001b[0;32min\u001b[0m \u001b[0mrange\u001b[0m\u001b[0;34m(\u001b[0m\u001b[0mi\u001b[0m\u001b[0;34m+\u001b[0m\u001b[0;36m1\u001b[0m\u001b[0;34m,\u001b[0m \u001b[0mlen\u001b[0m\u001b[0;34m(\u001b[0m\u001b[0mb\u001b[0m\u001b[0;34m)\u001b[0m\u001b[0;34m)\u001b[0m\u001b[0;34m]\u001b[0m\u001b[0;34m\u001b[0m\u001b[0;34m\u001b[0m\u001b[0m\n\u001b[0;32m---> 31\u001b[0;31m                 \u001b[0m_\u001b[0m\u001b[0;34m,\u001b[0m \u001b[0m_\u001b[0m\u001b[0;34m,\u001b[0m \u001b[0mf1\u001b[0m \u001b[0;34m=\u001b[0m \u001b[0mbert_score\u001b[0m\u001b[0;34m.\u001b[0m\u001b[0mscore\u001b[0m\u001b[0;34m(\u001b[0m\u001b[0;34m[\u001b[0m\u001b[0mself\u001b[0m\u001b[0;34m.\u001b[0m\u001b[0mdata\u001b[0m\u001b[0;34m[\u001b[0m\u001b[0mb\u001b[0m\u001b[0;34m[\u001b[0m\u001b[0mi\u001b[0m\u001b[0;34m]\u001b[0m\u001b[0;34m]\u001b[0m\u001b[0;34m]\u001b[0m\u001b[0;34m*\u001b[0m\u001b[0mlen\u001b[0m\u001b[0;34m(\u001b[0m\u001b[0mrefs\u001b[0m\u001b[0;34m)\u001b[0m\u001b[0;34m,\u001b[0m \u001b[0mlist\u001b[0m\u001b[0;34m(\u001b[0m\u001b[0mself\u001b[0m\u001b[0;34m.\u001b[0m\u001b[0mdata\u001b[0m\u001b[0;34m[\u001b[0m\u001b[0mrefs\u001b[0m\u001b[0;34m]\u001b[0m\u001b[0;34m)\u001b[0m\u001b[0;34m)\u001b[0m\u001b[0;34m\u001b[0m\u001b[0;34m\u001b[0m\u001b[0m\n\u001b[0m\u001b[1;32m     32\u001b[0m                 \u001b[0;32mfor\u001b[0m \u001b[0midx\u001b[0m\u001b[0;34m,\u001b[0m \u001b[0mscore\u001b[0m \u001b[0;32min\u001b[0m \u001b[0menumerate\u001b[0m\u001b[0;34m(\u001b[0m\u001b[0mf1\u001b[0m\u001b[0;34m)\u001b[0m\u001b[0;34m:\u001b[0m\u001b[0;34m\u001b[0m\u001b[0;34m\u001b[0m\u001b[0m\n\u001b[1;32m     33\u001b[0m                     \u001b[0;32mif\u001b[0m \u001b[0mscore\u001b[0m \u001b[0;34m>\u001b[0m \u001b[0msim_thres\u001b[0m\u001b[0;34m:\u001b[0m\u001b[0;34m\u001b[0m\u001b[0;34m\u001b[0m\u001b[0m\n",
      "\u001b[0;32m/home/nguyen/.local/lib/python3.7/site-packages/bert_score/scorer.py\u001b[0m in \u001b[0;36mscore\u001b[0;34m(self, cands, refs, verbose, batch_size, return_hash)\u001b[0m\n\u001b[1;32m    185\u001b[0m \u001b[0;34m\u001b[0m\u001b[0m\n\u001b[1;32m    186\u001b[0m         \u001b[0mref_group_boundaries\u001b[0m \u001b[0;34m=\u001b[0m \u001b[0;32mNone\u001b[0m\u001b[0;34m\u001b[0m\u001b[0;34m\u001b[0m\u001b[0m\n\u001b[0;32m--> 187\u001b[0;31m         \u001b[0;32mif\u001b[0m \u001b[0;32mnot\u001b[0m \u001b[0misinstance\u001b[0m\u001b[0;34m(\u001b[0m\u001b[0mrefs\u001b[0m\u001b[0;34m[\u001b[0m\u001b[0;36m0\u001b[0m\u001b[0;34m]\u001b[0m\u001b[0;34m,\u001b[0m \u001b[0mstr\u001b[0m\u001b[0;34m)\u001b[0m\u001b[0;34m:\u001b[0m\u001b[0;34m\u001b[0m\u001b[0;34m\u001b[0m\u001b[0m\n\u001b[0m\u001b[1;32m    188\u001b[0m             \u001b[0mref_group_boundaries\u001b[0m \u001b[0;34m=\u001b[0m \u001b[0;34m[\u001b[0m\u001b[0;34m]\u001b[0m\u001b[0;34m\u001b[0m\u001b[0;34m\u001b[0m\u001b[0m\n\u001b[1;32m    189\u001b[0m             \u001b[0mori_cands\u001b[0m\u001b[0;34m,\u001b[0m \u001b[0mori_refs\u001b[0m \u001b[0;34m=\u001b[0m \u001b[0mcands\u001b[0m\u001b[0;34m,\u001b[0m \u001b[0mrefs\u001b[0m\u001b[0;34m\u001b[0m\u001b[0;34m\u001b[0m\u001b[0m\n",
      "\u001b[0;31mIndexError\u001b[0m: list index out of range"
     ]
    }
   ],
   "source": [
    "%%time\n",
    "lex_tfidf = Lexrank(np.array(data['Tweet']), lsh_tfidf)\n",
    "lex_tfidf.build_graph_bert_score(scorer, search_radius = 0, sim_thres = 0.1)"
   ]
  },
  {
   "cell_type": "code",
   "execution_count": 24,
   "metadata": {},
   "outputs": [],
   "source": [
    "sents = np.array(data['Tweet'])"
   ]
  },
  {
   "cell_type": "code",
   "execution_count": 17,
   "metadata": {},
   "outputs": [],
   "source": [
    "buckets = lsh_tfidf.extract_nearby_bins(max_search_radius = 1)\n"
   ]
  },
  {
   "cell_type": "code",
   "execution_count": 18,
   "metadata": {},
   "outputs": [
    {
     "data": {
      "text/plain": [
       "248"
      ]
     },
     "execution_count": 18,
     "metadata": {},
     "output_type": "execute_result"
    }
   ],
   "source": [
    "len(buckets)"
   ]
  },
  {
   "cell_type": "code",
   "execution_count": 31,
   "metadata": {},
   "outputs": [
    {
     "name": "stdout",
     "output_type": "stream",
     "text": [
      "#buckets: 248\n",
      "Bucket:  [48, 492, 723, 305, 522, 600, 202, 486, 527, 998, 101, 250, 303, 347, 450, 632, 634, 661, 762, 16, 18, 493, 547, 810, 846, 863, 967, 52, 372, 894, 468, 916]\n",
      "[492, 723, 305, 522, 600, 202, 486, 527, 998, 101, 250, 303, 347, 450, 632, 634, 661, 762, 16, 18, 493, 547, 810, 846, 863, 967, 52, 372, 894, 468, 916]\n",
      "[723, 305, 522, 600, 202, 486, 527, 998, 101, 250, 303, 347, 450, 632, 634, 661, 762, 16, 18, 493, 547, 810, 846, 863, 967, 52, 372, 894, 468, 916]\n",
      "[305, 522, 600, 202, 486, 527, 998, 101, 250, 303, 347, 450, 632, 634, 661, 762, 16, 18, 493, 547, 810, 846, 863, 967, 52, 372, 894, 468, 916]\n",
      "[522, 600, 202, 486, 527, 998, 101, 250, 303, 347, 450, 632, 634, 661, 762, 16, 18, 493, 547, 810, 846, 863, 967, 52, 372, 894, 468, 916]\n",
      "[600, 202, 486, 527, 998, 101, 250, 303, 347, 450, 632, 634, 661, 762, 16, 18, 493, 547, 810, 846, 863, 967, 52, 372, 894, 468, 916]\n",
      "[202, 486, 527, 998, 101, 250, 303, 347, 450, 632, 634, 661, 762, 16, 18, 493, 547, 810, 846, 863, 967, 52, 372, 894, 468, 916]\n",
      "[486, 527, 998, 101, 250, 303, 347, 450, 632, 634, 661, 762, 16, 18, 493, 547, 810, 846, 863, 967, 52, 372, 894, 468, 916]\n",
      "[527, 998, 101, 250, 303, 347, 450, 632, 634, 661, 762, 16, 18, 493, 547, 810, 846, 863, 967, 52, 372, 894, 468, 916]\n",
      "[998, 101, 250, 303, 347, 450, 632, 634, 661, 762, 16, 18, 493, 547, 810, 846, 863, 967, 52, 372, 894, 468, 916]\n",
      "[101, 250, 303, 347, 450, 632, 634, 661, 762, 16, 18, 493, 547, 810, 846, 863, 967, 52, 372, 894, 468, 916]\n",
      "[250, 303, 347, 450, 632, 634, 661, 762, 16, 18, 493, 547, 810, 846, 863, 967, 52, 372, 894, 468, 916]\n",
      "[303, 347, 450, 632, 634, 661, 762, 16, 18, 493, 547, 810, 846, 863, 967, 52, 372, 894, 468, 916]\n",
      "[347, 450, 632, 634, 661, 762, 16, 18, 493, 547, 810, 846, 863, 967, 52, 372, 894, 468, 916]\n",
      "[450, 632, 634, 661, 762, 16, 18, 493, 547, 810, 846, 863, 967, 52, 372, 894, 468, 916]\n",
      "[632, 634, 661, 762, 16, 18, 493, 547, 810, 846, 863, 967, 52, 372, 894, 468, 916]\n",
      "[634, 661, 762, 16, 18, 493, 547, 810, 846, 863, 967, 52, 372, 894, 468, 916]\n",
      "[661, 762, 16, 18, 493, 547, 810, 846, 863, 967, 52, 372, 894, 468, 916]\n",
      "[762, 16, 18, 493, 547, 810, 846, 863, 967, 52, 372, 894, 468, 916]\n",
      "[16, 18, 493, 547, 810, 846, 863, 967, 52, 372, 894, 468, 916]\n",
      "[18, 493, 547, 810, 846, 863, 967, 52, 372, 894, 468, 916]\n",
      "[493, 547, 810, 846, 863, 967, 52, 372, 894, 468, 916]\n",
      "[547, 810, 846, 863, 967, 52, 372, 894, 468, 916]\n",
      "[810, 846, 863, 967, 52, 372, 894, 468, 916]\n",
      "[846, 863, 967, 52, 372, 894, 468, 916]\n",
      "[863, 967, 52, 372, 894, 468, 916]\n",
      "[967, 52, 372, 894, 468, 916]\n",
      "[52, 372, 894, 468, 916]\n",
      "[372, 894, 468, 916]\n",
      "[894, 468, 916]\n",
      "[468, 916]\n",
      "[916]\n",
      "Bucket:  [468, 916, 98, 298, 494, 989, 309, 332, 85, 525, 622, 359, 971, 561, 752, 980, 123, 210, 441, 516, 48, 492, 723]\n",
      "[916, 98, 298, 494, 989, 309, 332, 85, 525, 622, 359, 971, 561, 752, 980, 123, 210, 441, 516, 48, 492, 723]\n",
      "[98, 298, 494, 989, 309, 332, 85, 525, 622, 359, 971, 561, 752, 980, 123, 210, 441, 516, 48, 492, 723]\n",
      "[298, 494, 989, 309, 332, 85, 525, 622, 359, 971, 561, 752, 980, 123, 210, 441, 516, 48, 492, 723]\n",
      "[494, 989, 309, 332, 85, 525, 622, 359, 971, 561, 752, 980, 123, 210, 441, 516, 48, 492, 723]\n",
      "[989, 309, 332, 85, 525, 622, 359, 971, 561, 752, 980, 123, 210, 441, 516, 48, 492, 723]\n",
      "[309, 332, 85, 525, 622, 359, 971, 561, 752, 980, 123, 210, 441, 516, 48, 492, 723]\n",
      "[332, 85, 525, 622, 359, 971, 561, 752, 980, 123, 210, 441, 516, 48, 492, 723]\n",
      "[85, 525, 622, 359, 971, 561, 752, 980, 123, 210, 441, 516, 48, 492, 723]\n",
      "[525, 622, 359, 971, 561, 752, 980, 123, 210, 441, 516, 48, 492, 723]\n",
      "[622, 359, 971, 561, 752, 980, 123, 210, 441, 516, 48, 492, 723]\n",
      "[359, 971, 561, 752, 980, 123, 210, 441, 516, 48, 492, 723]\n",
      "[971, 561, 752, 980, 123, 210, 441, 516, 48, 492, 723]\n",
      "[561, 752, 980, 123, 210, 441, 516, 48, 492, 723]\n",
      "[752, 980, 123, 210, 441, 516, 48, 492, 723]\n",
      "[980, 123, 210, 441, 516, 48, 492, 723]\n",
      "[123, 210, 441, 516, 48, 492, 723]\n",
      "[210, 441, 516, 48, 492, 723]\n",
      "[441, 516, 48, 492, 723]\n",
      "[516, 48, 492, 723]\n",
      "[48, 492, 723]\n",
      "[492, 723]\n",
      "[723]\n",
      "Bucket:  [52, 372, 894, 47, 163, 794, 823, 803, 96, 469, 73, 183, 406, 648, 82, 238, 354, 481, 702, 783, 866, 909, 488, 950, 953, 48, 492, 723, 123, 210, 441, 516]\n",
      "[372, 894, 47, 163, 794, 823, 803, 96, 469, 73, 183, 406, 648, 82, 238, 354, 481, 702, 783, 866, 909, 488, 950, 953, 48, 492, 723, 123, 210, 441, 516]\n",
      "[894, 47, 163, 794, 823, 803, 96, 469, 73, 183, 406, 648, 82, 238, 354, 481, 702, 783, 866, 909, 488, 950, 953, 48, 492, 723, 123, 210, 441, 516]\n",
      "[47, 163, 794, 823, 803, 96, 469, 73, 183, 406, 648, 82, 238, 354, 481, 702, 783, 866, 909, 488, 950, 953, 48, 492, 723, 123, 210, 441, 516]\n",
      "[163, 794, 823, 803, 96, 469, 73, 183, 406, 648, 82, 238, 354, 481, 702, 783, 866, 909, 488, 950, 953, 48, 492, 723, 123, 210, 441, 516]\n",
      "[794, 823, 803, 96, 469, 73, 183, 406, 648, 82, 238, 354, 481, 702, 783, 866, 909, 488, 950, 953, 48, 492, 723, 123, 210, 441, 516]\n",
      "[823, 803, 96, 469, 73, 183, 406, 648, 82, 238, 354, 481, 702, 783, 866, 909, 488, 950, 953, 48, 492, 723, 123, 210, 441, 516]\n",
      "[803, 96, 469, 73, 183, 406, 648, 82, 238, 354, 481, 702, 783, 866, 909, 488, 950, 953, 48, 492, 723, 123, 210, 441, 516]\n",
      "[96, 469, 73, 183, 406, 648, 82, 238, 354, 481, 702, 783, 866, 909, 488, 950, 953, 48, 492, 723, 123, 210, 441, 516]\n",
      "[469, 73, 183, 406, 648, 82, 238, 354, 481, 702, 783, 866, 909, 488, 950, 953, 48, 492, 723, 123, 210, 441, 516]\n",
      "[73, 183, 406, 648, 82, 238, 354, 481, 702, 783, 866, 909, 488, 950, 953, 48, 492, 723, 123, 210, 441, 516]\n",
      "[183, 406, 648, 82, 238, 354, 481, 702, 783, 866, 909, 488, 950, 953, 48, 492, 723, 123, 210, 441, 516]\n",
      "[406, 648, 82, 238, 354, 481, 702, 783, 866, 909, 488, 950, 953, 48, 492, 723, 123, 210, 441, 516]\n",
      "[648, 82, 238, 354, 481, 702, 783, 866, 909, 488, 950, 953, 48, 492, 723, 123, 210, 441, 516]\n",
      "[82, 238, 354, 481, 702, 783, 866, 909, 488, 950, 953, 48, 492, 723, 123, 210, 441, 516]\n",
      "[238, 354, 481, 702, 783, 866, 909, 488, 950, 953, 48, 492, 723, 123, 210, 441, 516]\n",
      "[354, 481, 702, 783, 866, 909, 488, 950, 953, 48, 492, 723, 123, 210, 441, 516]\n",
      "[481, 702, 783, 866, 909, 488, 950, 953, 48, 492, 723, 123, 210, 441, 516]\n",
      "[702, 783, 866, 909, 488, 950, 953, 48, 492, 723, 123, 210, 441, 516]\n",
      "[783, 866, 909, 488, 950, 953, 48, 492, 723, 123, 210, 441, 516]\n",
      "[866, 909, 488, 950, 953, 48, 492, 723, 123, 210, 441, 516]\n",
      "[909, 488, 950, 953, 48, 492, 723, 123, 210, 441, 516]\n",
      "[488, 950, 953, 48, 492, 723, 123, 210, 441, 516]\n",
      "[950, 953, 48, 492, 723, 123, 210, 441, 516]\n",
      "[953, 48, 492, 723, 123, 210, 441, 516]\n",
      "[48, 492, 723, 123, 210, 441, 516]\n",
      "[492, 723, 123, 210, 441, 516]\n",
      "[723, 123, 210, 441, 516]\n",
      "[123, 210, 441, 516]\n",
      "[210, 441, 516]\n",
      "[441, 516]\n",
      "[516]\n",
      "Bucket:  [123, 210, 441, 516, 284, 413, 560, 567, 671, 695, 827, 938, 124, 136, 365, 386, 176, 51, 77, 730, 873, 2, 233, 452, 468, 916, 52, 372, 894]\n",
      "[210, 441, 516, 284, 413, 560, 567, 671, 695, 827, 938, 124, 136, 365, 386, 176, 51, 77, 730, 873, 2, 233, 452, 468, 916, 52, 372, 894]\n",
      "[441, 516, 284, 413, 560, 567, 671, 695, 827, 938, 124, 136, 365, 386, 176, 51, 77, 730, 873, 2, 233, 452, 468, 916, 52, 372, 894]\n",
      "[516, 284, 413, 560, 567, 671, 695, 827, 938, 124, 136, 365, 386, 176, 51, 77, 730, 873, 2, 233, 452, 468, 916, 52, 372, 894]\n"
     ]
    },
    {
     "ename": "KeyboardInterrupt",
     "evalue": "",
     "output_type": "error",
     "traceback": [
      "\u001b[0;31m---------------------------------------------------------------------------\u001b[0m",
      "\u001b[0;31mKeyboardInterrupt\u001b[0m                         Traceback (most recent call last)",
      "\u001b[0;32m<ipython-input-31-50db134948a1>\u001b[0m in \u001b[0;36m<module>\u001b[0;34m()\u001b[0m\n\u001b[1;32m     10\u001b[0m         \u001b[0mrefs\u001b[0m\u001b[0;34m=\u001b[0m \u001b[0;34m[\u001b[0m\u001b[0mb\u001b[0m\u001b[0;34m[\u001b[0m\u001b[0mx\u001b[0m\u001b[0;34m]\u001b[0m \u001b[0;32mfor\u001b[0m \u001b[0mx\u001b[0m \u001b[0;32min\u001b[0m \u001b[0mrange\u001b[0m\u001b[0;34m(\u001b[0m\u001b[0mi\u001b[0m\u001b[0;34m+\u001b[0m\u001b[0;36m1\u001b[0m\u001b[0;34m,\u001b[0m \u001b[0mlen\u001b[0m\u001b[0;34m(\u001b[0m\u001b[0mb\u001b[0m\u001b[0;34m)\u001b[0m\u001b[0;34m)\u001b[0m\u001b[0;34m]\u001b[0m\u001b[0;34m\u001b[0m\u001b[0;34m\u001b[0m\u001b[0m\n\u001b[1;32m     11\u001b[0m         \u001b[0mprint\u001b[0m\u001b[0;34m(\u001b[0m\u001b[0mrefs\u001b[0m\u001b[0;34m)\u001b[0m\u001b[0;34m\u001b[0m\u001b[0;34m\u001b[0m\u001b[0m\n\u001b[0;32m---> 12\u001b[0;31m         \u001b[0m_\u001b[0m\u001b[0;34m,\u001b[0m \u001b[0m_\u001b[0m\u001b[0;34m,\u001b[0m \u001b[0mf1\u001b[0m \u001b[0;34m=\u001b[0m \u001b[0mscorer\u001b[0m\u001b[0;34m.\u001b[0m\u001b[0mscore\u001b[0m\u001b[0;34m(\u001b[0m\u001b[0;34m[\u001b[0m\u001b[0msents\u001b[0m\u001b[0;34m[\u001b[0m\u001b[0mb\u001b[0m\u001b[0;34m[\u001b[0m\u001b[0mi\u001b[0m\u001b[0;34m]\u001b[0m\u001b[0;34m]\u001b[0m\u001b[0;34m]\u001b[0m\u001b[0;34m*\u001b[0m\u001b[0mlen\u001b[0m\u001b[0;34m(\u001b[0m\u001b[0mrefs\u001b[0m\u001b[0;34m)\u001b[0m\u001b[0;34m,\u001b[0m \u001b[0mlist\u001b[0m\u001b[0;34m(\u001b[0m\u001b[0msents\u001b[0m\u001b[0;34m[\u001b[0m\u001b[0mrefs\u001b[0m\u001b[0;34m]\u001b[0m\u001b[0;34m)\u001b[0m\u001b[0;34m)\u001b[0m\u001b[0;34m\u001b[0m\u001b[0;34m\u001b[0m\u001b[0m\n\u001b[0m\u001b[1;32m     13\u001b[0m         \u001b[0;32mfor\u001b[0m \u001b[0midx\u001b[0m\u001b[0;34m,\u001b[0m \u001b[0mscore\u001b[0m \u001b[0;32min\u001b[0m \u001b[0menumerate\u001b[0m\u001b[0;34m(\u001b[0m\u001b[0mf1\u001b[0m\u001b[0;34m)\u001b[0m\u001b[0;34m:\u001b[0m\u001b[0;34m\u001b[0m\u001b[0;34m\u001b[0m\u001b[0m\n\u001b[1;32m     14\u001b[0m             \u001b[0;32mif\u001b[0m \u001b[0mscore\u001b[0m \u001b[0;34m>\u001b[0m \u001b[0msim_thres\u001b[0m\u001b[0;34m:\u001b[0m\u001b[0;34m\u001b[0m\u001b[0;34m\u001b[0m\u001b[0m\n",
      "\u001b[0;32m/home/nguyen/.local/lib/python3.7/site-packages/bert_score/scorer.py\u001b[0m in \u001b[0;36mscore\u001b[0;34m(self, cands, refs, verbose, batch_size, return_hash)\u001b[0m\n\u001b[1;32m    217\u001b[0m             \u001b[0mdevice\u001b[0m\u001b[0;34m=\u001b[0m\u001b[0mself\u001b[0m\u001b[0;34m.\u001b[0m\u001b[0mdevice\u001b[0m\u001b[0;34m,\u001b[0m\u001b[0;34m\u001b[0m\u001b[0;34m\u001b[0m\u001b[0m\n\u001b[1;32m    218\u001b[0m             \u001b[0mbatch_size\u001b[0m\u001b[0;34m=\u001b[0m\u001b[0mbatch_size\u001b[0m\u001b[0;34m,\u001b[0m\u001b[0;34m\u001b[0m\u001b[0;34m\u001b[0m\u001b[0m\n\u001b[0;32m--> 219\u001b[0;31m             \u001b[0mall_layers\u001b[0m\u001b[0;34m=\u001b[0m\u001b[0mself\u001b[0m\u001b[0;34m.\u001b[0m\u001b[0mall_layers\u001b[0m\u001b[0;34m,\u001b[0m\u001b[0;34m\u001b[0m\u001b[0;34m\u001b[0m\u001b[0m\n\u001b[0m\u001b[1;32m    220\u001b[0m         ).cpu()\n\u001b[1;32m    221\u001b[0m \u001b[0;34m\u001b[0m\u001b[0m\n",
      "\u001b[0;32m/home/nguyen/.local/lib/python3.7/site-packages/bert_score/utils.py\u001b[0m in \u001b[0;36mbert_cos_score_idf\u001b[0;34m(model, refs, hyps, tokenizer, idf_dict, verbose, batch_size, device, all_layers)\u001b[0m\n\u001b[1;32m    396\u001b[0m             \u001b[0msen_batch\u001b[0m\u001b[0;34m,\u001b[0m \u001b[0mmodel\u001b[0m\u001b[0;34m,\u001b[0m \u001b[0mtokenizer\u001b[0m\u001b[0;34m,\u001b[0m \u001b[0midf_dict\u001b[0m\u001b[0;34m,\u001b[0m \u001b[0mdevice\u001b[0m\u001b[0;34m=\u001b[0m\u001b[0mdevice\u001b[0m\u001b[0;34m,\u001b[0m \u001b[0mall_layers\u001b[0m\u001b[0;34m=\u001b[0m\u001b[0mall_layers\u001b[0m\u001b[0;34m\u001b[0m\u001b[0;34m\u001b[0m\u001b[0m\n\u001b[1;32m    397\u001b[0m         )\n\u001b[0;32m--> 398\u001b[0;31m         \u001b[0membs\u001b[0m \u001b[0;34m=\u001b[0m \u001b[0membs\u001b[0m\u001b[0;34m.\u001b[0m\u001b[0mcpu\u001b[0m\u001b[0;34m(\u001b[0m\u001b[0;34m)\u001b[0m\u001b[0;34m\u001b[0m\u001b[0;34m\u001b[0m\u001b[0m\n\u001b[0m\u001b[1;32m    399\u001b[0m         \u001b[0mmasks\u001b[0m \u001b[0;34m=\u001b[0m \u001b[0mmasks\u001b[0m\u001b[0;34m.\u001b[0m\u001b[0mcpu\u001b[0m\u001b[0;34m(\u001b[0m\u001b[0;34m)\u001b[0m\u001b[0;34m\u001b[0m\u001b[0;34m\u001b[0m\u001b[0m\n\u001b[1;32m    400\u001b[0m         \u001b[0mpadded_idf\u001b[0m \u001b[0;34m=\u001b[0m \u001b[0mpadded_idf\u001b[0m\u001b[0;34m.\u001b[0m\u001b[0mcpu\u001b[0m\u001b[0;34m(\u001b[0m\u001b[0;34m)\u001b[0m\u001b[0;34m\u001b[0m\u001b[0;34m\u001b[0m\u001b[0m\n",
      "\u001b[0;31mKeyboardInterrupt\u001b[0m: "
     ]
    }
   ],
   "source": [
    "print(\"#buckets: {}\".format(len(buckets)))\n",
    "k = 0\n",
    "graph = {}\n",
    "sim_thres = 0.1\n",
    "for b in buckets:\n",
    "\n",
    "    print(\"Bucket: \", b)\n",
    "    # compute bert_score and build graph\n",
    "    for i in range(len(b)-1):\n",
    "        _, _, f1 = scorer.score([sents[b[i]]]*len(refs), list(sents[refs]))\n",
    "        for idx, score in enumerate(f1):\n",
    "            if score > sim_thres:\n",
    "                if b[i] not in graph:\n",
    "                    graph[b[i]] = {}\n",
    "                if b[idx] not in graph:\n",
    "                    graph[b[idx]] = {}\n",
    "                graph[b[i]][b[idx]] = score\n",
    "                graph[b[idx]][b[i]] = score\n",
    "    k+=1"
   ]
  },
  {
   "cell_type": "code",
   "execution_count": null,
   "metadata": {},
   "outputs": [],
   "source": []
  }
 ],
 "metadata": {
  "kernelspec": {
   "display_name": "Python 3",
   "language": "python",
   "name": "python3"
  },
  "language_info": {
   "codemirror_mode": {
    "name": "ipython",
    "version": 3
   },
   "file_extension": ".py",
   "mimetype": "text/x-python",
   "name": "python",
   "nbconvert_exporter": "python",
   "pygments_lexer": "ipython3",
   "version": "3.7.3"
  }
 },
 "nbformat": 4,
 "nbformat_minor": 2
}
