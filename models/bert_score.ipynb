{
 "cells": [
  {
   "cell_type": "code",
   "execution_count": 1,
   "metadata": {},
   "outputs": [],
   "source": [
    "from bert_score import BERTScorer\n",
    "import numpy as np\n",
    "import pandas as pd\n",
    "from nltk.corpus import stopwords\n",
    "from sklearn.feature_extraction.text import TfidfVectorizer\n",
    "from lsh import LSH\n",
    "from fast_lexrank import Lexrank\n",
    "import time, emoji, string\n",
    "import re"
   ]
  },
  {
   "cell_type": "code",
   "execution_count": 2,
   "metadata": {},
   "outputs": [
    {
     "name": "stdout",
     "output_type": "stream",
     "text": [
      "                   Id                                              Tweet\n",
      "0  824941360449015808  RT @MENTION : Emergency Rally Against Trump's ...\n",
      "1  824941519857610752  RT @MENTION : Theresa May has not apologized t...\n",
      "2  824941616314122240  RT @MENTION : Trump's Immigration Ban Excludes...\n",
      "3  824942056741167105  RT @MENTION : Trump's immigration order expand...\n",
      "4  824942966875774976  ALERT : Senator John McCain Threatens Action O...\n",
      "(123385, 2)\n"
     ]
    }
   ],
   "source": [
    "# read data\n",
    "data = pd.read_csv('/home/nguyen/data/processed_travel_ban.csv')\n",
    "print(data.head())\n",
    "print(data.shape)"
   ]
  },
  {
   "cell_type": "code",
   "execution_count": 3,
   "metadata": {},
   "outputs": [
    {
     "name": "stdout",
     "output_type": "stream",
     "text": [
      "                   Id                                              Tweet  \\\n",
      "0  824941360449015808  emergency rally against trump's muslim travel ...   \n",
      "1  824941519857610752  theresa may has not apologized to trump for in...   \n",
      "2  824941616314122240  trump's immigration ban excludes countries wit...   \n",
      "3  824942056741167105  trump's immigration order expands the definiti...   \n",
      "4  824942966875774976  alert : senator john mccain threatens action o...   \n",
      "\n",
      "                                              Tweet1  uniWPercent  \n",
      "0  emergency rally trumps muslim travel ban nyc 1...           10  \n",
      "1  theresa may apologized trump insulting fails t...           11  \n",
      "2  trumps immigration ban excludes countries busi...            9  \n",
      "3  trumps immigration order expands definition cr...            6  \n",
      "4  alert senator john mccain threatens action pre...            8  \n"
     ]
    }
   ],
   "source": [
    "# remove rt, @USER, @URL, emoji\n",
    "data['Tweet'] = data['Tweet'].apply(lambda x: x.replace('@MENTION', \"\").replace(\"@URL\", \"\").\n",
    "                                    replace(\"@EMAIL\", \"\").lower())\n",
    "data['Tweet'] = data['Tweet'].apply(lambda x: re.sub(\"^ ?(rt ?)+\", \"\", x))                              \n",
    "data['Tweet'] = data['Tweet'].apply(lambda x: re.sub('^( ?: ?)', '', x))\n",
    "data['Tweet'] = data['Tweet'].apply(lambda x: re.sub(\"  +\", \" \", x))\n",
    "data['Tweet'] = data['Tweet'].apply(lambda x: ''.join(c for c in x if c not in emoji.UNICODE_EMOJI).strip())\n",
    "# remove stopwords, punctuation\n",
    "stopWords = stopwords.words('english')\n",
    "data['Tweet1'] = data['Tweet'].apply(lambda x: ' '.join(y for y in x.split(\" \") if y not in stopWords))\n",
    "data['Tweet1'] = data['Tweet1'].apply(lambda x: x.translate(str.maketrans('', '',  string.punctuation)))\n",
    "data['Tweet1'] = data['Tweet1'].apply(lambda x: re.sub('“|…|’|‘|”|—|→', \"\", x))\n",
    "data['Tweet1'] = data['Tweet1'].apply(lambda x: re.sub(' +', ' ',x).strip())\n",
    "\n",
    "# remove tweets #unique words less than haft of length\n",
    "data['uniWPercent'] = data['Tweet1'].apply(lambda x: 0 if len(set(x.split(\" \")))/len(x.split(\" \")) <= 0.5 else len(x.split(\" \")))\n",
    "data = data[data['uniWPercent']!=0]\n",
    "# # remove tweets with lengths < 3, duplicates\n",
    "while data['uniWPercent'].min() <=2:\n",
    "    data = data[data['uniWPercent'] >2]\n",
    "    data['uniWPercent'] = data['Tweet1'].apply(lambda x: 0 if len(set(x.split(\" \")))/len(x.split(\" \")) <= 0.5 else len(x.split(\" \")))\n",
    "# # # remove duplicates\n",
    "data.drop_duplicates(subset=['Tweet1'], keep='first', inplace = True)\n",
    "print(data.head())"
   ]
  },
  {
   "cell_type": "code",
   "execution_count": 4,
   "metadata": {},
   "outputs": [
    {
     "data": {
      "text/plain": [
       "(105175, 4)"
      ]
     },
     "execution_count": 4,
     "metadata": {},
     "output_type": "execute_result"
    }
   ],
   "source": [
    "data.shape"
   ]
  },
  {
   "cell_type": "code",
   "execution_count": 5,
   "metadata": {},
   "outputs": [],
   "source": [
    "remained_index = data.index"
   ]
  },
  {
   "cell_type": "code",
   "execution_count": 6,
   "metadata": {},
   "outputs": [],
   "source": [
    "data = data.reset_index(drop=True)"
   ]
  },
  {
   "cell_type": "code",
   "execution_count": 7,
   "metadata": {},
   "outputs": [
    {
     "data": {
      "text/plain": [
       "(105175, 4)"
      ]
     },
     "execution_count": 7,
     "metadata": {},
     "output_type": "execute_result"
    }
   ],
   "source": [
    "data.shape"
   ]
  },
  {
   "cell_type": "code",
   "execution_count": 8,
   "metadata": {},
   "outputs": [],
   "source": [
    "data = data.iloc[0:10000]"
   ]
  },
  {
   "cell_type": "code",
   "execution_count": 9,
   "metadata": {},
   "outputs": [
    {
     "name": "stdout",
     "output_type": "stream",
     "text": [
      "(10000, 13520)\n"
     ]
    }
   ],
   "source": [
    "#extract tfidf vector\n",
    "tfidf = TfidfVectorizer()\n",
    "tfidfData = tfidf.fit_transform(data['Tweet1'])\n",
    "print(tfidfData.shape)"
   ]
  },
  {
   "cell_type": "code",
   "execution_count": 10,
   "metadata": {},
   "outputs": [
    {
     "name": "stdout",
     "output_type": "stream",
     "text": [
      "(10000,)\n"
     ]
    }
   ],
   "source": [
    "lsh_tfidf = LSH(tfidfData)\n",
    "lsh_tfidf.train(num_bits = 8)\n"
   ]
  },
  {
   "cell_type": "code",
   "execution_count": 11,
   "metadata": {},
   "outputs": [],
   "source": [
    "scorer = BERTScorer(lang='en', rescale_with_baseline = True, idf = True, idf_sents = list(data['Tweet']), device='cuda:3')"
   ]
  },
  {
   "cell_type": "code",
   "execution_count": null,
   "metadata": {},
   "outputs": [
    {
     "name": "stdout",
     "output_type": "stream",
     "text": [
      "#buckets: 256\n",
      ".......buck: 0, len: 40, time: 1.6689300537109375e-06\n",
      ".......buck: 50, len: 19, time: 198.7289297580719\n"
     ]
    }
   ],
   "source": [
    "%%time\n",
    "lex_tfidf = Lexrank(np.array(data['Tweet']), lsh_tfidf)\n",
    "lex_tfidf.build_graph_bert_score(scorer, search_radius = 0, sim_thres = 0.1)"
   ]
  },
  {
   "cell_type": "code",
   "execution_count": null,
   "metadata": {},
   "outputs": [],
   "source": [
    "lex_tfidf.train(lexrank_iter = 100, damping_factor = 0.85)"
   ]
  },
  {
   "cell_type": "code",
   "execution_count": null,
   "metadata": {},
   "outputs": [],
   "source": [
    "sentIds = lex_tfidf.extract_summary(n_sents = 20, cosine_thres=0.5)"
   ]
  },
  {
   "cell_type": "code",
   "execution_count": 20,
   "metadata": {},
   "outputs": [
    {
     "name": "stdout",
     "output_type": "stream",
     "text": [
      "Id #adjacentEdges lexrank\n",
      "0 1708 12 tensor(0.0006)\n",
      "1 1430 20 tensor(0.0005)\n",
      "2 373 16 tensor(0.0005)\n",
      "3 214 10 tensor(0.0005)\n",
      "4 1689 12 tensor(0.0005)\n",
      "5 417 8 tensor(0.0004)\n",
      "6 3080 8 tensor(0.0004)\n",
      "7 25 11 tensor(0.0004)\n",
      "8 1369 7 tensor(0.0004)\n",
      "9 455 10 tensor(0.0004)\n",
      "10 6907 10 tensor(0.0004)\n",
      "11 369 6 tensor(0.0004)\n",
      "12 3029 6 tensor(0.0003)\n",
      "13 80 5 tensor(0.0003)\n",
      "14 6395 6 tensor(0.0003)\n",
      "15 2730 6 tensor(0.0003)\n",
      "16 7144 4 tensor(0.0003)\n",
      "17 1471 14 tensor(0.0003)\n",
      "18 163 12 tensor(0.0003)\n",
      "19 7719 10 tensor(0.0003)\n"
     ]
    }
   ],
   "source": [
    "print(\"Id\", \"#adjacentEdges\", \"lexrank\")\n",
    "for i, idx in enumerate(sentIds):\n",
    "    print(i, idx, len(lex_tfidf.graph[idx]), lex_tfidf.scores[idx])"
   ]
  },
  {
   "cell_type": "code",
   "execution_count": 17,
   "metadata": {},
   "outputs": [
    {
     "name": "stdout",
     "output_type": "stream",
     "text": [
      "0 president trump signs executive order targeting refugees\n",
      "1 trump says syrian christian refugees will be given priority for entering u.s. !\n",
      "2 statement from on trump's immigration executive orders\n",
      "3 link : trump's radical immigration plan : enforce the law .\n",
      "4 president trump has signed an executive action implementing \" new vetting measures \" for immigrants …\n",
      "5 breaking : president trump expected to sign executive order restricting immigration from 7 muslim countries !\n",
      "6 the disastrous consequences of trump’s new immigration rules\n",
      "7 trump's immigration ban excludes countries with business ties via\n",
      "8 take action against trump's executive order slamming the door on refugees .\n",
      "9 watch prime minister theresa may’s meeting with president trump\n",
      "10 refugees challenge trump executive order after being detained at u.s. airports\n",
      "11 trump’s proposed refugee ban would abandon iraqis who risked their lives working for the u.s. military …\n",
      "12 #trump trump suspends refugee entry , vows priority for christians\n",
      "13 leaked : read the full draft of trump executive order restricting muslim entry into #usa - #border\n",
      "14 refugees detained at u.s. airports , prompting legal challenges to trump’s immigration order , via\n",
      "15 read the full text of trump's executive order limiting muslim entry to the u.s. …\n",
      "16 #atlhomeinvasion house party tonight ️ everyone free til 11 free drinks| 3810 austin ct atlanta ga 30331 2\n",
      "17 trump says syrian christian refugees will be given priority for entering u.s. !  see her …\n",
      "18 trump's first week : the executive orders donald trump has signed so far and what they mean …\n",
      "19 refugees detained at u.s. airports challenge trump’s executive order\n"
     ]
    }
   ],
   "source": [
    "# with idf\n",
    "for i, idx in enumerate(sentIds):\n",
    "    print(i, data.iloc[idx]['Tweet'])"
   ]
  },
  {
   "cell_type": "code",
   "execution_count": null,
   "metadata": {},
   "outputs": [],
   "source": [
    "following trump’s executive order , green card , visa holders already blocked at airports …\n",
    "1 trump executive order : refugees detained at us airports follow for more\n",
    "2 trump signs executive order for ‘ extreme vetting ’ of refugees\n",
    "3 trump executive order : refugees detained at us airports\n",
    "4 trump's state visit to the uk :\n",
    "5 list of trump's executive orders |\n",
    "6 trump executive order : refugees detained at us airports - bbc news\n",
    "7 breaking : prime minister theresa may has arrived at the white house for talks with president trump .\n",
    "8 trump signs executive actions on immigration , military\n",
    "9 president trump signs executive order temporarily halting all refugees\n",
    "10 trump signs ' new vetting ' immigration order\n",
    "11 trump says syrian christian refugees will be given priority for entering u.s. !\n",
    "12 ' we don't want them here ' president trump signs executive order for ' extreme vetting ' of refugees …\n",
    "13 trump’s immigration ban excludes countries with business ties\n",
    "14 breaking : trump to sign executive order today to temporarily halt refugees from some muslim-majority countries - white house\n",
    "15 trump orders ' extreme vetting ' of refugees\n",
    "16 refugees on the way to the u.s. when president trump's executive order was signed were detained at airports …\n",
    "17 trump signs ' extreme vetting ' order to block refugees\n",
    "18 prime minister theresa may arrives at the white house for a meeting with president donald trump\n",
    "19 donald trump has gone too far for dick cheney . dick cheney !!! that dick cheney ."
   ]
  },
  {
   "cell_type": "code",
   "execution_count": 21,
   "metadata": {},
   "outputs": [
    {
     "data": {
      "text/plain": [
       "{318: tensor(0.4154),\n",
       " 721: tensor(0.1207),\n",
       " 1072: tensor(0.4366),\n",
       " 2981: tensor(0.2801),\n",
       " 3612: tensor(0.1630),\n",
       " 4336: tensor(0.3717),\n",
       " 4422: tensor(0.1017),\n",
       " 4492: tensor(0.1199),\n",
       " 4604: tensor(0.1046),\n",
       " 6040: tensor(0.4027),\n",
       " 6088: tensor(0.1614),\n",
       " 7588: tensor(0.2022)}"
      ]
     },
     "execution_count": 21,
     "metadata": {},
     "output_type": "execute_result"
    }
   ],
   "source": [
    "lex_tfidf.graph[1708]"
   ]
  },
  {
   "cell_type": "code",
   "execution_count": 18,
   "metadata": {},
   "outputs": [
    {
     "data": {
      "text/plain": [
       "{3083: tensor(0.2183),\n",
       " 4099: tensor(0.2883),\n",
       " 4318: tensor(0.3272),\n",
       " 4593: tensor(0.3452),\n",
       " 4962: tensor(0.1903),\n",
       " 5040: tensor(0.1836),\n",
       " 5144: tensor(0.1750),\n",
       " 6179: tensor(0.2547),\n",
       " 6600: tensor(0.1153),\n",
       " 6698: tensor(0.3994),\n",
       " 6907: tensor(0.2541),\n",
       " 7123: tensor(0.1382),\n",
       " 7353: tensor(0.6009)}"
      ]
     },
     "execution_count": 18,
     "metadata": {},
     "output_type": "execute_result"
    }
   ],
   "source": [
    "lex_tfidf.graph[4375] #first tweet of tfidf model"
   ]
  },
  {
   "cell_type": "code",
   "execution_count": null,
   "metadata": {},
   "outputs": [],
   "source": []
  },
  {
   "cell_type": "code",
   "execution_count": null,
   "metadata": {},
   "outputs": [],
   "source": []
  },
  {
   "cell_type": "code",
   "execution_count": null,
   "metadata": {},
   "outputs": [],
   "source": []
  },
  {
   "cell_type": "code",
   "execution_count": null,
   "metadata": {},
   "outputs": [],
   "source": [
    "following trump’s executive order , green card , visa holders already blocked at airports …\n",
    "1 trump executive order : refugees detained at us airports follow for more\n",
    "2 trump signs executive order for ‘ extreme vetting ’ of refugees\n",
    "3 trump executive order : refugees detained at us airports\n",
    "4 trump's state visit to the uk :\n",
    "5 list of trump's executive orders |\n",
    "6 trump executive order : refugees detained at us airports - bbc news\n",
    "7 breaking : prime minister theresa may has arrived at the white house for talks with president trump .\n",
    "8 trump signs executive actions on immigration , military\n",
    "9 president trump signs executive order temporarily halting all refugees\n",
    "10 trump signs ' new vetting ' immigration order\n",
    "11 trump says syrian christian refugees will be given priority for entering u.s. !\n",
    "12 ' we don't want them here ' president trump signs executive order for ' extreme vetting ' of refugees …\n",
    "13 trump’s immigration ban excludes countries with business ties\n",
    "14 breaking : trump to sign executive order today to temporarily halt refugees from some muslim-majority countries - white house\n",
    "15 trump orders ' extreme vetting ' of refugees\n",
    "16 refugees on the way to the u.s. when president trump's executive order was signed were detained at airports …\n",
    "17 trump signs ' extreme vetting ' order to block refugees\n",
    "18 prime minister theresa may arrives at the white house for a meeting with president donald trump\n",
    "19 donald trump has gone too far for dick cheney . dick cheney !!! that dick cheney ."
   ]
  },
  {
   "cell_type": "code",
   "execution_count": null,
   "metadata": {},
   "outputs": [],
   "source": []
  },
  {
   "cell_type": "code",
   "execution_count": 21,
   "metadata": {},
   "outputs": [
    {
     "name": "stdout",
     "output_type": "stream",
     "text": [
      "0 not everyone in the u.k. is overjoyed about may’s meeting with trump\n",
      "1 link : trump's radical immigration plan : enforce the law .\n",
      "2 the real danger is the rippling effect of trump’s ban on syrian refugees , both abroad and in the u.s.\n",
      "3 take action against trump's executive order slamming the door on refugees .\n",
      "4 trump’s proposed refugee ban would abandon iraqis who risked their lives working for the u.s. military …\n",
      "5 president trump signs executive order targeting refugees\n",
      "6 trump says syrian christian refugees will be given priority for entering u.s. !\n",
      "7 read the full text of trump's executive order limiting muslim entry to the u.s. …\n",
      "8 breaking : president trump expected to sign executive order restricting immigration from 7 muslim countries !\n",
      "9 entire senior management of state department quit in apparent gesture of defiance to trump …\n",
      "10 wsj : trump signs executive action that he says would keep “ radical islamic terrorists ” out of the u.s.\n",
      "11 donald trump and theresa may hold joint white house press conference - politics live\n",
      "12 i generally keep my political commentary to a minimum . but trump's refugee ban is un-american .\n",
      "13 president trump has signed an executive action implementing \" new vetting measures \" for immigrants …\n",
      "14 #breakingnews trump signs executive action for \" new vetting measures \" to keep out \" radical islamic terrorists \" …\n",
      "15 the disastrous consequences of trump’s new immigration rules\n",
      "16 leaked : read the full draft of trump executive order restricting muslim entry into #usa - #border\n",
      "17 syrians are heartbroken after hearing trump’s plan to ban refugees from the us via\n",
      "18 warren : trump's refugee ban is a \" betrayal of american values \"\n",
      "19 trump is banning refugees from muslim countries . except those linked to his business\n"
     ]
    }
   ],
   "source": [
    "# without idf\n",
    "for i, idx in enumerate(sentIds):\n",
    "    print(i, data.iloc[idx]['Tweet'])"
   ]
  },
  {
   "cell_type": "code",
   "execution_count": 29,
   "metadata": {},
   "outputs": [
    {
     "data": {
      "text/html": [
       "<div>\n",
       "<style scoped>\n",
       "    .dataframe tbody tr th:only-of-type {\n",
       "        vertical-align: middle;\n",
       "    }\n",
       "\n",
       "    .dataframe tbody tr th {\n",
       "        vertical-align: top;\n",
       "    }\n",
       "\n",
       "    .dataframe thead th {\n",
       "        text-align: right;\n",
       "    }\n",
       "</style>\n",
       "<table border=\"1\" class=\"dataframe\">\n",
       "  <thead>\n",
       "    <tr style=\"text-align: right;\">\n",
       "      <th></th>\n",
       "      <th>Id</th>\n",
       "      <th>Tweet</th>\n",
       "      <th>Tweet1</th>\n",
       "      <th>uniWPercent</th>\n",
       "    </tr>\n",
       "  </thead>\n",
       "  <tbody>\n",
       "    <tr>\n",
       "      <th>1216</th>\n",
       "      <td>825064765261176832</td>\n",
       "      <td>company sent out a notice about trump's muslim...</td>\n",
       "      <td>company sent notice trumps muslim ban green ca...</td>\n",
       "      <td>10</td>\n",
       "    </tr>\n",
       "    <tr>\n",
       "      <th>2323</th>\n",
       "      <td>825137645504172032</td>\n",
       "      <td>visas being denied immediately . chaos at airp...</td>\n",
       "      <td>visas denied immediately chaos airports air mu...</td>\n",
       "      <td>13</td>\n",
       "    </tr>\n",
       "    <tr>\n",
       "      <th>2419</th>\n",
       "      <td>825141021906382848</td>\n",
       "      <td>ban applies if you have a visa , green card , ...</td>\n",
       "      <td>ban applies visa green card even dual citizen ...</td>\n",
       "      <td>9</td>\n",
       "    </tr>\n",
       "    <tr>\n",
       "      <th>2609</th>\n",
       "      <td>825147334342303745</td>\n",
       "      <td>current concern : what about people with green...</td>\n",
       "      <td>current concern people green cards currently a...</td>\n",
       "      <td>13</td>\n",
       "    </tr>\n",
       "    <tr>\n",
       "      <th>2755</th>\n",
       "      <td>825152564652081157</td>\n",
       "      <td>many elderly come to green card interview with...</td>\n",
       "      <td>many elderly come green card interview suit ti...</td>\n",
       "      <td>12</td>\n",
       "    </tr>\n",
       "    <tr>\n",
       "      <th>...</th>\n",
       "      <td>...</td>\n",
       "      <td>...</td>\n",
       "      <td>...</td>\n",
       "      <td>...</td>\n",
       "    </tr>\n",
       "    <tr>\n",
       "      <th>9902</th>\n",
       "      <td>825405997065830402</td>\n",
       "      <td>i want to repeat : green card holders were han...</td>\n",
       "      <td>want repeat green card holders handcuffed soci...</td>\n",
       "      <td>12</td>\n",
       "    </tr>\n",
       "    <tr>\n",
       "      <th>9918</th>\n",
       "      <td>825406219376525312</td>\n",
       "      <td>dems , where is your response to what is happe...</td>\n",
       "      <td>dems response happening wrt muslimban refugees...</td>\n",
       "      <td>12</td>\n",
       "    </tr>\n",
       "    <tr>\n",
       "      <th>9922</th>\n",
       "      <td>825406307452801028</td>\n",
       "      <td>green card holders included in trump ban : hom...</td>\n",
       "      <td>green card holders included trump ban homeland...</td>\n",
       "      <td>9</td>\n",
       "    </tr>\n",
       "    <tr>\n",
       "      <th>9975</th>\n",
       "      <td>825406932395626497</td>\n",
       "      <td>and here .... green card holders , too . may w...</td>\n",
       "      <td>green card holders may whatever god universe b...</td>\n",
       "      <td>9</td>\n",
       "    </tr>\n",
       "    <tr>\n",
       "      <th>9996</th>\n",
       "      <td>825407305701208064</td>\n",
       "      <td>dear international community : in cities aroun...</td>\n",
       "      <td>dear international community cities around wor...</td>\n",
       "      <td>14</td>\n",
       "    </tr>\n",
       "  </tbody>\n",
       "</table>\n",
       "<p>147 rows × 4 columns</p>\n",
       "</div>"
      ],
      "text/plain": [
       "                      Id                                              Tweet  \\\n",
       "1216  825064765261176832  company sent out a notice about trump's muslim...   \n",
       "2323  825137645504172032  visas being denied immediately . chaos at airp...   \n",
       "2419  825141021906382848  ban applies if you have a visa , green card , ...   \n",
       "2609  825147334342303745  current concern : what about people with green...   \n",
       "2755  825152564652081157  many elderly come to green card interview with...   \n",
       "...                  ...                                                ...   \n",
       "9902  825405997065830402  i want to repeat : green card holders were han...   \n",
       "9918  825406219376525312  dems , where is your response to what is happe...   \n",
       "9922  825406307452801028  green card holders included in trump ban : hom...   \n",
       "9975  825406932395626497  and here .... green card holders , too . may w...   \n",
       "9996  825407305701208064  dear international community : in cities aroun...   \n",
       "\n",
       "                                                 Tweet1  uniWPercent  \n",
       "1216  company sent notice trumps muslim ban green ca...           10  \n",
       "2323  visas denied immediately chaos airports air mu...           13  \n",
       "2419  ban applies visa green card even dual citizen ...            9  \n",
       "2609  current concern people green cards currently a...           13  \n",
       "2755  many elderly come green card interview suit ti...           12  \n",
       "...                                                 ...          ...  \n",
       "9902  want repeat green card holders handcuffed soci...           12  \n",
       "9918  dems response happening wrt muslimban refugees...           12  \n",
       "9922  green card holders included trump ban homeland...            9  \n",
       "9975  green card holders may whatever god universe b...            9  \n",
       "9996  dear international community cities around wor...           14  \n",
       "\n",
       "[147 rows x 4 columns]"
      ]
     },
     "execution_count": 29,
     "metadata": {},
     "output_type": "execute_result"
    }
   ],
   "source": [
    "data[data['Tweet'].str.contains('green card')]"
   ]
  },
  {
   "cell_type": "code",
   "execution_count": null,
   "metadata": {},
   "outputs": [],
   "source": []
  }
 ],
 "metadata": {
  "kernelspec": {
   "display_name": "Python 3",
   "language": "python",
   "name": "python3"
  },
  "language_info": {
   "codemirror_mode": {
    "name": "ipython",
    "version": 3
   },
   "file_extension": ".py",
   "mimetype": "text/x-python",
   "name": "python",
   "nbconvert_exporter": "python",
   "pygments_lexer": "ipython3",
   "version": "3.7.3"
  }
 },
 "nbformat": 4,
 "nbformat_minor": 2
}
