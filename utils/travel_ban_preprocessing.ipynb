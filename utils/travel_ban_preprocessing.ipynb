{
 "cells": [
  {
   "cell_type": "code",
   "execution_count": 4,
   "metadata": {},
   "outputs": [],
   "source": [
    "import os\n",
    "import sys\n",
    "\n",
    "nlp_path = os.path.abspath('../')\n",
    "if nlp_path not in sys.path:\n",
    "    sys.path.insert(0, nlp_path)\n",
    "    "
   ]
  },
  {
   "cell_type": "code",
   "execution_count": 5,
   "metadata": {},
   "outputs": [
    {
     "data": {
      "text/plain": [
       "'/dstore/home/nguyen/tweet_summarization'"
      ]
     },
     "execution_count": 5,
     "metadata": {},
     "output_type": "execute_result"
    }
   ],
   "source": [
    "nlp_path"
   ]
  },
  {
   "cell_type": "code",
   "execution_count": 6,
   "metadata": {},
   "outputs": [],
   "source": [
    "from utils import tokenizeRawTweetText"
   ]
  },
  {
   "cell_type": "code",
   "execution_count": 7,
   "metadata": {},
   "outputs": [],
   "source": [
    "import pandas as pd\n",
    "WORK_DIR = \"/home/nguyen/\"\n",
    "RAW_DATA = \"data/travel_ban.txt\"\n",
    "PROCESSED_DATA = \"data/processed_travel_ban.csv\""
   ]
  },
  {
   "cell_type": "code",
   "execution_count": 8,
   "metadata": {},
   "outputs": [],
   "source": [
    "# Read raw dataset, process and print to file\n",
    "def read_and_print_data():\n",
    "    file = open(WORK_DIR+RAW_DATA, \"r\")\n",
    "    lines = file.readlines()\n",
    "    data = []\n",
    "    i=0\n",
    "    for line in lines:\n",
    "       \n",
    "        s = line.split(\"\\t\")\n",
    "        tweetId = s[0]\n",
    "        text = s[4]\n",
    "        text = ' '.join(tokenizeRawTweetText(text))\n",
    "#         print(tweetId, text)\n",
    "#         break\n",
    "        data.append([tweetId, text])\n",
    "        i+=1\n",
    "        if i %1000 ==0:\n",
    "            print(\"Line {}: {}, label: {}\\n\".format(i, tweetId, text))\n",
    "            break\n",
    "    output = pd.DataFrame(data, columns=['Id', 'Tweet'])\n",
    "    \n",
    "    output.to_csv(WORK_DIR+PROCESSED_DATA, index=False)\n",
    "    file.close()\n",
    "    \n",
    "    \n"
   ]
  },
  {
   "cell_type": "code",
   "execution_count": 9,
   "metadata": {},
   "outputs": [
    {
     "name": "stdout",
     "output_type": "stream",
     "text": [
      "Line 1000: 825046054500433925, label: RT @MENTION : Theresa May speaking about several issues in her press conference with Donald Trump saying no tangible thing about issues .\n",
      "\n"
     ]
    }
   ],
   "source": [
    "read_and_print_data()"
   ]
  },
  {
   "cell_type": "code",
   "execution_count": null,
   "metadata": {},
   "outputs": [],
   "source": []
  }
 ],
 "metadata": {
  "kernelspec": {
   "display_name": "Python 3",
   "language": "python",
   "name": "python3"
  },
  "language_info": {
   "codemirror_mode": {
    "name": "ipython",
    "version": 3
   },
   "file_extension": ".py",
   "mimetype": "text/x-python",
   "name": "python",
   "nbconvert_exporter": "python",
   "pygments_lexer": "ipython3",
   "version": "3.7.3"
  }
 },
 "nbformat": 4,
 "nbformat_minor": 2
}
