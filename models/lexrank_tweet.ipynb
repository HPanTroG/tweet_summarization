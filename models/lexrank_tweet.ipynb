{
 "cells": [
  {
   "cell_type": "markdown",
   "metadata": {},
   "source": [
    "# Summarization\n",
    "1. Built-in Textrank with gensim\n",
    "2. Built-in Lexrank\n",
    "3. Lexrank with tfidf & LSH\n",
    "4. Lexrank with sentence embedding & LSH"
   ]
  },
  {
   "cell_type": "code",
   "execution_count": 1,
   "metadata": {},
   "outputs": [],
   "source": [
    "# %pip install emoji"
   ]
  },
  {
   "cell_type": "code",
   "execution_count": 1,
   "metadata": {},
   "outputs": [],
   "source": [
    "import os\n",
    "import sys\n",
    "\n",
    "nlp_path = os.path.abspath('../')\n",
    "if nlp_path not in sys.path:\n",
    "    sys.path.insert(0, nlp_path)\n",
    "from utils import tokenizeRawTweetText"
   ]
  },
  {
   "cell_type": "code",
   "execution_count": 2,
   "metadata": {},
   "outputs": [],
   "source": [
    "from numpy.linalg import norm\n",
    "from fast_pagerank import pagerank\n",
    "from sklearn.feature_extraction.text import TfidfVectorizer\n",
    "from itertools import combinations\n",
    "from sklearn.metrics.pairwise import cosine_similarity\n",
    "# from sentence_transformers import SentenceTransformer\n",
    "from nltk.stem import WordNetLemmatizer\n",
    "from nltk.corpus import stopwords\n",
    "from fast_lexrank import Lexrank\n",
    "import numpy as np\n",
    "from utils.lsh import LSH\n",
    "import pandas as pd\n",
    "import scipy\n",
    "import pickle\n",
    "import time\n",
    "import re\n",
    "import emoji, string\n",
    "# import nltk\n",
    "# nltk.download('stopwords')"
   ]
  },
  {
   "cell_type": "code",
   "execution_count": 3,
   "metadata": {},
   "outputs": [
    {
     "name": "stdout",
     "output_type": "stream",
     "text": [
      "               tweet id                                              tweet  \\\n",
      "0  '262596552399396864'  I've got enough candles to supply a Mexican fa...   \n",
      "1  '263044104500420609'  Sandy be soooo mad that she be shattering our ...   \n",
      "2  '263309629973491712'  @ibexgirl thankfully Hurricane Waugh played it...   \n",
      "3  '263422851133079552'  @taos you never got that magnificent case of B...   \n",
      "4  '262404311223504896'  I'm at Mad River Bar &amp; Grille (New York, N...   \n",
      "\n",
      "       label  \n",
      "0  off-topic  \n",
      "1   on-topic  \n",
      "2  off-topic  \n",
      "3  off-topic  \n",
      "4  off-topic  \n",
      "(10008, 3)\n"
     ]
    }
   ],
   "source": [
    "# read data\n",
    "# data = pd.read_csv('/home/ehoang/hnt/data/processed_travel_ban.csv')\n",
    "data = pd.read_csv('/home/ehoang/git/python/tweet_classification/data/CrisisLexT6/2012_Sandy_Hurricane/2012_Sandy_Hurricane-ontopic_offtopic.csv')\n",
    "print(data.head())\n",
    "print(data.shape)"
   ]
  },
  {
   "cell_type": "code",
   "execution_count": 4,
   "metadata": {},
   "outputs": [
    {
     "data": {
      "text/plain": [
       "(6138, 3)"
      ]
     },
     "execution_count": 4,
     "metadata": {},
     "output_type": "execute_result"
    }
   ],
   "source": [
    "data.columns = ['TweetId', 'tweet', 'label']\n",
    "data = data[data['label'] == 'on-topic']\n",
    "data.shape"
   ]
  },
  {
   "cell_type": "code",
   "execution_count": 5,
   "metadata": {
    "scrolled": true
   },
   "outputs": [
    {
     "name": "stdout",
     "output_type": "stream",
     "text": [
      "                 TweetId                                              tweet  \\\n",
      "1   '263044104500420609'  Sandy be soooo mad that she be shattering our ...   \n",
      "5   '263101347421888513'  Neighborly duties. @Cory_Kennedy arrives to th...   \n",
      "7   '263298821189156865'  I don't know how I'm getting back to Jersey si...   \n",
      "10  '262914476989358080'  Already flooded so much #SANDY @ Hoboken http:...   \n",
      "12  '262991999911743490'  On that note, i pray that everyone stays safe,...   \n",
      "\n",
      "       label                                              Tweet  \\\n",
      "1   on-topic  sandy be soooo mad that she be shattering our ...   \n",
      "5   on-topic  neighborly duties . arrives to the rescue spor...   \n",
      "7   on-topic  i don't know how i'm getting back to jersey si...   \n",
      "10  on-topic           already flooded so much #sandy @ hoboken   \n",
      "12  on-topic  on that note , i pray that everyone stays safe...   \n",
      "\n",
      "                                               Tweet1  uniWPercent  \n",
      "1   sandy soooo mad shattering doors shiet hurrica...            7  \n",
      "5   neighborly duties arrives rescue sporting spel...           10  \n",
      "7   know im getting back jersey since trains subwa...            9  \n",
      "10                 already flooded much sandy hoboken            5  \n",
      "12  note pray everyone stays safe keeps positive a...            9  \n"
     ]
    }
   ],
   "source": [
    "data['Tweet'] = data['tweet'].apply(lambda x: ' '.join(tokenizeRawTweetText(x)))\n",
    "# remove rt, @USER, @URL, emoji\n",
    "data['Tweet'] = data['Tweet'].apply(lambda x: x.replace('TWEETMENTION', \"\").\n",
    "                                    replace(\"EMAILADDRESS\", \"\").replace('HTTPURL', ''))\n",
    "data['Tweet'] = data['Tweet'].apply(lambda x: x.lower().strip())\n",
    "data['Tweet'] = data['Tweet'].apply(lambda x: re.sub(\"^ ?(rt ?)+\", \"\", x))                              \n",
    "data['Tweet'] = data['Tweet'].apply(lambda x: re.sub('^( ?: ?)', '', x))\n",
    "data['Tweet'] = data['Tweet'].apply(lambda x: re.sub(\"  +\", \" \", x))\n",
    "data['Tweet'] = data['Tweet'].apply(lambda x: ''.join(c for c in x if c not in emoji.UNICODE_EMOJI).strip())\n",
    "# remove stopwords, punctuation\n",
    "stopWords = stopwords.words('english')\n",
    "data['Tweet1'] = data['Tweet'].apply(lambda x: ' '.join(y for y in x.split(\" \") if y not in stopWords))\n",
    "data['Tweet1'] = data['Tweet1'].apply(lambda x: x.translate(str.maketrans('', '',  string.punctuation)))\n",
    "data['Tweet1'] = data['Tweet1'].apply(lambda x: re.sub('“|…|’|‘|”|—|→', \"\", x))\n",
    "data['Tweet1'] = data['Tweet1'].apply(lambda x: re.sub(' +', ' ',x).strip())\n",
    "\n",
    "# remove tweets #unique words less than haft of length\n",
    "data['uniWPercent'] = data['Tweet1'].apply(lambda x: 0 if len(set(x.split(\" \")))/len(x.split(\" \")) <= 0.5 else len(x.split(\" \")))\n",
    "data = data[data['uniWPercent']!=0]\n",
    "# # remove tweets with lengths < 3, duplicates\n",
    "while data['uniWPercent'].min() <=2:\n",
    "    data = data[data['uniWPercent'] >2]\n",
    "    data['uniWPercent'] = data['Tweet1'].apply(lambda x: 0 if len(set(x.split(\" \")))/len(x.split(\" \")) <= 0.5 else len(x.split(\" \")))\n",
    "# # # remove duplicates\n",
    "data.drop_duplicates(subset=['Tweet1'], keep='first', inplace = True)\n",
    "print(data.head())"
   ]
  },
  {
   "cell_type": "code",
   "execution_count": 6,
   "metadata": {},
   "outputs": [
    {
     "data": {
      "text/plain": [
       "(5350, 6)"
      ]
     },
     "execution_count": 6,
     "metadata": {},
     "output_type": "execute_result"
    }
   ],
   "source": [
    "data.shape"
   ]
  },
  {
   "cell_type": "code",
   "execution_count": 7,
   "metadata": {},
   "outputs": [],
   "source": [
    "# def lemmatize_stemming(text):\n",
    "#     return WordNetLemmatizer().lemmatize(text, pos='v')\n",
    "# data['Tweet1'] = data['Tweet1'].apply(lambda x: ' '.join(lemmatize_stemming(y) for y in x.split(\" \") if y.strip()!= \"\"))"
   ]
  },
  {
   "cell_type": "code",
   "execution_count": 8,
   "metadata": {},
   "outputs": [],
   "source": [
    "remained_index = data.index"
   ]
  },
  {
   "cell_type": "code",
   "execution_count": 9,
   "metadata": {},
   "outputs": [],
   "source": [
    "data = data.reset_index(drop=True)"
   ]
  },
  {
   "cell_type": "code",
   "execution_count": 10,
   "metadata": {},
   "outputs": [],
   "source": [
    "# data[data['Tweet'].str.contains(\"president trump fires acting attorne\")]"
   ]
  },
  {
   "cell_type": "code",
   "execution_count": 11,
   "metadata": {},
   "outputs": [
    {
     "name": "stdout",
     "output_type": "stream",
     "text": [
      "['sandy soooo mad shattering doors shiet hurricanesandy', 'neighborly duties arrives rescue sporting spelunking equipment sandy 300 squad', 'know im getting back jersey since trains subways running', 'already flooded much sandy hoboken', 'note pray everyone stays safe keeps positive attitude godisgood', 'house creeking mean trying break', 'debating going home prep sandy', '11am going 100 chance rain hurricanesandy', '5 blocks water first two blocks evacuated sounds like train went stay safe thanks', 'crazy gonna lie im kind scared']\n"
     ]
    }
   ],
   "source": [
    "print(list(data.iloc[0:10]['Tweet1']))"
   ]
  },
  {
   "cell_type": "code",
   "execution_count": 12,
   "metadata": {},
   "outputs": [
    {
     "data": {
      "text/plain": [
       "(5350, 6)"
      ]
     },
     "execution_count": 12,
     "metadata": {},
     "output_type": "execute_result"
    }
   ],
   "source": [
    "data.shape"
   ]
  },
  {
   "cell_type": "code",
   "execution_count": 13,
   "metadata": {},
   "outputs": [],
   "source": [
    "data = data.iloc[0:5000]"
   ]
  },
  {
   "cell_type": "markdown",
   "metadata": {},
   "source": [
    "## 1. Lexrank + lsh + tfidf"
   ]
  },
  {
   "cell_type": "code",
   "execution_count": 14,
   "metadata": {},
   "outputs": [
    {
     "name": "stdout",
     "output_type": "stream",
     "text": [
      "(5000, 7918)\n"
     ]
    }
   ],
   "source": [
    "#extract tfidf vector\n",
    "tfidf = TfidfVectorizer()\n",
    "tfidfData = tfidf.fit_transform(data['Tweet1'])\n",
    "print(tfidfData.shape)"
   ]
  },
  {
   "cell_type": "code",
   "execution_count": 15,
   "metadata": {},
   "outputs": [
    {
     "name": "stdout",
     "output_type": "stream",
     "text": [
      "(5000,)\n"
     ]
    }
   ],
   "source": [
    "lsh_tfidf = LSH(tfidfData)\n",
    "lsh_tfidf.train(num_bits = 5)\n"
   ]
  },
  {
   "cell_type": "code",
   "execution_count": 16,
   "metadata": {},
   "outputs": [
    {
     "name": "stdout",
     "output_type": "stream",
     "text": [
      "#buckets: 32\n",
      ".......Buck: 0, vec: (759, 7918)\n",
      "CPU times: user 27.1 s, sys: 4.18 s, total: 31.3 s\n",
      "Wall time: 3.97 s\n"
     ]
    }
   ],
   "source": [
    "%%time\n",
    "lex_tfidf = Lexrank(tfidfData, lsh_tfidf)\n",
    "lex_tfidf.build_graph(search_radius = 1, cosine_sim = 0.3)"
   ]
  },
  {
   "cell_type": "code",
   "execution_count": 17,
   "metadata": {},
   "outputs": [
    {
     "name": "stdout",
     "output_type": "stream",
     "text": [
      "Iteration: 0\n",
      "Iteration: 10\n",
      "Iteration: 20\n",
      "Iteration: 30\n",
      "Iteration: 40\n",
      "Iteration: 50\n",
      "Iteration: 60\n",
      "Iteration: 70\n",
      "Iteration: 80\n",
      "Iteration: 90\n"
     ]
    }
   ],
   "source": [
    "lex_tfidf.train(lexrank_iter = 100, damping_factor = 0.85)"
   ]
  },
  {
   "cell_type": "code",
   "execution_count": 18,
   "metadata": {},
   "outputs": [
    {
     "name": "stdout",
     "output_type": "stream",
     "text": [
      "Extracting sentences....\n",
      "Sent scores: 5000\n",
      "selected one: 3755, 0.002815762292443252\n",
      "selected one: 4886, 0.0012852135678720485\n",
      "Sent 324 is similar to a 3755: 0.825667274731069\n",
      "selected one: 333, 0.0012301626572219628\n",
      "Sent 4485 is similar to a 333: 0.5544264334842268\n",
      "Sent 3668 is similar to a 333: 0.7913595602944599\n",
      "selected one: 3274, 0.0011316542427669603\n",
      "selected one: 4422, 0.0011024537469009595\n",
      "Sent 2741 is similar to a 4422: 0.8985201618411257\n",
      "Sent 4307 is similar to a 4422: 0.6824526293067552\n",
      "selected one: 933, 0.0010907606399100358\n",
      "Sent 1560 is similar to a 3274: 0.5419315686379707\n",
      "selected one: 3104, 0.001017956618676534\n",
      "selected one: 2997, 0.0010087026029462866\n",
      "Sent 4027 is similar to a 333: 0.5370259705042414\n",
      "Sent 3509 is similar to a 4422: 0.8407558739952904\n",
      "Sent 179 is similar to a 333: 0.5039468700194218\n",
      "Sent 2021 is similar to a 3274: 0.5098151219529714\n",
      "selected one: 3316, 0.0009220615371341031\n",
      "selected one: 1792, 0.0009207151391918578\n",
      "selected one: 1244, 0.0008708985391661912\n",
      "selected one: 2884, 0.000847990973540801\n",
      "Sent 1860 is similar to a 4422: 0.5370889346913899\n",
      "selected one: 1820, 0.0008379946437504437\n",
      "Sent 1446 is similar to a 4422: 0.7580735017542514\n",
      "selected one: 4830, 0.0008297303775093536\n",
      "selected one: 1835, 0.0008151748075952774\n",
      "Sent 1395 is similar to a 1835: 0.9717015045177755\n",
      "Sent 4758 is similar to a 333: 0.725835601727317\n",
      "selected one: 1088, 0.0007738980690878252\n",
      "Sent 2026 is similar to a 4422: 0.5023571773457586\n",
      "Sent 3731 is similar to a 4422: 0.5628085853543401\n",
      "selected one: 923, 0.0007612240654215764\n",
      "selected one: 1468, 0.0007530354481963664\n",
      "Sent 4275 is similar to a 333: 0.5881045308276874\n",
      "Sent 1644 is similar to a 3316: 0.642937122615331\n",
      "Sent 4265 is similar to a 3274: 0.6215994455749415\n",
      "Sent 1983 is similar to a 3316: 0.637301611990277\n",
      "Sent 2562 is similar to a 2997: 0.6088173892660688\n",
      "selected one: 2558, 0.0007092230381072004\n",
      "selected one: 3321, 0.0007046751010733506\n"
     ]
    }
   ],
   "source": [
    "sentIds = lex_tfidf.extract_summary(n_sents = 20, cosine_thres=0.5)"
   ]
  },
  {
   "cell_type": "code",
   "execution_count": 19,
   "metadata": {},
   "outputs": [
    {
     "name": "stdout",
     "output_type": "stream",
     "text": [
      "Id #adjacentEdges lexrank\n",
      "0 94 0.002815762292443252\n",
      "1 26 0.0012852135678720485\n",
      "2 65 0.0012301626572219628\n",
      "3 57 0.0011316542427669603\n",
      "4 64 0.0011024537469009595\n",
      "5 20 0.0010907606399100358\n",
      "6 34 0.001017956618676534\n",
      "7 24 0.0010087026029462866\n",
      "8 42 0.0009220615371341031\n",
      "9 51 0.0009207151391918578\n",
      "10 24 0.0008708985391661912\n",
      "11 24 0.000847990973540801\n",
      "12 40 0.0008379946437504437\n",
      "13 19 0.0008297303775093536\n",
      "14 21 0.0008151748075952774\n",
      "15 16 0.0007738980690878252\n",
      "16 13 0.0007612240654215764\n",
      "17 11 0.0007530354481963664\n",
      "18 30 0.0007092230381072004\n",
      "19 17 0.0007046751010733506\n"
     ]
    }
   ],
   "source": [
    "print(\"Id\", \"#adjacentEdges\", \"lexrank\")\n",
    "for i, idx in enumerate(sentIds):\n",
    "    print(i, len(lex_tfidf.graph[idx]), lex_tfidf.scores[idx])"
   ]
  },
  {
   "cell_type": "code",
   "execution_count": 21,
   "metadata": {},
   "outputs": [
    {
     "name": "stdout",
     "output_type": "stream",
     "text": [
      "0 3755 it was a hurricane in new york. ??????\n",
      "1 4886 The hurricane #Sandy is a bitch\n",
      "2 333 i hope everyone is safe\n",
      "3 3274 All you east coast friends stay safe! http://t.co/hJi3q5cn #hurricane #sandy\n",
      "4 4422 My prayers go out to everyone affected by hurricane sandy .. Stay safe !\n",
      "5 933 Hurricane SANDY on its way!!!\n",
      "6 3104 RT @Juan55s: Really? Hurricane Sandy has a twitter.\n",
      "7 2997 I'm not fucking with this hurricane\n",
      "8 3316 RT @ItsManiHoe: Praying for those in hurricane sandy\n",
      "9 1792 RT @FOXSports: For everyone on the East Coast in the path of Hurricane Sandy, please be safe!\n",
      "10 1244 Fuck you Sandy. Fuck you Insomnia. &amp; Fuck you Twitter.\n",
      "11 2884 Hope This Hurricane Is Not Bad '\n",
      "12 1820 @Meowllory6 You're not affected by Hurricane Sandy are you?? Hope not!\n",
      "13 4830 Why didn't the hurricane blow you away? :)))))))))\n",
      "14 1835 Im Not Scared Of Hurricane Sandy\n",
      "15 1088 I cant feel you here hurricane sandy!\n",
      "16 923 And I just lost power... #sandy\n",
      "17 1468 RT @DeBell22: Hurricane #sandy - I'd do you.\n",
      "18 2558 The hurricane sandy tweets Lmao&gt;&gt;&gt;\n",
      "19 3321 This hurricane was serious, Damn!\n"
     ]
    }
   ],
   "source": [
    "# nearby_bin = 0\n",
    "for i, idx in enumerate(sentIds):\n",
    "    print(i, idx, data.iloc[idx]['tweet'])"
   ]
  },
  {
   "cell_type": "code",
   "execution_count": null,
   "metadata": {},
   "outputs": [],
   "source": [
    "0 5324 hurricane sandy for east coast\n",
    "1 3755 it was a hurricane in new york . ??????\n",
    "2 5029 praying for everyone who were affected by hurricane sandy !!! stay safe !\n",
    "3 333 i hope everyone is safe\n",
    "4 4886 the hurricane #sandy is a bitch\n",
    "5 2884 hope this hurricane is not bad '\n",
    "6 933 hurricane sandy on its way !!!\n",
    "7 1832 how you can help after hurricane sandy\\\n",
    "8 5265 there's a hurricane coming ..? where have i been ..\n",
    "9 1395 i'm scared about this hurricane ...\n",
    "10 2997 i'm not fucking with this hurricane\n",
    "11 2003 hurricane sandy isn't funny .\n",
    "12 3448 i want the hurricane to come so we don't have school ..\n",
    "13 5307 prayers for those affected by hurricane sandy\n",
    "14 3565 hurricane sandy : view from above\n",
    "15 3280 no school tomorrow & tuesday . #hurricane\n",
    "16 1468 hurricane #sandy - i'd do you .\n",
    "17 923 and i just lost power ... #sandy\n",
    "18 1401 that hurricane aint gonna be shit\n",
    "19 4830 why didn't the hurricane blow you away ? :)))))))))"
   ]
  },
  {
   "cell_type": "code",
   "execution_count": 24,
   "metadata": {},
   "outputs": [
    {
     "name": "stdout",
     "output_type": "stream",
     "text": [
      "0 2199 here is the \" extreme vetting \" executive order president trump signed\n",
      "1 671 trump : don't ban immigration from muslim majority countries !\n",
      "2 1930 president trump and british prime minister\n",
      "3 2819 statement on donald trump's executive order targeting muslims .\n",
      "4 3164 ' we don't want them here ' president trump signs executive order for ' extreme vetting ' of refugees …\n",
      "5 3238 #resist trump's immigration ban excludes countries with business ties via\n",
      "6 25 trump's immigration ban excludes countries with business ties via\n",
      "7 2386 \" we don't want them here \" : trump signs executive order for ' extreme vetting ' of refugees …\n",
      "8 2964 trump signs executive order on ‘ extreme vetting ’ via\n",
      "9 1428 read our full statement on president trump's executive order on immigration and refugees here : …\n",
      "10 994 president trump meets with british pm theresa may in the white house .\n",
      "11 2446 is saudi arabia on the list ? how about muslim countries where trump has major investments ?\n",
      "12 413 #breaking - president trump to sign executive orders on extreme vetting & military today .\n",
      "13 2095 persecuted christians will be a priority in the us refugee program , pres . trump tells christian broadcasting network .\n",
      "14 4850 how about don't ban countries on the actions of a few\n",
      "15 4199 does this affect green card holders from muslim countries ?\n",
      "16 4251 president trump signs executive order temporarily halting all refugees see here\n",
      "17 1958 trump signs executive order for ‘ extreme vetting ’ of refugees\n",
      "18 1217 when pm may calls on a reporter who asks a tough question of trump : \" this was your choice of a question ? there goe …\n",
      "19 373 statement from on trump's immigration executive orders\n"
     ]
    }
   ],
   "source": [
    "# nearby_bin = 0\n",
    "for i, idx in enumerate(sentIds):\n",
    "    print(i, idx, data.iloc[idx]['Tweet'])"
   ]
  },
  {
   "cell_type": "code",
   "execution_count": null,
   "metadata": {},
   "outputs": [],
   "source": []
  },
  {
   "cell_type": "code",
   "execution_count": 18,
   "metadata": {},
   "outputs": [
    {
     "name": "stdout",
     "output_type": "stream",
     "text": [
      "0 on executive order immigration\n",
      "1 green card holders\n",
      "2 ban all muslim countries\n",
      "3 what do people in the middle east think about terrorism ? for more on the middle east visit http …\n",
      "4 our statement on president trump’s executive order on immigration :\n",
      "5 make america great . again ?\n",
      "6 from saudi arabia . #trump's ban doesn't include saudi arabia .\n",
      "7 keep america safe president trump keep the ban on muslim refugees , keep them out and keep us safe .\n",
      "8 my statement on president trump's executive order on refugees :\n",
      "9 it is a religion ban trump\n",
      "10 protest at the airport !!! #muslimban\n",
      "11 the president of the united states fires the attorney general of the united states .\n",
      "12 are you from any of the 7 banned countries ? what are you on about ?\n",
      "13 trump's state visit to the uk :\n",
      "14 it's not a muslim ban . it's a ban from muslim countries where trump doesn't do business .\n",
      "15 trump signs executive order on ‘ extreme vetting ’\n",
      "16 jfk protest . #muslimban #nobannowall\n",
      "17 it's a temporary ban from these countries .\n",
      "18 ..... a white nationalist that did it when there was a muslim too\n",
      "19 yes yes and yes ! our america , not trumps !\n"
     ]
    }
   ],
   "source": [
    "# nearby_bin = 1\n",
    "for i, idx in enumerate(sentIds):\n",
    "    print(i, data.iloc[idx]['Tweet'])"
   ]
  },
  {
   "cell_type": "code",
   "execution_count": 21,
   "metadata": {},
   "outputs": [
    {
     "name": "stdout",
     "output_type": "stream",
     "text": [
      "0 following trump’s executive order , green card , visa holders already blocked at airports …\n",
      "1 trump executive order : refugees detained at us airports follow for more\n",
      "2 trump signs executive order for ‘ extreme vetting ’ of refugees\n",
      "3 trump executive order : refugees detained at us airports\n",
      "4 trump's state visit to the uk :\n",
      "5 list of trump's executive orders |\n",
      "6 trump executive order : refugees detained at us airports - bbc news\n",
      "7 breaking : prime minister theresa may has arrived at the white house for talks with president trump .\n",
      "8 trump signs executive actions on immigration , military\n",
      "9 president trump signs executive order temporarily halting all refugees\n",
      "10 trump signs ' new vetting ' immigration order\n",
      "11 trump says syrian christian refugees will be given priority for entering u.s. !\n",
      "12 ' we don't want them here ' president trump signs executive order for ' extreme vetting ' of refugees …\n",
      "13 trump’s immigration ban excludes countries with business ties\n",
      "14 breaking : trump to sign executive order today to temporarily halt refugees from some muslim-majority countries - white house\n",
      "15 trump orders ' extreme vetting ' of refugees\n",
      "16 refugees on the way to the u.s. when president trump's executive order was signed were detained at airports …\n",
      "17 trump signs ' extreme vetting ' order to block refugees\n",
      "18 prime minister theresa may arrives at the white house for a meeting with president donald trump\n",
      "19 donald trump has gone too far for dick cheney . dick cheney !!! that dick cheney .\n"
     ]
    }
   ],
   "source": [
    "# result for the first 10000 tweets\n",
    "for i, idx in enumerate(sentIds):\n",
    "    print(i, data.iloc[idx]['Tweet'])"
   ]
  },
  {
   "cell_type": "code",
   "execution_count": 12,
   "metadata": {},
   "outputs": [],
   "source": [
    "with open('saved_models/tfidf_model.pkl', \"rb\") as f:\n",
    "    lex_tfidf = pickle.load(f)\n",
    "#     pickle.dump(lex_tfidf, f)"
   ]
  },
  {
   "cell_type": "markdown",
   "metadata": {},
   "source": [
    "#####\n",
    "\n",
    "* <b>Sub-events captured:</b>\n",
    "    1. green card holders\n",
    "    2. protest at jfk airport\n",
    "    3. attorney general get fired\n",
    "    4. ban 7 countries, muslim countries\n",
    "    5. trump's ban doesn't include saudi arabia .\n",
    "    6. trump visit uk\n",
    "    7. executive order on ‘ extreme vetting ’ \n",
    "* <b>Lack</b>:\n",
    "    1. starbuck hires 10K refugees\n",
    "    2. trump’s deportation orders \n",
    "    3. washington state will sue to stop trump's immigration\n",
    "    4. canada will accept the refugees \n",
    "    5. quebec city mosque shooting \n"
   ]
  },
  {
   "cell_type": "markdown",
   "metadata": {},
   "source": [
    "## 2. Lexrank with sentEmbeddings and LSH"
   ]
  },
  {
   "cell_type": "code",
   "execution_count": 13,
   "metadata": {
    "scrolled": true
   },
   "outputs": [
    {
     "name": "stdout",
     "output_type": "stream",
     "text": [
      "123385\n"
     ]
    }
   ],
   "source": [
    "#load embeddings\n",
    "with open('/home/nguyen/data/travel_ban_sentence_transformers_embeddings.pkl', 'rb') as f:\n",
    "    embeddings = pickle.load(f)\n",
    "print(len(embeddings))"
   ]
  },
  {
   "cell_type": "code",
   "execution_count": 22,
   "metadata": {},
   "outputs": [],
   "source": [
    "# embeddings[0].shape\n",
    "# count = 0\n",
    "# list = []\n",
    "# for i in range(1000):\n",
    "#     cos_sim = cosine_similarity(embeddings[0].reshape(1, -1), embeddings[i].reshape(1, -1))\n",
    "#     print(cos_sim)\n",
    "    \n",
    "#     if cos_sim >0.65:\n",
    "#         count+=1\n",
    "#         list.append(i)\n",
    "# print(\"Number of sentences that are similar with the first sen:\", count)"
   ]
  },
  {
   "cell_type": "code",
   "execution_count": 14,
   "metadata": {},
   "outputs": [
    {
     "name": "stdout",
     "output_type": "stream",
     "text": [
      "(123385, 768)\n"
     ]
    }
   ],
   "source": [
    "sentenceEmbs = np.array(embeddings)\n",
    "print(sentenceEmbs.shape)"
   ]
  },
  {
   "cell_type": "code",
   "execution_count": 15,
   "metadata": {},
   "outputs": [],
   "source": [
    "sentenceEmbs = sentenceEmbs[remained_index]"
   ]
  },
  {
   "cell_type": "code",
   "execution_count": 16,
   "metadata": {},
   "outputs": [
    {
     "data": {
      "text/plain": [
       "(105175, 768)"
      ]
     },
     "execution_count": 16,
     "metadata": {},
     "output_type": "execute_result"
    }
   ],
   "source": [
    "sentenceEmbs.shape"
   ]
  },
  {
   "cell_type": "code",
   "execution_count": 49,
   "metadata": {},
   "outputs": [
    {
     "name": "stdout",
     "output_type": "stream",
     "text": [
      "(105175,)\n"
     ]
    }
   ],
   "source": [
    "lsh_sen = LSH(sentenceEmbs)\n",
    "lsh_sen.train(num_bits=14)\n",
    "table = lsh_sen.model['table']"
   ]
  },
  {
   "cell_type": "code",
   "execution_count": 50,
   "metadata": {},
   "outputs": [],
   "source": [
    "lex_sen = Lexrank(sentenceEmbs, lsh_sen)"
   ]
  },
  {
   "cell_type": "code",
   "execution_count": null,
   "metadata": {},
   "outputs": [],
   "source": [
    "%%time\n",
    "lex_sen.build_graph(search_radius = 1, cosine_sim=0.7)"
   ]
  },
  {
   "cell_type": "code",
   "execution_count": 53,
   "metadata": {},
   "outputs": [
    {
     "name": "stdout",
     "output_type": "stream",
     "text": [
      "Iteration: 0\n",
      "Iteration: 10\n",
      "Iteration: 20\n",
      "Iteration: 30\n",
      "Iteration: 40\n",
      "Iteration: 50\n",
      "Iteration: 60\n",
      "Iteration: 70\n",
      "Iteration: 80\n",
      "Iteration: 90\n"
     ]
    }
   ],
   "source": [
    "lex_sen.train(lexrank_iter = 100, damping_factor = 0.85)"
   ]
  },
  {
   "cell_type": "code",
   "execution_count": 83,
   "metadata": {},
   "outputs": [
    {
     "name": "stdout",
     "output_type": "stream",
     "text": [
      "Extracting sentences....\n",
      "Sent scores: 105175\n",
      "selected one: 72679, 6.96076591613844e-05\n",
      "selected one: 42773, 6.741798915014396e-05\n",
      "Sent 70826 is similar to a 72679: 0.8773021495975561\n",
      "Sent 66616 is similar to a 72679: 0.884185416560963\n",
      "Sent 67230 is similar to a 72679: 0.882424157623164\n",
      "Sent 15821 is similar to a 72679: 0.8550647142535271\n",
      "Sent 31600 is similar to a 72679: 0.8643050357142914\n",
      "Sent 15323 is similar to a 72679: 0.8857740382537653\n",
      "Sent 23584 is similar to a 72679: 0.8856029181528562\n",
      "selected one: 18628, 6.354185669127839e-05\n",
      "Sent 65594 is similar to a 42773: 0.8566214339815087\n",
      "Sent 59451 is similar to a 72679: 0.8539545469585664\n",
      "Sent 86305 is similar to a 72679: 0.8638024807209533\n",
      "Sent 2754 is similar to a 72679: 0.8620114943391185\n",
      "Sent 36918 is similar to a 42773: 0.9902525069804194\n",
      "selected one: 14812, 6.079135691638127e-05\n",
      "Sent 15237 is similar to a 14812: 0.9931927816431556\n",
      "Sent 66394 is similar to a 72679: 0.8836333610668062\n",
      "Sent 76628 is similar to a 72679: 0.8899952784215801\n",
      "Sent 101509 is similar to a 42773: 0.8944038170610407\n",
      "Sent 71278 is similar to a 72679: 0.8854277405392729\n",
      "selected one: 86089, 5.979216205568747e-05\n",
      "Sent 9573 is similar to a 72679: 0.9132123167057035\n",
      "selected one: 67637, 5.948932230295637e-05\n",
      "Sent 28076 is similar to a 86089: 0.8531762810404658\n",
      "Sent 34901 is similar to a 42773: 0.987077265739214\n",
      "Sent 92263 is similar to a 72679: 0.8923560006173256\n",
      "selected one: 2115, 5.922095935587901e-05\n",
      "Sent 8163 is similar to a 14812: 0.8567370222030235\n",
      "Sent 35001 is similar to a 72679: 0.8504962592318621\n",
      "Sent 96348 is similar to a 72679: 0.8647244646488766\n",
      "Sent 2061 is similar to a 2115: 0.9920462444084023\n",
      "Sent 22430 is similar to a 72679: 0.8623610016064398\n",
      "Sent 22662 is similar to a 2115: 0.8665761526666549\n",
      "Sent 9313 is similar to a 18628: 0.8606360630623343\n",
      "Sent 25649 is similar to a 72679: 0.8654951845518054\n",
      "Sent 38737 is similar to a 72679: 0.8510004542748185\n",
      "Sent 4345 is similar to a 2115: 0.9893980389746861\n",
      "selected one: 17668, 5.770827381088001e-05\n",
      "Sent 69825 is similar to a 72679: 0.8636884923469341\n",
      "Sent 35935 is similar to a 72679: 0.8583432918696816\n",
      "Sent 91984 is similar to a 86089: 0.9603754927716368\n",
      "Sent 81347 is similar to a 42773: 0.8660213778999807\n",
      "Sent 54112 is similar to a 72679: 0.8596333742277786\n",
      "Sent 12040 is similar to a 72679: 0.8537620257470174\n",
      "Sent 43190 is similar to a 42773: 0.8877553671584072\n",
      "Sent 23931 is similar to a 42773: 0.8603712223789808\n",
      "Sent 69822 is similar to a 42773: 0.9606741738450412\n",
      "Sent 66938 is similar to a 18628: 0.8587857813732047\n",
      "Sent 64996 is similar to a 72679: 0.8814561563561331\n",
      "Sent 38110 is similar to a 42773: 0.867519489280324\n",
      "Sent 98773 is similar to a 14812: 0.9005183737819028\n",
      "Sent 60226 is similar to a 72679: 0.8502467830506458\n",
      "Sent 33969 is similar to a 72679: 0.8577373116509357\n",
      "Sent 9535 is similar to a 72679: 0.8617967925942479\n",
      "selected one: 11192, 5.6541809956873435e-05\n",
      "Sent 69555 is similar to a 72679: 0.8726881444985592\n",
      "Sent 9399 is similar to a 72679: 0.855078854403645\n",
      "Sent 399 is similar to a 42773: 0.8525274524329206\n",
      "Sent 29025 is similar to a 42773: 0.8575444054608312\n",
      "Sent 579 is similar to a 72679: 0.8705744715641729\n",
      "Sent 11660 is similar to a 42773: 0.9002083319776383\n",
      "Sent 72571 is similar to a 72679: 0.9693102524449596\n",
      "Sent 31906 is similar to a 42773: 0.9883858061987123\n",
      "Sent 23925 is similar to a 42773: 0.864647709703712\n",
      "Sent 28039 is similar to a 72679: 0.8651823350552253\n",
      "selected one: 555, 5.61033781753414e-05\n",
      "Sent 49222 is similar to a 18628: 0.8602923447195006\n",
      "Sent 42809 is similar to a 86089: 0.8735052978196531\n",
      "Sent 15732 is similar to a 72679: 0.8534679398804589\n",
      "Sent 11538 is similar to a 72679: 0.8549851937481836\n",
      "Sent 7009 is similar to a 72679: 0.852163433613914\n",
      "selected one: 25754, 5.5482023437627004e-05\n",
      "Sent 82200 is similar to a 72679: 0.8614523725263399\n",
      "Sent 87635 is similar to a 42773: 0.8710545215186623\n",
      "Sent 28142 is similar to a 14812: 0.9918640450452839\n",
      "Sent 9155 is similar to a 72679: 0.8852412098088787\n",
      "Sent 65993 is similar to a 14812: 0.8749777435923032\n",
      "Sent 42159 is similar to a 72679: 0.8570438968068017\n",
      "Sent 9038 is similar to a 72679: 0.8708630315477374\n",
      "selected one: 79690, 5.509297971550304e-05\n",
      "Sent 1620 is similar to a 42773: 0.8609830233711792\n",
      "selected one: 28510, 5.504408797654373e-05\n",
      "Sent 40814 is similar to a 42773: 0.8882906198508853\n",
      "Sent 96338 is similar to a 14812: 0.9234819445695711\n",
      "Sent 82683 is similar to a 72679: 0.880702498380545\n",
      "Sent 2315 is similar to a 2115: 0.9966808681603155\n",
      "Sent 92970 is similar to a 72679: 0.8508573709021766\n",
      "Sent 1773 is similar to a 42773: 0.851053209578457\n",
      "Sent 62567 is similar to a 17668: 0.8597648658880903\n",
      "Sent 4134 is similar to a 25754: 0.866245489481312\n",
      "Sent 68987 is similar to a 72679: 0.8551056487299924\n",
      "Sent 48050 is similar to a 72679: 0.8737272253012709\n",
      "Sent 30430 is similar to a 555: 0.8648014346419775\n",
      "Sent 71763 is similar to a 72679: 0.8544565044137047\n",
      "Sent 8445 is similar to a 72679: 0.8527218707527567\n",
      "Sent 25104 is similar to a 42773: 0.8600217854406274\n",
      "selected one: 69997, 5.4146177612986906e-05\n",
      "Sent 10221 is similar to a 72679: 0.881644900384876\n",
      "Sent 42236 is similar to a 72679: 0.8608664872463564\n",
      "Sent 1611 is similar to a 67637: 0.8659968710592894\n",
      "selected one: 38139, 5.382959392083732e-05\n",
      "Sent 2094 is similar to a 555: 0.8821117304164193\n",
      "Sent 57230 is similar to a 555: 0.8627935613038576\n",
      "Sent 435 is similar to a 72679: 0.8658918380085189\n",
      "selected one: 26558, 5.351312303136145e-05\n",
      "selected one: 93289, 5.350937065123945e-05\n",
      "Sent 61054 is similar to a 86089: 0.8623827906195419\n",
      "selected one: 14601, 5.3446392656902614e-05\n",
      "Sent 60020 is similar to a 14601: 0.8605951723007457\n",
      "Sent 1932 is similar to a 42773: 0.8989112598758299\n",
      "Sent 69675 is similar to a 72679: 0.8507513926273093\n",
      "selected one: 103112, 5.3196643331092124e-05\n",
      "Sent 561 is similar to a 555: 0.9911955659199967\n",
      "Sent 3145 is similar to a 72679: 0.8534615480388094\n",
      "Sent 35902 is similar to a 86089: 0.871943139619887\n",
      "Sent 36569 is similar to a 555: 0.8954292400738976\n",
      "Sent 102953 is similar to a 72679: 0.8658641171710456\n",
      "Sent 76135 is similar to a 72679: 0.85800712378866\n",
      "Sent 73273 is similar to a 72679: 0.8626341863995096\n",
      "Sent 8362 is similar to a 42773: 0.8554794113523394\n",
      "Sent 35999 is similar to a 42773: 0.9604438018354177\n",
      "Sent 653 is similar to a 555: 0.8557512863928015\n",
      "Sent 82673 is similar to a 72679: 0.8703099166279237\n",
      "Sent 77489 is similar to a 14812: 0.8543094943649716\n",
      "Sent 57260 is similar to a 2115: 0.8586298445862635\n",
      "Sent 55409 is similar to a 79690: 0.8789286002043375\n",
      "Sent 84990 is similar to a 93289: 0.8546835243466856\n",
      "Sent 67489 is similar to a 72679: 0.8619959560585914\n",
      "Sent 24360 is similar to a 17668: 0.8605230772740511\n",
      "Sent 48340 is similar to a 42773: 0.8930403470919845\n",
      "Sent 39968 is similar to a 14812: 0.8603154807089702\n",
      "Sent 52585 is similar to a 42773: 0.8850405034202824\n",
      "Sent 5542 is similar to a 25754: 0.8634265537515329\n",
      "Sent 17013 is similar to a 72679: 0.8621201820127334\n",
      "Sent 47360 is similar to a 72679: 0.8590217297980984\n",
      "Sent 61550 is similar to a 72679: 0.8602160161059046\n",
      "Sent 53426 is similar to a 28510: 0.8568991726479719\n",
      "Sent 29561 is similar to a 72679: 0.8579626653203899\n",
      "Sent 90454 is similar to a 25754: 0.8642195432737098\n",
      "Sent 6261 is similar to a 14812: 0.8806533423539228\n",
      "Sent 9122 is similar to a 86089: 0.8612730904077394\n",
      "Sent 37926 is similar to a 18628: 0.8551390855583862\n",
      "Sent 23966 is similar to a 42773: 0.8575101038801267\n",
      "Sent 90861 is similar to a 72679: 0.8531316882805636\n",
      "Sent 53798 is similar to a 25754: 0.8761711291932259\n",
      "selected one: 23918, 5.221696773719943e-05\n"
     ]
    }
   ],
   "source": [
    "# 14 bins\n",
    "sentIds = lex_sen.extract_summary(n_sents = 20, cosine_thres = 0.85, max_sent=9000)"
   ]
  },
  {
   "cell_type": "code",
   "execution_count": null,
   "metadata": {},
   "outputs": [],
   "source": []
  },
  {
   "cell_type": "code",
   "execution_count": 84,
   "metadata": {
    "scrolled": true
   },
   "outputs": [
    {
     "name": "stdout",
     "output_type": "stream",
     "text": [
      "0. pragmactivist : trump fired ag #sallyyates for enforcing laws and #resist ing a #muslimban . will he fire seanspi … \n",
      "1. \" this policy is going to get americans killed : \" sen. chris murphy on trump's refugee ban • #antitrumpmvmt …\n",
      "2. liberals will be upset to learn that clinton , bush , reagan , obama and carter all issued immigrant bans . #muslimban .…\n",
      "3. tech leaders finally find their voice , opposing trump’s muslim ban : “ so un-american , it pains us all . ” via \n",
      "4.  four states sue trump administration over ' un-american ' travel ban #breaking #hope #politics #truth\n",
      "5. mark levin \" with this 7 nation detaining of muslims while vetted , potus trump is trying 2 prevent carnage of america …\n",
      "6. iraq war vet congressman says he is ashamed trump is president after muslim ban via …\n",
      "7. 12/8/15 mike pence said : calls to ban muslims from entering the us are offensive and unconstitutional . flip flop man now vp …\n",
      "8. #muslimban muslims try to force american christians to submit to shariah law – big mistake ! - the new york evening \n",
      "9. reuters : breaking : trump to sign executive order today to temporarily halt refugees from some muslim-majority countries - white house\n",
      "10. because of some foolhardy bigots , entire #muslim community will face prosecution entering #us #trump's executive order is anti human .\n",
      "11. #iran and #iraq take steps to bar americans in response to trump's muslim ban …\n",
      "12. ' call mr trump ' : how chaos of president's muslim ban unfolded across us from start to finish https …\n",
      "13. shameless : wh uses attack on mosque by white nationalist trump supporter to justify barring muslims from entering u …\n",
      "14. bbc news - trump executive order : uk ministers to press us on ban too many europeans are meddling with usa !\n",
      "15. you urge muslim profiling ; claim islam is incompatible with west ; & warn of muslim demographic time bomb . trump is …\n",
      "16. 1,000 state department officials signed a dissent cable asserting trump's muslim ban wouldn't make the nation safer . http …\n",
      "17. trump has suspended due process for muslims in america . this is a constitutional crisis . … \n",
      "18. trump has put iran on notice for firing ballistic missles . the left opposes that . ask them whey they oppose defending our co …\n",
      "19. breaking news . as of today federal judge struck down trump's anti-muslim immigration orders . so all those people ... \n"
     ]
    }
   ],
   "source": [
    "for i, idx in enumerate(sentIds):\n",
    "    print(\"{}. {}\".format(i, data.iloc[idx]['Tweet']))"
   ]
  },
  {
   "cell_type": "code",
   "execution_count": 85,
   "metadata": {},
   "outputs": [
    {
     "name": "stdout",
     "output_type": "stream",
     "text": [
      "Id Index lexrank\n",
      "0 72679 6.96076591613844e-05\n",
      "1 42773 6.741798915014396e-05\n",
      "2 18628 6.354185669127839e-05\n",
      "3 14812 6.079135691638127e-05\n",
      "4 86089 5.979216205568747e-05\n",
      "5 67637 5.948932230295637e-05\n",
      "6 2115 5.922095935587901e-05\n",
      "7 17668 5.770827381088001e-05\n",
      "8 11192 5.6541809956873435e-05\n",
      "9 555 5.61033781753414e-05\n",
      "10 25754 5.5482023437627004e-05\n",
      "11 79690 5.509297971550304e-05\n",
      "12 28510 5.504408797654373e-05\n",
      "13 69997 5.4146177612986906e-05\n",
      "14 38139 5.382959392083732e-05\n",
      "15 26558 5.351312303136145e-05\n",
      "16 93289 5.350937065123945e-05\n",
      "17 14601 5.3446392656902614e-05\n",
      "18 103112 5.3196643331092124e-05\n",
      "19 23918 5.221696773719943e-05\n"
     ]
    }
   ],
   "source": [
    "print(\"Id\", \"Index\", \"lexrank\")\n",
    "for i, idx in enumerate(sentIds):\n",
    "    print(i, idx, lex_sen.scores[idx])"
   ]
  },
  {
   "cell_type": "code",
   "execution_count": 86,
   "metadata": {},
   "outputs": [
    {
     "data": {
      "text/plain": [
       "'pragmactivist : trump fired ag #sallyyates for enforcing laws and #resist ing a #muslimban . will he fire seanspi … '"
      ]
     },
     "execution_count": 86,
     "metadata": {},
     "output_type": "execute_result"
    }
   ],
   "source": [
    "str(data.iloc[72679]['Tweet'])"
   ]
  },
  {
   "cell_type": "code",
   "execution_count": 87,
   "metadata": {},
   "outputs": [
    {
     "data": {
      "text/plain": [
       "'trump administration tweaks immigration ban on green card holders after outrage .. #trump . #muslimban '"
      ]
     },
     "execution_count": 87,
     "metadata": {},
     "output_type": "execute_result"
    }
   ],
   "source": [
    "str(data.iloc[67489]['Tweet'])"
   ]
  },
  {
   "cell_type": "markdown",
   "metadata": {},
   "source": [
    "# debug"
   ]
  },
  {
   "cell_type": "code",
   "execution_count": null,
   "metadata": {},
   "outputs": [],
   "source": [
    "#--> problem: cosine similarity does not measure well the similarity of embeddings\n",
    "# tweets with \"green card\" are not in the selected set because they have lower cosine similarity than the selected one"
   ]
  },
  {
   "cell_type": "code",
   "execution_count": 18,
   "metadata": {},
   "outputs": [],
   "source": [
    "green_indices = data[data['Tweet'].str.contains('green card')].index"
   ]
  },
  {
   "cell_type": "code",
   "execution_count": 70,
   "metadata": {},
   "outputs": [
    {
     "data": {
      "text/html": [
       "<div>\n",
       "<style scoped>\n",
       "    .dataframe tbody tr th:only-of-type {\n",
       "        vertical-align: middle;\n",
       "    }\n",
       "\n",
       "    .dataframe tbody tr th {\n",
       "        vertical-align: top;\n",
       "    }\n",
       "\n",
       "    .dataframe thead th {\n",
       "        text-align: right;\n",
       "    }\n",
       "</style>\n",
       "<table border=\"1\" class=\"dataframe\">\n",
       "  <thead>\n",
       "    <tr style=\"text-align: right;\">\n",
       "      <th></th>\n",
       "      <th>Id</th>\n",
       "      <th>Tweet</th>\n",
       "      <th>Tweet1</th>\n",
       "      <th>uniWPercent</th>\n",
       "    </tr>\n",
       "  </thead>\n",
       "  <tbody>\n",
       "    <tr>\n",
       "      <th>1216</th>\n",
       "      <td>825064765261176832</td>\n",
       "      <td>company sent out a notice about trump's muslim...</td>\n",
       "      <td>company sent notice trumps muslim ban green ca...</td>\n",
       "      <td>10</td>\n",
       "    </tr>\n",
       "    <tr>\n",
       "      <th>2323</th>\n",
       "      <td>825137645504172032</td>\n",
       "      <td>visas being denied immediately . chaos at airp...</td>\n",
       "      <td>visas denied immediately chaos airports air mu...</td>\n",
       "      <td>13</td>\n",
       "    </tr>\n",
       "    <tr>\n",
       "      <th>2419</th>\n",
       "      <td>825141021906382848</td>\n",
       "      <td>ban applies if you have a visa , green card , ...</td>\n",
       "      <td>ban applies visa green card even dual citizen ...</td>\n",
       "      <td>9</td>\n",
       "    </tr>\n",
       "    <tr>\n",
       "      <th>2609</th>\n",
       "      <td>825147334342303745</td>\n",
       "      <td>current concern : what about people with green...</td>\n",
       "      <td>current concern people green cards currently a...</td>\n",
       "      <td>13</td>\n",
       "    </tr>\n",
       "    <tr>\n",
       "      <th>2755</th>\n",
       "      <td>825152564652081157</td>\n",
       "      <td>many elderly come to green card interview with...</td>\n",
       "      <td>many elderly come green card interview suit ti...</td>\n",
       "      <td>12</td>\n",
       "    </tr>\n",
       "    <tr>\n",
       "      <th>...</th>\n",
       "      <td>...</td>\n",
       "      <td>...</td>\n",
       "      <td>...</td>\n",
       "      <td>...</td>\n",
       "    </tr>\n",
       "    <tr>\n",
       "      <th>103920</th>\n",
       "      <td>827623785662644224</td>\n",
       "      <td>my uncle from syria needs a green card any tak...</td>\n",
       "      <td>uncle syria needs green card takers</td>\n",
       "      <td>6</td>\n",
       "    </tr>\n",
       "    <tr>\n",
       "      <th>104019</th>\n",
       "      <td>827626771994533889</td>\n",
       "      <td>why is tomi defending the rights of milo ( a ...</td>\n",
       "      <td>tomi defending rights milo non american rights...</td>\n",
       "      <td>12</td>\n",
       "    </tr>\n",
       "    <tr>\n",
       "      <th>104760</th>\n",
       "      <td>827658820658851840</td>\n",
       "      <td>green card coming soon !</td>\n",
       "      <td>green card coming soon</td>\n",
       "      <td>4</td>\n",
       "    </tr>\n",
       "    <tr>\n",
       "      <th>104876</th>\n",
       "      <td>827664285862129668</td>\n",
       "      <td>alert : dos issues stmnt clarifying ban dn app...</td>\n",
       "      <td>alert dos issues stmnt clarifying ban dn apply...</td>\n",
       "      <td>18</td>\n",
       "    </tr>\n",
       "    <tr>\n",
       "      <th>104916</th>\n",
       "      <td>827665892280528897</td>\n",
       "      <td>the first female fields medalist , , came to t...</td>\n",
       "      <td>first female fields medalist came us green car...</td>\n",
       "      <td>13</td>\n",
       "    </tr>\n",
       "  </tbody>\n",
       "</table>\n",
       "<p>1446 rows × 4 columns</p>\n",
       "</div>"
      ],
      "text/plain": [
       "                        Id                                              Tweet  \\\n",
       "1216    825064765261176832  company sent out a notice about trump's muslim...   \n",
       "2323    825137645504172032  visas being denied immediately . chaos at airp...   \n",
       "2419    825141021906382848  ban applies if you have a visa , green card , ...   \n",
       "2609    825147334342303745  current concern : what about people with green...   \n",
       "2755    825152564652081157  many elderly come to green card interview with...   \n",
       "...                    ...                                                ...   \n",
       "103920  827623785662644224  my uncle from syria needs a green card any tak...   \n",
       "104019  827626771994533889   why is tomi defending the rights of milo ( a ...   \n",
       "104760  827658820658851840                           green card coming soon !   \n",
       "104876  827664285862129668  alert : dos issues stmnt clarifying ban dn app...   \n",
       "104916  827665892280528897  the first female fields medalist , , came to t...   \n",
       "\n",
       "                                                   Tweet1  uniWPercent  \n",
       "1216    company sent notice trumps muslim ban green ca...           10  \n",
       "2323    visas denied immediately chaos airports air mu...           13  \n",
       "2419    ban applies visa green card even dual citizen ...            9  \n",
       "2609    current concern people green cards currently a...           13  \n",
       "2755    many elderly come green card interview suit ti...           12  \n",
       "...                                                   ...          ...  \n",
       "103920                uncle syria needs green card takers            6  \n",
       "104019  tomi defending rights milo non american rights...           12  \n",
       "104760                             green card coming soon            4  \n",
       "104876  alert dos issues stmnt clarifying ban dn apply...           18  \n",
       "104916  first female fields medalist came us green car...           13  \n",
       "\n",
       "[1446 rows x 4 columns]"
      ]
     },
     "execution_count": 70,
     "metadata": {},
     "output_type": "execute_result"
    }
   ],
   "source": [
    "data.iloc[green_indices]"
   ]
  },
  {
   "cell_type": "code",
   "execution_count": 19,
   "metadata": {},
   "outputs": [
    {
     "data": {
      "text/plain": [
       "Int64Index([  1216,   2323,   2419,   2609,   2755,   2995,   3099,   3202,\n",
       "              3259,   3385,\n",
       "            ...\n",
       "            102906, 102993, 103099, 103206, 103512, 103920, 104019, 104760,\n",
       "            104876, 104916],\n",
       "           dtype='int64', length=1446)"
      ]
     },
     "execution_count": 19,
     "metadata": {},
     "output_type": "execute_result"
    }
   ],
   "source": [
    "green_indices"
   ]
  },
  {
   "cell_type": "code",
   "execution_count": 30,
   "metadata": {},
   "outputs": [],
   "source": [
    "cosine_matrix = cosine_similarity(sentenceEmbs[green_indices], sentenceEmbs[green_indices])"
   ]
  },
  {
   "cell_type": "code",
   "execution_count": 31,
   "metadata": {},
   "outputs": [],
   "source": [
    "arr = cosine_matrix.flatten()"
   ]
  },
  {
   "cell_type": "code",
   "execution_count": 34,
   "metadata": {},
   "outputs": [],
   "source": [
    "n = cosine_matrix.shape[0]"
   ]
  },
  {
   "cell_type": "code",
   "execution_count": 73,
   "metadata": {},
   "outputs": [
    {
     "name": "stdout",
     "output_type": "stream",
     "text": [
      "67489 5.265613346268356e-05 trump administration tweaks immigration ban on green card holders after outrage .. #trump . #muslimban \n"
     ]
    }
   ],
   "source": [
    "max_idx = -1\n",
    "max_value = -1\n",
    "for i in green_indices:\n",
    "    if lex_sen.scores[i]>max_value:\n",
    "        max_value = lex_sen.scores[i]\n",
    "        max_idx = i\n",
    "print(max_idx, lex_sen.scores[max_idx], str(data.iloc[max_idx]['Tweet']))"
   ]
  },
  {
   "cell_type": "code",
   "execution_count": 92,
   "metadata": {},
   "outputs": [
    {
     "data": {
      "text/plain": [
       "1172"
      ]
     },
     "execution_count": 92,
     "metadata": {},
     "output_type": "execute_result"
    }
   ],
   "source": [
    "list(green_indices).index(67489)"
   ]
  },
  {
   "cell_type": "code",
   "execution_count": 111,
   "metadata": {},
   "outputs": [
    {
     "data": {
      "text/plain": [
       "67489"
      ]
     },
     "execution_count": 111,
     "metadata": {},
     "output_type": "execute_result"
    }
   ],
   "source": [
    "[1172]"
   ]
  },
  {
   "cell_type": "code",
   "execution_count": 102,
   "metadata": {},
   "outputs": [],
   "source": [
    "# get cosine similarity of 67489 and other tweets that contains 'green card' word\n",
    "x= {key: value for key, value in enumerate(cosine_matrix[1172])}"
   ]
  },
  {
   "cell_type": "code",
   "execution_count": 106,
   "metadata": {},
   "outputs": [],
   "source": [
    "# sort in descending order\n",
    "x = {k: v for k, v in sorted(x.items(), key=lambda item: item[1], reverse = True)}"
   ]
  },
  {
   "cell_type": "code",
   "execution_count": 130,
   "metadata": {},
   "outputs": [
    {
     "name": "stdout",
     "output_type": "stream",
     "text": [
      "67489 1.0000000000000004\n",
      "14568 0.9097172370497544\n",
      "7672 0.8804448534365881\n",
      "1216 0.8803281653920463\n",
      "60084 0.880106057521026\n",
      "9034 0.8797233520977021\n",
      "15572 0.8727023496902853\n",
      "7960 0.8681128812564491\n",
      "3385 0.8609483496851006\n",
      "35615 0.8601970847836715\n",
      "93850 0.8590100880572535\n",
      "47008 0.8582769108235137\n",
      "4846 0.852298885976542\n",
      "87080 0.8510681270339433\n",
      "86575 0.8509157052733496\n",
      "13054 0.8500323277896142\n",
      "8358 0.8484250372807346\n",
      "5045 0.8479882189362389\n",
      "11078 0.8473223807416036\n",
      "41543 0.8470223230647428\n",
      "52674 0.8419954574442077\n",
      "91662 0.8376496816713401\n",
      "89383 0.8376411036700553\n",
      "32558 0.8372166300390903\n",
      "11699 0.8352250159227328\n",
      "93870 0.8349929223778321\n"
     ]
    }
   ],
   "source": [
    "count = 0\n",
    "for key, value in x.items():\n",
    "    if count >25:\n",
    "        break\n",
    "    count+=1 \n",
    "    print(green_indices[key], value)"
   ]
  },
  {
   "cell_type": "code",
   "execution_count": 119,
   "metadata": {},
   "outputs": [
    {
     "data": {
      "text/plain": [
       "'trump administration tweaks immigration ban on green card holders after outrage .. #trump . #muslimban '"
      ]
     },
     "execution_count": 119,
     "metadata": {},
     "output_type": "execute_result"
    }
   ],
   "source": [
    "str(data.iloc[67489]['Tweet'])"
   ]
  },
  {
   "cell_type": "code",
   "execution_count": 117,
   "metadata": {},
   "outputs": [
    {
     "data": {
      "text/plain": [
       "'pragmactivist : trump fired ag #sallyyates for enforcing laws and #resist ing a #muslimban . will he fire seanspi … '"
      ]
     },
     "execution_count": 117,
     "metadata": {},
     "output_type": "execute_result"
    }
   ],
   "source": [
    "str(data.iloc[72679]['Tweet'])"
   ]
  },
  {
   "cell_type": "code",
   "execution_count": 118,
   "metadata": {},
   "outputs": [
    {
     "data": {
      "text/plain": [
       "'the executive order \" will ban green card holders \" says homeland security . this is religious persecution . …'"
      ]
     },
     "execution_count": 118,
     "metadata": {},
     "output_type": "execute_result"
    }
   ],
   "source": [
    "str(data.iloc[green_indices[79]]['Tweet'])"
   ]
  },
  {
   "cell_type": "markdown",
   "metadata": {},
   "source": [
    "## --> cosine similarity score does not really reflect properly the similarity\n",
    "+ Many tweets that are similar have lower similarity scores than different tweets\n",
    "+ Example, the algorithm does not choose any tweet of green card event, because they either have lower cosine similarity with each other (low lexrank score) or high cosine similarity with chosen tweets (that is not about green card event)\n",
    "    - many tweets that are about 'green card event' and should have high similarity score with 67489, but it has lower score with 67489 than cosine(72679, 67489)"
   ]
  },
  {
   "cell_type": "code",
   "execution_count": 125,
   "metadata": {},
   "outputs": [],
   "source": [
    "# compute cosine similarity of 67489 and all the others, count how many of them are about green card event\n",
    "cosine_67489 = cosine_similarity(sentenceEmbs[67489].reshape(1, -1), sentenceEmbs)[0]"
   ]
  },
  {
   "cell_type": "code",
   "execution_count": 128,
   "metadata": {},
   "outputs": [],
   "source": [
    "cosine_67489_sorted = {key: value for key, value in enumerate(cosine_67489)}\n",
    "cosine_67489_sorted = {k: v for k, v in sorted(cosine_67489_sorted.items(), key=lambda item: item[1], reverse = True)}"
   ]
  },
  {
   "cell_type": "code",
   "execution_count": 18,
   "metadata": {},
   "outputs": [
    {
     "data": {
      "text/plain": [
       "\"breaking : federal judge has just blocked trump's islamophobic ban on immigrants & refugees . #heretostay #muslimban https …\""
      ]
     },
     "execution_count": 18,
     "metadata": {},
     "output_type": "execute_result"
    }
   ],
   "source": [
    "str(data.iloc[22430]['Tweet'])"
   ]
  },
  {
   "cell_type": "code",
   "execution_count": 19,
   "metadata": {},
   "outputs": [
    {
     "data": {
      "text/plain": [
       "array([[0.91123844]])"
      ]
     },
     "execution_count": 19,
     "metadata": {},
     "output_type": "execute_result"
    }
   ],
   "source": [
    "cosine_similarity(sentenceEmbs[67489].reshape(1, -1), sentenceEmbs[22430].reshape(1, -1))"
   ]
  },
  {
   "cell_type": "code",
   "execution_count": 20,
   "metadata": {},
   "outputs": [
    {
     "ename": "NameError",
     "evalue": "name 'cosine_67489_sorted' is not defined",
     "output_type": "error",
     "traceback": [
      "\u001b[0;31m---------------------------------------------------------------------------\u001b[0m",
      "\u001b[0;31mNameError\u001b[0m                                 Traceback (most recent call last)",
      "\u001b[0;32m<ipython-input-20-c079a08c3250>\u001b[0m in \u001b[0;36m<module>\u001b[0;34m()\u001b[0m\n\u001b[1;32m      1\u001b[0m \u001b[0mcount\u001b[0m \u001b[0;34m=\u001b[0m \u001b[0;36m0\u001b[0m\u001b[0;34m\u001b[0m\u001b[0;34m\u001b[0m\u001b[0m\n\u001b[0;32m----> 2\u001b[0;31m \u001b[0;32mfor\u001b[0m \u001b[0mkey\u001b[0m\u001b[0;34m,\u001b[0m \u001b[0mvalue\u001b[0m \u001b[0;32min\u001b[0m \u001b[0mcosine_67489_sorted\u001b[0m\u001b[0;34m.\u001b[0m\u001b[0mitems\u001b[0m\u001b[0;34m(\u001b[0m\u001b[0;34m)\u001b[0m\u001b[0;34m:\u001b[0m\u001b[0;34m\u001b[0m\u001b[0;34m\u001b[0m\u001b[0m\n\u001b[0m\u001b[1;32m      3\u001b[0m     \u001b[0mprint\u001b[0m\u001b[0;34m(\u001b[0m\u001b[0mkey\u001b[0m\u001b[0;34m,\u001b[0m \u001b[0mvalue\u001b[0m\u001b[0;34m,\u001b[0m \u001b[0mstr\u001b[0m\u001b[0;34m(\u001b[0m\u001b[0mdata\u001b[0m\u001b[0;34m.\u001b[0m\u001b[0miloc\u001b[0m\u001b[0;34m[\u001b[0m\u001b[0mkey\u001b[0m\u001b[0;34m]\u001b[0m\u001b[0;34m[\u001b[0m\u001b[0;34m'Tweet'\u001b[0m\u001b[0;34m]\u001b[0m\u001b[0;34m)\u001b[0m\u001b[0;34m)\u001b[0m\u001b[0;34m\u001b[0m\u001b[0;34m\u001b[0m\u001b[0m\n\u001b[1;32m      4\u001b[0m     \u001b[0;32mif\u001b[0m \u001b[0mcount\u001b[0m\u001b[0;34m>\u001b[0m\u001b[0;36m25\u001b[0m\u001b[0;34m:\u001b[0m\u001b[0;34m\u001b[0m\u001b[0;34m\u001b[0m\u001b[0m\n\u001b[1;32m      5\u001b[0m         \u001b[0;32mbreak\u001b[0m\u001b[0;34m\u001b[0m\u001b[0;34m\u001b[0m\u001b[0m\n",
      "\u001b[0;31mNameError\u001b[0m: name 'cosine_67489_sorted' is not defined"
     ]
    }
   ],
   "source": [
    "count = 0\n",
    "for key, value in cosine_67489_sorted.items():\n",
    "    print(key, value, str(data.iloc[key]['Tweet']))\n",
    "    if count>25:\n",
    "        break\n",
    "    count+=1"
   ]
  },
  {
   "cell_type": "code",
   "execution_count": 134,
   "metadata": {},
   "outputs": [],
   "source": [
    "# compare to tfidf representation: find most similar tweets of 67489\n",
    "cosine_67489_tfidf = cosine_similarity(tfidfData[67489], tfidfData)[0]\n",
    "cosine_67489_tfidf = {key:value for key, value in enumerate(cosine_67489_tfidf)}\n",
    "cosine_67489_tfidf = {key: value for key, value in sorted(cosine_67489_tfidf.items(), key = lambda item: item[1], reverse = True)}"
   ]
  },
  {
   "cell_type": "code",
   "execution_count": 135,
   "metadata": {},
   "outputs": [
    {
     "name": "stdout",
     "output_type": "stream",
     "text": [
      "67489 1.0 trump administration tweaks immigration ban on green card holders after outrage .. #trump . #muslimban \n",
      "91662 0.6409255342486253 white house tweaks trump's travel ban to exempt green card holders \n",
      "13109 0.49899079015468784 green card holders \n",
      "10126 0.4624729946806367 green card holders ? how can this be legal ?! #muslimban \n",
      "35313 0.4560962336083251 trump administration flip-flops : green card holders are not affected by immigration ban \n",
      "46384 0.4437992312080231 trump administration says green card holders won’t be barred \n",
      "42962 0.44095667986007875 priebus : green card holders will be allowed into us - president donald trump's administration says green card h ... \n",
      "7776 0.4360798275840697 green card holders included in trump ban - via \n",
      "15131 0.4342351601902188 trump immigration ban will apply to green card holders : report \n",
      "36742 0.4302402254560106 president trump's administration says green card holders will be allowed into the country …\n",
      "46821 0.42907888766047647 trump administration says green card holders won’t be barred , via \n",
      "45872 0.4282134189701243 breaking : trump administration now says green card holders from 7 countries included in the #muslimban will be allowed to stay …\n",
      "49186 0.4274630861708757 trump backs down on green card holders \n",
      "94936 0.42588044890485943 trump administration easing travel ban restrictions for green card holders \n",
      "45954 0.41885786937813346 it's official : trump administration does u-turn on green card holders . \n",
      "46012 0.41755037377663 trump administration says green card holders won’t be barred , via #donaldtrump #muslimban \n",
      "47559 0.4142644826927353 in a reversal , the trump administration now says green card holders can enter the us \n",
      "46232 0.4074251554421404 just in : president trump backs down on green card holders \n",
      "39786 0.4033989553938182 in apparent reversal , trump administration says immigration ban will not affect green card holders \n",
      "9060 0.39705273533267854 ban includes green card holders ... \n",
      "80054 0.3907577101638994 how trump's order affected green card holders \n",
      "23156 0.3884044642996253  let out the green card holders and immigrants !\n",
      "17702 0.3882073095161643 i am so disgusted right now . even green card holders are being banned . this is not okay . this is an outrage .\n",
      "11190 0.3860584159123128 so has included green card holders immigration ban ... if i'm not mistaken isn't his wife on a green card ??\n",
      "8287 0.3858906181799764 immigration ban includes green card holders : dhs \n",
      "8633 0.38483260921143214 trump refugee ban will apply to green card holders : report \n",
      "72506 0.3841245971374223  green card holders and legal citizens do .\n"
     ]
    }
   ],
   "source": [
    "count = 0\n",
    "for key, value in cosine_67489_tfidf.items():\n",
    "    print(key, value, str(data.iloc[key]['Tweet']))\n",
    "    if count>25:\n",
    "        break\n",
    "    count+=1"
   ]
  },
  {
   "cell_type": "code",
   "execution_count": null,
   "metadata": {},
   "outputs": [],
   "source": []
  },
  {
   "cell_type": "code",
   "execution_count": null,
   "metadata": {},
   "outputs": [],
   "source": [
    "#extract tfidf vector\n",
    "tfidf = TfidfVectorizer()\n",
    "tfidfData = tfidf.fit_transform(data['Tweet1'])\n",
    "print(tfidfData.shape)"
   ]
  },
  {
   "cell_type": "code",
   "execution_count": null,
   "metadata": {},
   "outputs": [],
   "source": [
    "lsh_tfidf_embs = LSH(tfidfData)\n",
    "lsh_tfidf_embs.train(num_bits = 8)\n"
   ]
  },
  {
   "cell_type": "code",
   "execution_count": null,
   "metadata": {},
   "outputs": [],
   "source": [
    "buckets = lsh_tfidf_embs.extract_nearby_bins(max_search_radius = 1)\n",
    "print(len(buckets[0]))"
   ]
  },
  {
   "cell_type": "markdown",
   "metadata": {},
   "source": [
    "## 3. Combination of LSH with tfidf and lex rank with sent embeddings"
   ]
  },
  {
   "cell_type": "code",
   "execution_count": 12,
   "metadata": {},
   "outputs": [
    {
     "name": "stdout",
     "output_type": "stream",
     "text": [
      "(105175, 48876)\n"
     ]
    }
   ],
   "source": [
    "#extract tfidf vector\n",
    "tfidf = TfidfVectorizer()\n",
    "tfidfData = tfidf.fit_transform(data['Tweet1'])\n",
    "print(tfidfData.shape)"
   ]
  },
  {
   "cell_type": "code",
   "execution_count": 13,
   "metadata": {},
   "outputs": [
    {
     "ename": "FileNotFoundError",
     "evalue": "[Errno 2] No such file or directory: '/home/nguyen/data/travel_ban_sentence_transformers_embeddings.pkl'",
     "output_type": "error",
     "traceback": [
      "\u001b[0;31m---------------------------------------------------------------------------\u001b[0m",
      "\u001b[0;31mFileNotFoundError\u001b[0m                         Traceback (most recent call last)",
      "\u001b[0;32m<ipython-input-13-a8b6565f0254>\u001b[0m in \u001b[0;36m<module>\u001b[0;34m\u001b[0m\n\u001b[1;32m      1\u001b[0m \u001b[0;31m#load embeddings\u001b[0m\u001b[0;34m\u001b[0m\u001b[0;34m\u001b[0m\u001b[0;34m\u001b[0m\u001b[0m\n\u001b[0;32m----> 2\u001b[0;31m \u001b[0;32mwith\u001b[0m \u001b[0mopen\u001b[0m\u001b[0;34m(\u001b[0m\u001b[0;34m'/home/nguyen/data/travel_ban_sentence_transformers_embeddings.pkl'\u001b[0m\u001b[0;34m,\u001b[0m \u001b[0;34m'rb'\u001b[0m\u001b[0;34m)\u001b[0m \u001b[0;32mas\u001b[0m \u001b[0mf\u001b[0m\u001b[0;34m:\u001b[0m\u001b[0;34m\u001b[0m\u001b[0;34m\u001b[0m\u001b[0m\n\u001b[0m\u001b[1;32m      3\u001b[0m     \u001b[0membeddings\u001b[0m \u001b[0;34m=\u001b[0m \u001b[0mpickle\u001b[0m\u001b[0;34m.\u001b[0m\u001b[0mload\u001b[0m\u001b[0;34m(\u001b[0m\u001b[0mf\u001b[0m\u001b[0;34m)\u001b[0m\u001b[0;34m\u001b[0m\u001b[0;34m\u001b[0m\u001b[0m\n\u001b[1;32m      4\u001b[0m \u001b[0mprint\u001b[0m\u001b[0;34m(\u001b[0m\u001b[0mlen\u001b[0m\u001b[0;34m(\u001b[0m\u001b[0membeddings\u001b[0m\u001b[0;34m)\u001b[0m\u001b[0;34m)\u001b[0m\u001b[0;34m\u001b[0m\u001b[0;34m\u001b[0m\u001b[0m\n",
      "\u001b[0;31mFileNotFoundError\u001b[0m: [Errno 2] No such file or directory: '/home/nguyen/data/travel_ban_sentence_transformers_embeddings.pkl'"
     ]
    }
   ],
   "source": [
    "#load embeddings\n",
    "with open('/home/nguyen/data/travel_ban_sentence_transformers_embeddings.pkl', 'rb') as f:\n",
    "    embeddings = pickle.load(f)\n",
    "print(len(embeddings))"
   ]
  },
  {
   "cell_type": "code",
   "execution_count": 142,
   "metadata": {},
   "outputs": [
    {
     "name": "stdout",
     "output_type": "stream",
     "text": [
      "(105175, 768)\n"
     ]
    }
   ],
   "source": [
    "sentenceEmbs = np.array(embeddings)\n",
    "sentenceEmbs = sentenceEmbs[remained_index]\n",
    "print(sentenceEmbs.shape)"
   ]
  },
  {
   "cell_type": "code",
   "execution_count": 143,
   "metadata": {},
   "outputs": [
    {
     "name": "stdout",
     "output_type": "stream",
     "text": [
      "(105175,)\n"
     ]
    }
   ],
   "source": [
    "lsh_tfidf_embs = LSH(tfidfData)\n",
    "lsh_tfidf_embs.train(num_bits = 8)\n",
    "lex_tfidf_embs = Lexrank(sentenceEmbs, lsh_tfidf_embs)"
   ]
  },
  {
   "cell_type": "code",
   "execution_count": 144,
   "metadata": {},
   "outputs": [
    {
     "name": "stdout",
     "output_type": "stream",
     "text": [
      "#buckets: 256\n",
      ".......Buck: 0, vec: (4405, 768)\n",
      ".......Buck: 100, vec: (3664, 768)\n",
      ".......Buck: 200, vec: (3694, 768)\n",
      "CPU times: user 6min 32s, sys: 6min 12s, total: 12min 45s\n",
      "Wall time: 3min 37s\n"
     ]
    }
   ],
   "source": [
    "%%time\n",
    "lex_tfidf_embs.build_graph(search_radius = 1, cosine_sim = 0.75)"
   ]
  },
  {
   "cell_type": "code",
   "execution_count": 145,
   "metadata": {},
   "outputs": [
    {
     "name": "stdout",
     "output_type": "stream",
     "text": [
      "Iteration: 0\n",
      "Iteration: 10\n",
      "Iteration: 20\n",
      "Iteration: 30\n",
      "Iteration: 40\n",
      "Iteration: 50\n",
      "Iteration: 60\n",
      "Iteration: 70\n",
      "Iteration: 80\n",
      "Iteration: 90\n"
     ]
    }
   ],
   "source": [
    "lex_tfidf_embs.train(lexrank_iter = 100, damping_factor = 0.85)"
   ]
  },
  {
   "cell_type": "code",
   "execution_count": 146,
   "metadata": {},
   "outputs": [
    {
     "name": "stdout",
     "output_type": "stream",
     "text": [
      "Extracting sentences....\n",
      "Sent scores: 105175\n",
      "selected one: 51052, 7.648065808677812e-05\n",
      "selected one: 1986, 7.608186491893474e-05\n",
      "Sent 23584 is similar to a 1986: 0.8722660801906754\n",
      "Sent 29998 is similar to a 51052: 0.8925799228678891\n",
      "Sent 22430 is similar to a 51052: 0.8751887541384444\n",
      "Sent 77797 is similar to a 51052: 0.9310951000130575\n",
      "Sent 25117 is similar to a 51052: 0.8664335156196253\n",
      "Sent 102111 is similar to a 51052: 0.8992971624392283\n",
      "Sent 43651 is similar to a 51052: 0.868846460471362\n",
      "selected one: 9573, 7.086856553357003e-05\n",
      "Sent 100720 is similar to a 51052: 0.9001413643413779\n",
      "selected one: 2865, 7.038706088198347e-05\n",
      "selected one: 45817, 6.927957863849398e-05\n",
      "Sent 71278 is similar to a 9573: 0.8786017593352146\n",
      "selected one: 76628, 6.862070452352763e-05\n",
      "Sent 11548 is similar to a 51052: 0.8628708512619934\n",
      "Sent 67230 is similar to a 51052: 0.860118524926383\n",
      "Sent 64996 is similar to a 51052: 0.8689097664591182\n",
      "selected one: 78022, 6.737707014599702e-05\n",
      "Sent 37472 is similar to a 78022: 0.8574701259669175\n",
      "Sent 10556 is similar to a 51052: 0.8869628799270507\n",
      "Sent 100626 is similar to a 51052: 0.9001583935792877\n",
      "Sent 6000 is similar to a 2865: 0.9912156846241793\n",
      "Sent 16217 is similar to a 76628: 0.8538020733246788\n",
      "Sent 81793 is similar to a 9573: 0.8637393190583896\n",
      "selected one: 30226, 6.54830689262678e-05\n",
      "Sent 42236 is similar to a 9573: 0.8925579688502979\n",
      "Sent 39437 is similar to a 30226: 0.8750969154577992\n",
      "selected one: 98982, 6.432313107376382e-05\n",
      "selected one: 88921, 6.389285399164867e-05\n",
      "selected one: 53451, 6.375720187125975e-05\n",
      "Sent 70826 is similar to a 51052: 0.8692947786288772\n",
      "selected one: 43969, 6.336930322875994e-05\n",
      "Sent 15323 is similar to a 76628: 0.8993292311709002\n",
      "Sent 28503 is similar to a 2865: 0.8743664045150323\n",
      "Sent 67538 is similar to a 9573: 0.8648341533893001\n",
      "selected one: 38714, 6.284434455581455e-05\n",
      "Sent 51037 is similar to a 1986: 0.8580980831094589\n",
      "Sent 69555 is similar to a 9573: 0.9065133773859524\n",
      "Sent 49222 is similar to a 2865: 0.8844089586246354\n",
      "Sent 44935 is similar to a 9573: 0.8737640854016958\n",
      "Sent 62957 is similar to a 2865: 0.9051973781631777\n",
      "Sent 88505 is similar to a 51052: 0.8733693357503471\n",
      "Sent 15006 is similar to a 45817: 0.8681072321258293\n",
      "selected one: 11538, 6.14903671600921e-05\n",
      "selected one: 15092, 6.13492683327275e-05\n",
      "Sent 52434 is similar to a 30226: 0.8789863105167716\n",
      "Sent 435 is similar to a 9573: 0.8991522988627157\n",
      "Sent 20311 is similar to a 76628: 0.8758845475597266\n",
      "Sent 65996 is similar to a 78022: 0.8674633642352828\n",
      "Sent 65594 is similar to a 2865: 0.8816251888173414\n",
      "Sent 82732 is similar to a 1986: 0.8938170025690987\n",
      "Sent 92655 is similar to a 43969: 0.8544633496563675\n",
      "Sent 168 is similar to a 45817: 0.8529385326979027\n",
      "selected one: 24642, 6.038837980504194e-05\n",
      "Sent 43965 is similar to a 9573: 0.8635791687181645\n",
      "Sent 7482 is similar to a 51052: 0.8803360357986124\n",
      "Sent 51450 is similar to a 9573: 0.8599890099661553\n",
      "Sent 1759 is similar to a 1986: 0.8592300281775265\n",
      "Sent 72688 is similar to a 9573: 0.8552740163876322\n",
      "Sent 51811 is similar to a 51052: 0.8646346858410644\n",
      "Sent 51110 is similar to a 51052: 0.94684431710333\n",
      "Sent 79724 is similar to a 76628: 0.9310092265885566\n",
      "Sent 84244 is similar to a 78022: 0.9789011656143366\n",
      "Sent 74414 is similar to a 51052: 0.8725379154108649\n",
      "Sent 45282 is similar to a 45817: 0.8868705076730052\n",
      "Sent 58914 is similar to a 51052: 0.8991055292624132\n",
      "Sent 4345 is similar to a 24642: 0.8663351667052663\n",
      "Sent 32784 is similar to a 15092: 0.8585099004339534\n",
      "Sent 69675 is similar to a 78022: 0.9779500095419592\n",
      "Sent 5370 is similar to a 11538: 0.8694897131937317\n",
      "Sent 18101 is similar to a 51052: 0.8523229063720738\n",
      "Sent 92634 is similar to a 30226: 0.8589396942427998\n",
      "selected one: 10527, 5.8794951231091684e-05\n",
      "Sent 21250 is similar to a 51052: 0.9048742058893946\n",
      "Sent 92818 is similar to a 9573: 0.8548497949298589\n",
      "Sent 15237 is similar to a 45817: 0.8545719097523107\n",
      "Sent 48340 is similar to a 11538: 0.8570884045465481\n",
      "Sent 12266 is similar to a 38714: 0.8639532022719933\n",
      "Sent 92029 is similar to a 43969: 0.8960179732944039\n",
      "Sent 12570 is similar to a 11538: 0.9835303072879438\n",
      "Sent 61166 is similar to a 51052: 0.8502065070628508\n",
      "Sent 44840 is similar to a 51052: 0.8731878280722637\n",
      "Sent 91984 is similar to a 51052: 0.8660469166087097\n",
      "Sent 72795 is similar to a 78022: 0.8597862421867078\n",
      "Sent 12040 is similar to a 11538: 0.9706353537866427\n",
      "selected one: 88543, 5.838637860771925e-05\n",
      "selected one: 90861, 5.835114072263316e-05\n",
      "Sent 28921 is similar to a 15092: 0.9215487912098348\n",
      "Sent 14737 is similar to a 43969: 0.8603732194857783\n",
      "Sent 11147 is similar to a 51052: 0.8606279422808992\n",
      "selected one: 74515, 5.803515873934461e-05\n"
     ]
    }
   ],
   "source": [
    "sentIds = lex_tfidf_embs.extract_summary(n_sents = 20, cosine_thres = 0.85, max_sent=20000)"
   ]
  },
  {
   "cell_type": "code",
   "execution_count": 147,
   "metadata": {},
   "outputs": [
    {
     "data": {
      "text/plain": [
       "3.4206957192817335e-05"
      ]
     },
     "execution_count": 147,
     "metadata": {},
     "output_type": "execute_result"
    }
   ],
   "source": [
    "lex_tfidf_embs.scores[4846]"
   ]
  },
  {
   "cell_type": "code",
   "execution_count": 148,
   "metadata": {},
   "outputs": [
    {
     "data": {
      "text/plain": [
       "'ban applies if you have a visa , green card , or even if you are dual citizen ... #nowallsnobans '"
      ]
     },
     "execution_count": 148,
     "metadata": {},
     "output_type": "execute_result"
    }
   ],
   "source": [
    "str(data.iloc[2419]['Tweet'])"
   ]
  },
  {
   "cell_type": "code",
   "execution_count": 149,
   "metadata": {},
   "outputs": [
    {
     "data": {
      "text/plain": [
       "'many elderly come to green card interview with suit and tie . we ask why ? most answer with : out of respect to america & you .'"
      ]
     },
     "execution_count": 149,
     "metadata": {},
     "output_type": "execute_result"
    }
   ],
   "source": [
    "str(data.iloc[2755]['Tweet'])"
   ]
  },
  {
   "cell_type": "code",
   "execution_count": 150,
   "metadata": {},
   "outputs": [
    {
     "data": {
      "text/plain": [
       "array([[0.36787995]])"
      ]
     },
     "execution_count": 150,
     "metadata": {},
     "output_type": "execute_result"
    }
   ],
   "source": [
    "cosine_similarity(sentenceEmbs[2755].reshape(1, -1), sentenceEmbs[2419].reshape(1, -1))"
   ]
  },
  {
   "cell_type": "code",
   "execution_count": 151,
   "metadata": {},
   "outputs": [],
   "source": [
    "green_indices = data[data['Tweet'].str.contains('green card')].index"
   ]
  },
  {
   "cell_type": "code",
   "execution_count": 152,
   "metadata": {},
   "outputs": [],
   "source": [
    "cosine_matrix = cosine_similarity(sentenceEmbs[green_indices], sentenceEmbs[green_indices])"
   ]
  },
  {
   "cell_type": "code",
   "execution_count": 153,
   "metadata": {},
   "outputs": [
    {
     "name": "stdout",
     "output_type": "stream",
     "text": [
      "5037 trump's #executiveorders banning refugees & muslims is tearing families apart , exploits fear & ignorance & embolden … [[0.78014991]]\n",
      "6454 refugees who were in the air on the way to the us when trump signed his order were stopped and detained at airports . https :/ … [[0.75339771]]\n",
      "6525 this --> refugees in the air on the way to the us when trump signed is exec order were stopped & detained at airports https … [[0.77457203]]\n",
      "8866 \" refugees who were in the air on the way to the us when the order was signed were stopped and detained at airports . \" https … [[0.75640029]]\n",
      "10389 this is terrifying . holding back tears on the train . trump anti-refugee order : ' green-card holders included in ban '  [[0.75814093]]\n",
      "20188 #nobannowall american protests against the #muslimban are spreading . #denver #jfkprotest #neveragainisnow … [[0.75001516]]\n",
      "39266 trump hotels twitter trolled mercilessly in wake of ' muslim ban ' - rt #twitter #news [[0.75712114]]\n",
      "45778 houston airport protest going on right now !! this is just the beginning . #resistance #muslimban #refugeeswelcome # h … [[0.78173485]]\n",
      "12443  they're stopping students , residents , green card holders . lie down with fascists , get up with an authoritarian govt . [[0.75056364]]\n",
      "19879 marching for cell clusters but turning your back on refugees & green-card-holding americans is monstrous hypocrisy https :/ … [[0.77946443]]\n",
      "25217 gdc is a global community - we're horrified by the #muslimban . of course we'll refund affected attendees , and keep fighti … [[0.76428772]]\n",
      "84838 !!! new post from about the ongoing bullshit w/ trump , banning muslims , & the attorney general(s ) . #fb [[0.75906891]]\n",
      "101450 iran bans us citizens from entering , all 3 people who planned on going had to cancel their flights . [[0.76078191]]\n",
      "7093 refugees who were in the air on way to us as trump's executive order was signed now stopped & detained at airports : https :/ … [[0.76602434]]\n",
      "8415 trump refugee ban causes chaos , panic , anger worldwide #refugeeswelcome [[0.77200459]]\n",
      "8618 trump executive order : refugees detained at us airports . thanks #blotus for nothing . #notmypresident  [[0.75005894]]\n",
      "15432 people are not having it . jfk bout to get shut down due to thousands of protesters demanding the release of muslim tourists bein held inside [[0.75511873]]\n",
      "18833 photos : massive protests at airports all over the us as trump’s muslim ban takes effect https : … [[0.78402285]]\n",
      "28483 rt : #donaldtrump's #muslimban prompted massive demonstrations at airports across country #resist … [[0.76679965]]\n",
      "28770 trump's muslim ban triggers chaos , heartbreak , and resistance by  [[0.75101523]]\n",
      "30392 huge anger over trump muslim ban on entering usa as mass protests erupt at major airports  [[0.79444943]]\n",
      "38304 trump's muslim ban triggers chaos , heartbreak , and resistance by #resist [[0.77036744]]\n",
      "59890 #ncaaf wire : steelers player , a muslim , says immigration ban ' from the playbook of hatred '  [[0.7611017]]\n",
      "62645 starbucks has lost my business & the business of everyone i know ... if they support illegal aliens & refugees , they are unamerican . boycott ! [[0.77628851]]\n",
      "102696  boycott trump's invite ? ur not an american company anymore , u fire americans 4 immigrants ... #boycotteverythingdisney [[0.75505428]]\n",
      "4061 . : trump is \" pinning religions against each other \" with the 120-day ban on all refugees https :/ … [[0.75402013]]\n",
      "12711 if they won't let muslims transit , i say shut all the fucking international airports down . no one in or out and fuck it … [[0.75488589]]\n",
      "20297  that's why there are dual-citizens being detained right now , and being turned away at airports in the banned countries ? [[0.81933081]]\n",
      "27338 judge halts deportations as #refugee ban causes worldwide furor - #trump #muslimban  [[0.80962614]]\n",
      "29206 judge halts deportations as refugee ban causes worldwide furor  [[0.76571314]]\n",
      "43754 the power of the airport protest : president trump’s ban on immigration from several muslim countries triggers mass … htt … [[0.78941536]]\n",
      "45444 people detained at airports please refuse to sign any documents that you do not understand . ask to speak to a lawyer . #resist #indivisible [[0.76149496]]\n",
      "48723 yes this is intended as a muslim ban - trump 12/8/2015 \" i call for a total and complete shutdown of muslims enteri … [[0.7746415]]\n",
      "86469  that dude is an admitted undocumented immigrant-i mean #illegalalien . he needs 2 take his big illegal mouth&leave our country . [[0.75077026]]\n",
      "27543 किसको चुन लिया अमेरिकियों us airports on frontline as immigration ban causes chaos and controverst … [[0.75563243]]\n",
      "102936  kamexit time to stop the refugees ? build a wall around the system ? ban certain pilots from certain systems from entering ? [[0.75492206]]\n",
      "21315 terminal 5 at o'hare airport just shut down due to the presurre of protests to free refugee detainees . congresswoma … [[0.7611286]]\n",
      "29086 13 people are being detained at seatac airport , because they're muslim . fuck you  [[0.75546308]]\n",
      "35428 uber's reaction to the immigration ban protests has everybody deleting the app for good . .… [[0.77913114]]\n",
      "47269 protests against travel ban sweep country  [[0.75307795]]\n",
      "59030 07dec15 : \" donald j . trump is calling for a total and complete shutdown of muslims entering the u.s. \" trumpsters : \" … [[0.76493843]]\n",
      "59891 whole world is crying over #muslimban in us do they know sixteen islamic countries forbid admission to israeli pass … [[0.77350158]]\n",
      "63653 trump : \" i'm gonna take away healthcare , make the world hate us , detain 5-year-olds at airports , you know , make america … [[0.76604998]]\n",
      "65755 #reasonstoprotest muslim immigration destroyed sweden  #mondaymotivation  [[0.75480686]]\n",
      "75976 i lived under dictatorship this only beginning ! trump fires attorney who ordered justice dept not to defend ban #trumptyr … [[0.75129756]]\n",
      "10253 protest at jfk terminal 4 arrivals . immigration lawyers/concerned citizens there . come if you can . rt regardless . #muslimban # … [[0.79191975]]\n",
      "10594 student visas were being revoked even before trump's order : officials  [[0.7534119]]\n",
      "11590 student visas were being revoked even before trump's order : officials via  [[0.75808336]]\n",
      "18291 protestors at #sfo have completely shut down the arrivals terminal #refugees #muslimban #sanfrancisco … [[0.80749886]]\n",
      "38229 judges block deportations of detainees at us airports under trump refugee order via not your call , judge ! [[0.76825113]]\n",
      "48412 detention centers , without council , green cards being taken away . what next , full muslim or suspected muslim purge ? [[0.80164791]]\n",
      "8879 #follow #rt iraqis detained at us airport challenge trump order against muslims #retweet  [[0.76817802]]\n",
      "67677 #109 is just those detained in american airports . report on all the ones worldwide unable to return if legal green card holders [[0.77999913]]\n",
      "7748 ►lawsuit filed ! - refugees detained at u.s. airports challenge trump’s executive order #resist #resistance #muslimban [[0.81252336]]\n",
      "19707 posting again because it makes deplorables crap themselves . #neveragainisnow first trump took away muslim rights …… [[0.77167048]]\n",
      "30675 protest of #muslimban unfolds at sea-tac : police stop public transport w/o authorization  #stoppresidentbannon … [[0.78992504]]\n",
      "32281 protests across #us #airports against #trump's ' #muslim ban '  [[0.78934412]]\n",
      "37143 looking for a #muslimban protest at an airport near you ? #nobannowall #refugeeswelcome  [[0.79308707]]\n",
      "44725 sacramento airport protest from palestine to mexico , all the walls have got to go #muslimban #nobannowall … [[0.80608109]]\n",
      "45030 airport protests across the country against the #muslimban  [[0.77014825]]\n",
      "47534 inside the atlanta airport , protests about friday's executive order banning refugees #nobannowall … [[0.75373355]]\n",
      "7417 america , the land of immigrants , now banning immigrants and refugees from countries the us government has bombed to shit .… [[0.75199416]]\n",
      "14352 . furious about exec order banning #muslim immigrants from 7 countries . in presser @ … [[0.78292746]]\n",
      "15499 protest at the airport !!! #muslimban  [[0.77601755]]\n",
      "23521 nypd stopping people from getting to #jfkprotest of #muslimban . h/t : #terminal4 #jfkterminal4 … [[0.78206546]]\n",
      "27339 #muslimban protests at seatac : airline crew having to wade through protesters  [[0.7742229]]\n",
      "27591 seeing the protests at major airports is heartening . the #muslimban is absolutely unacceptable and must be vigorously opposed . [[0.76859127]]\n",
      "30345 #deleteuber : users angry at trump muslim ban scrap app  [[0.76634027]]\n",
      "31627 #deleteuber : users angry at trump #muslimban scrap app  [[0.77410064]]\n",
      "40740 protest across us airports as trump bans muslim majority nations  [[0.79535303]]\n",
      "42045 #deleteuber : users angry at trump muslim ban scrap app as it provided rides while ny taxi drivers protested at jfk … [[0.7537161]]\n",
      "43917 . #muslimban . #wakeupusa your hypocrisy stinks ! \" muslim ban \" hypocrisy : left quiet when obama also halted visas … [[0.75855966]]\n",
      "44708 trump's immigration ban triggers protest at airports across us - deccan herald | …  [[0.80068083]]\n",
      "46622 #nobannowall #muslimban protest going crazy at hartsfield-jackson airport  [[0.81240282]]\n",
      "50863 protest across us airports continues as trump bans muslim majority nations  [[0.8165193]]\n",
      "82364 trump's own campaign site still announces that he is \" calling for a total and complete shutdown of muslims entering … [[0.76702023]]\n",
      "97083 got this from an immigration lawyer mass email . an \" i-407 \" means you forfeit you greencard . one of the worst things …  [[0.79477596]]\n",
      "21973 just left courtroom , judge roasted gov lawyers over likelihood of \" irreparable injury \" to refugees if immediately deported #muslimban [[0.76799488]]\n",
      "25649 denver post : protesters , #immigration attorneys gather in protest of trump’s ban on #refugees from muslim countries https … [[0.7659521]]\n",
      "34866  an eye for an eye makes the whole world blind . banning immigrants is not the answer . unconstitutional . sad . #nobannowall [[0.76103215]]\n",
      "44607  when you campaign on a muslim ban and start banning folks from mulsim majority countries , ppl get nervous . [[0.75140799]]\n",
      "45622 congressman at #nobannowall protests : \" detaining people at airport is unconstitutional and un-am … [[0.79646711]]\n",
      "55272 trump blames travel chaos on protesters , \" schumer's tears \" ; tweets \" nothing nice about searching … #banking #finance [[0.7505703]]\n",
      "62618 chaos ensues at america's airports as president trump's ' muslim ban ' takes effect .  [[0.78934377]]\n",
      "91553 just learning that all visas other than govt/diplomatic officials from designated countries have been revoked . all … [[0.75136611]]\n",
      "92349  you banned muslims . muslims from countries you don't have business ties to . #resist #nobannowall btw get a thesaurus . [[0.77393104]]\n",
      "8713 vetted refugees being stopped dead at us airports should enrage people across the political spectrum . is this the countr … [[0.75400797]]\n",
      "19149 if you are undocumented , leave now . heavy police presence and more coming towards jfk #muslimban #nobannowall [[0.7691061]]\n",
      "97097 media cannot be trusted #thursdaythoughts #trump #muslimban #ucberkeley #maga #brexitbill #voteleave … [[0.75143506]]\n",
      "7787 trump suspends us refugee programme and bans syrians indefinitely | malala , zuckerberg , un , others react  [[0.7579993]]\n",
      "12147 official : green card holders from seven nations are also banned from entering u.s. ; airlines turning passengers away ht … [[0.75691409]]\n",
      "20275 travellers barred from flights ; chaos , anger worldwide as trump ban takes effect from  [[0.80985853]]\n",
      "20955  live #muslimban protest at #jfk airport by communists #terminal4 #dulles #hbob #iranian #ohare #noban #airtrain https :/ … [[0.76491351]]\n",
      "25569 protesters demand release of muslim ban detainees at major airport ( images )  [[0.79254163]]\n",
      "26937 dnainfo activists , aldermen join large ' emergency protest ' of travel ban at o'hare dnainfo …  [[0.77201826]]\n",
      "27720 cbp refuses to allow attys access to detainees at dulles airport despite fed court order . please tweet to all congressmen . #a … [[0.77136393]]\n",
      "39753 cair needs to be labeled a terrorist organization and shut down in america . we cant have 2 governments on our soil . https :/ … [[0.75278342]]\n",
      "26913 trump's immigration order is stopping airline crew with green cards from traveling to the u.s.  [[0.75101851]]\n",
      "41004 #breaking : soto : 3 detained at #orlando airport over #trump's executive order ; hundreds protest … [[0.75597612]]\n",
      "47029 if this trump ban is an issue . start a protest where all immigrant healthcare personell stop going to work #muslimban [[0.82356127]]\n",
      "68320 #deleteuber : users angry at trump muslim ban scrap app via todayng  [[0.7788403]]\n",
      "85184 breaking news ! pous shut down \" it's a small world \" , disneyland to remove banned muslim nations and illegals . #standwithmuslims #trumpedup [[0.79428566]]\n",
      "104262 dhs walks back immigration directives as muslim ban chaos continues by … [[0.77113428]]\n",
      "9001 us visa ban as an “ open affront against the muslim world and the iranian nation ” and vowed to retaliate #muslimban htt … [[0.76855075]]\n",
      "67478 trump ban creates chaos for travelers in , out of the country #teamhillary #vs #teamdonald  [[0.76537091]]\n",
      "3135 our signed an executive order banning all refugees and immigrants from muslim-based countries on #holocaustremembranceday [[0.78172113]]\n",
      "8595 they're now telling ppl no filming in airport . cbp trying 2 hide the shameful consequences of #muslimban #refugeeban https :/ … [[0.78576809]]\n",
      "14676 #trump’s immigration ban is illegal #refugeeswelcome #muslimban #nobannowall [[0.75451039]]\n",
      "17053 at sfo airport right now in protest of #muslimban .  [[0.77777448]]\n",
      "19331 #letthelawyersin to #sfo now . #muslimban is unconstitutional . release the detainees now . [[0.75368318]]\n",
      "42715 massive protest at copley square in boston against trump's executive order #nobannowall #muslimban #refugees … [[0.76375663]]\n"
     ]
    },
    {
     "name": "stdout",
     "output_type": "stream",
     "text": [
      "66142 eventually we are going to have to boycott everything . #boycottusa #boycottamazon #boycotttrumphotels #boycottusproducts #muslimban #love [[0.75362069]]\n",
      "7672 trump's racist , anti-muslim executive order bans people with both green cards ( ie , permanent us residents ) and visas ht … [[0.80765511]]\n",
      "11789 under latest order all syrian #refugees are barred from us , with no reasoning . show your outrage : https :/ … [[0.75896694]]\n",
      "35577 muslims diss america as trump visa ban bites [[0.75169596]]\n",
      "5754 in one of darkest moments in #us history #trump signs order banning #syria /n refugees on #holocaustmemorialday https : … [[0.76864175]]\n",
      "18774 please retweet this ! #muslimban if you are within driving distance of a major int airport protests will continue on su … [[0.75043108]]\n",
      "19894 #live : more footage of the growing protest outside o'hare airport ag . trump's immigration bans , chanting refugees a … [[0.75235426]]\n",
      "14488 #muslimban bans people from the countries around the one where #911hijackers came from . put #saudiarabia on the li … [[0.76999317]]\n",
      "14568 #trump bans travellers with visas and green cards from muslim majority countries as rights groups wage legal action htt … [[0.78027643]]\n",
      "42951 \" donald j . trump is calling for a total and complete shutdown of muslims entering the united states ” …  [[0.75027629]]\n",
      "53987  what's all this about the us banning muslims , immigration , green cards , lawyers , airports , lawyers i … [[0.81396638]]\n",
      "87445 no more starbucks ! #boycottstarbucks #muslimban #starbucks #refugees  [[0.7658885]]\n",
      "77480  we need a total ban of muslim/easteuropean immigration to protect jobs and stop the green belt being built on [[0.78830916]]\n",
      "7436 new : two iraqis detained at nyc airport in wake of executive order suspending entry into us from some muslim nations https … [[0.77510287]]\n",
      "12359 jfk terminal 4 - reporters covering #muslimban protest are asked to leave , told terminal 4 is \" private property \" - … [[0.77893263]]\n",
      "15942 breaking - 1,000 ' s are now protesting #muslimban at terminal 4 at jfk airport - protests now erupting at other us a … [[0.77380466]]\n",
      "26128 update 1-certain flight crew barred from u.s. entry after trump order - iata memo #company …  [[0.78192333]]\n",
      "32431 info on airport #protests against the #muslimban . find one in your area and join ! #refugeesarewelcomehere !  [[0.75465493]]\n",
      "88638 yes : #theresistance fear of protesters prompts cancellation of trump trip , via  [[0.75983365]]\n",
      "13465 sir cbe is banned from entering the usa now . that's how fucked up this is . #muslimban #refugeesdetained #ref … [[0.79777575]]\n",
      "39218  #muslimban protest at pittsburgh airport at arrivals gate 7 . please retweet ! [[0.75162502]]\n",
      "40591 1 arrest at msp airport #muslimban #nobannowall  [[0.78182801]]\n",
      "47821 ' trump out , refugees in ' : #muslimban sparks protests at airports across the nation … [[0.81096643]]\n",
      "59604 your ceo aligned himself with the wrong side . delete all my information . #muslimban #deleteuber [[0.77863986]]\n",
      "61569 donald trump’s “ muslim ban ” is already backfiring — and its consequences will only get worse http … [[0.77539249]]\n",
      "66959 muslim brotherhood caught red-handed at airports , this will piss you off  [[0.76198581]]\n",
      "74523 donald trump’s “ muslim ban ” is already backfiring — and its consequences will only get worse  [[0.75743155]]\n",
      "85743 trump immigration ban sparks chaos , confusion #thelead [[0.78711784]]\n",
      "47746 nationwide , muslim ban protesters head to the airport - citylab  #vrai777  $v ℅ #web  [[0.77570803]]\n",
      "90901 the new visa ban order imprisons iranian students in the usa . #stopiranban #notoimmigrationban [[0.7500628]]\n",
      "8239 trump exec order does what tx leaders spent yr fighting over — indefinitely bans syrian refugees . also suspends ent … [[0.76650327]]\n",
      "21676 protest at sf airport of immigration ban . , #letthelawyersin and #letthefamiliesout . please rt !  [[0.80551448]]\n",
      "44654 #usa : judge blocks trump order on #refugees amid chaos and outcry worldwide .  [[0.76514459]]\n",
      "11667 \" build the wall ! \" \" we'll tear it down ! \" -- protests at jfk airport right now . #muslimban [[0.75339499]]\n",
      "18315 just back online post shabbat to news of eo banning visa holders , stranding families havdalah now at jfk htt … [[0.79562741]]\n",
      "32849 washington post : judge halts #deportations as refugee ban causes worldwide furor  [[0.77803787]]\n",
      "21615 trump’s order blocks immigrants mid-flight at airports . students , doctors , families from muslim nations .  [[0.80463321]]\n",
      "61262 road outside number 10 completely blocked with protestors #standuptotrump #muslimban  [[0.76413172]]\n",
      "61620 #icymi : president's eo to block #refugees & suspend #visas will only write a chapter of history we will be ashamed of http … [[0.79000753]]\n",
      "103099 dozens of immigrants trying to enter the us coerced into giving up visas and green cards after trump travel ban : https … [[0.77071326]]\n",
      "11699 returning students , scientists , relatives with green cards -- all banned . trump order blocks immigrants at airports https … [[0.87122876]]\n",
      "51738  people with green cards ( i.e. legal alians ) were detained at american airports just because they were muslim ... [[0.77159175]]\n",
      "7202 ffs ! 2 time #oscars2017 nom & nom #asgharfarhadi banned from entering us . #trump #muslimban #disgraceful  [[0.77411501]]\n",
      "12486 so even people with green cards have to be vetted before returning to us - this looks to be getting messy v . quickly https … [[0.7596634]]\n",
      "27871 we are all immigrants : protestors descend on airports across us to decry trump’s refugee ban protesters have gath … [[0.77628599]]\n",
      "56923  alternate universe ? they were forcing handcuffed green card holders to sign i-407 renouncing visas .  [[0.78351215]]\n",
      "85562 . \" trump is calling for a total & complete shutdown of muslims entering the united states \" but it's not a religi … [[0.75978523]]\n",
      "89792 trump immigration halt casts dark cloud over next #ietf gathering  [[0.76364751]]\n",
      "10698 reports of people with green cards trying to return to u.s. - and now being denied - is tearing families apart [[0.75254972]]\n",
      "17265  hi dan . immigration ban . denied entry . visas refused . big protests @ many airports . families separated . [[0.82864161]]\n",
      "21934 we need muslim ban from all over the world ! what's to keep the pos from going 2 \" non banned \" countries 2 g …  [[0.77497263]]\n",
      "26931 judge blocks trump order on refugees amid chaos and outcry worldwide  [[0.76186091]]\n",
      "32558 judge blocks trump order on refugees amid chaos & outcry worldwide not blocking , working out details of green cards  [[0.7573986]]\n",
      "34584 judge blocks #trump order on #refugees amid chaos and outcry worldwide #muslimban  [[0.81390426]]\n",
      "35888 judge blocks trump order on refugees amid chaos and outcry worldwide #trump [[0.76245053]]\n",
      "46845 how about all the libtards protesting airports , buy youselves one-way tickets to getthefuckoutistan ! #muslimban  [[0.8060295]]\n",
      "49171 judge blocks trump order on refugees amid chaos and outcry worldwide , via  [[0.771812]]\n",
      "7086 refugees fleeing war detained at airport ; long time green card holders denied re-entry home . nightmare . #nobannowall .… [[0.8068594]]\n",
      "67955 this is tonight's crowd . the american fascist is not and won't be welcome here . #muslimban #londonstandswithmuslims http … [[0.75258853]]\n",
      "85591 muslims stranded in american airports due to trump's anti-islam decrees , turned american airports into masajids . … [[0.76328785]]\n"
     ]
    }
   ],
   "source": [
    "for x in lex_tfidf_embs.graph[2323]:\n",
    "    print(x, str(data.iloc[x]['Tweet']), cosine_similarity(sentenceEmbs[x].reshape(1, -1), sentenceEmbs[2323].reshape(1, -1)))"
   ]
  },
  {
   "cell_type": "code",
   "execution_count": 154,
   "metadata": {},
   "outputs": [
    {
     "data": {
      "text/plain": [
       "'several people killed in shooting at quebec city mosque '"
      ]
     },
     "execution_count": 154,
     "metadata": {},
     "output_type": "execute_result"
    }
   ],
   "source": [
    "str(data.iloc[50246]['Tweet'])"
   ]
  },
  {
   "cell_type": "code",
   "execution_count": 155,
   "metadata": {},
   "outputs": [
    {
     "name": "stdout",
     "output_type": "stream",
     "text": [
      "7.648065808677812e-05\n",
      "7.608186491893474e-05\n",
      "7.086856553357003e-05\n",
      "7.038706088198347e-05\n",
      "6.927957863849398e-05\n",
      "6.862070452352763e-05\n",
      "6.737707014599702e-05\n",
      "6.54830689262678e-05\n",
      "6.432313107376382e-05\n",
      "6.389285399164867e-05\n",
      "6.375720187125975e-05\n",
      "6.336930322875994e-05\n",
      "6.284434455581455e-05\n",
      "6.14903671600921e-05\n",
      "6.13492683327275e-05\n",
      "6.038837980504194e-05\n",
      "5.8794951231091684e-05\n",
      "5.838637860771925e-05\n",
      "5.835114072263316e-05\n",
      "5.803515873934461e-05\n"
     ]
    }
   ],
   "source": [
    "for i, idx in enumerate(sentIds):\n",
    "    print(lex_tfidf_embs.scores[idx])\n",
    "#     print(\"{}. {}\".format(i, data.iloc[idx]['Tweet']))"
   ]
  },
  {
   "cell_type": "code",
   "execution_count": 157,
   "metadata": {},
   "outputs": [
    {
     "name": "stdout",
     "output_type": "stream",
     "text": [
      "0 51052 #er_updates sag awards turns into protest against donald trump’s immigration ban | see photos via \n",
      "1 1986 trump eos to stop refugee admissions & shut down visas for majority-muslim nations are a smokescreen for this same reli …\n",
      "2 9573 #theresistance #muslimban #noban #nobannowall breaking : aclu is suing trump over immigration ban . …\n",
      "3 2865 #muslimban is another lying hashtag . trump is banning unvettables from nations w lots of terrorists . opposing him o …\n",
      "4 45817 trump's muslim ban proves that his administration is full of idiots via #nomuslimb …\n",
      "5 76628 wow . trump has fired the acting attorney general for saying his #muslimban is probably illegal . \n",
      "6 78022 left protests while #trump junks obama's global immigration plan - breitbart #maga #tcot #deplo …\n",
      "7 30226 #breaking merkel says trump immigration ban ' not justified ' : spokesman\n",
      "8 98982 gold star father khizr khan says president trump’s immigration ban has “ alienated patrioti … #news #follow #rt #retw … \n",
      "9 88921 left ' threaten ' to cancel oscars over trump's immigration order . how is this a bad thing ? #boycottoscars #muslimban http …\n",
      "10 53451 president's trump's statement of his immigration ban . media is lying & causing isis to gain strength ! need to inves …\n",
      "11 43969 theboombox > john legend denounces president trump's immigration ban : ' america has to be better than that ' [ vide ... \n",
      "12 38714 #bantrump : trump making biggest blunder by banning muslims from usa . dangerous uneasiness spreading in social climat … \n",
      "13 11538 protesters demand release of travelers at jfk as trump's muslim ban sows chaos by \n",
      "14 15092  wake up idiots . danger danger trump's muslim ban excludes countries linked to his businesses \n",
      "15 24642 trump brings shame to the u.s. with an immigration ban based on fear via #donaldtrump\n",
      "16 10527 anger erupts over trump's order banning refugees from us \n",
      "17 88543 #us senators should denounce trump’s shameful refugee suspension & 7-country entry ban . #nomuslimban …\n",
      "18 90861 trump sacks defiant acting us attorney general over immigration ban - bbc news …\n",
      "19 74515 update : acting ag hack and obama appointee was told trump's travel ban was legit - played politics anyway ! …\n"
     ]
    }
   ],
   "source": [
    "for i, idx in enumerate(sentIds):\n",
    "    print(i, idx,  str(data.iloc[idx]['Tweet']))"
   ]
  },
  {
   "cell_type": "markdown",
   "metadata": {},
   "source": [
    "# Test: "
   ]
  },
  {
   "cell_type": "code",
   "execution_count": 136,
   "metadata": {},
   "outputs": [
    {
     "data": {
      "text/plain": [
       "(105175, 48876)"
      ]
     },
     "execution_count": 136,
     "metadata": {},
     "output_type": "execute_result"
    }
   ],
   "source": [
    "tfidfData.shape"
   ]
  },
  {
   "cell_type": "code",
   "execution_count": 137,
   "metadata": {},
   "outputs": [],
   "source": [
    "tfidfCosine = cosine_similarity(tfidfData[0], tfidfData)"
   ]
  },
  {
   "cell_type": "code",
   "execution_count": 138,
   "metadata": {},
   "outputs": [
    {
     "name": "stdout",
     "output_type": "stream",
     "text": [
      "Indices: [69001 89159 45071 97335  8934 47837 23965 97957 79193     0]\n",
      "Cosine values: [0.29885404 0.31449262 0.31054174 0.32932619 0.35482742 0.37053803\n",
      " 0.35177892 0.3296877  0.33406314 1.        ]\n",
      "Tweet 0: emergency rally trumps muslim travel ban nyc 125 5 pm\n",
      "69001\t0.2988540434810337\twatch live protesters gather rally hate nyc response trumps refugee ban\n",
      "89159\t0.31449261555765645\tgoogle workers rally trumps travel ban\n",
      "45071\t0.31054173613047253\tmany american flags todays nyc rally trumps muslim ban america resist htt\n",
      "97335\t0.32932618513296824\tdefend immigrants trump rally nyc 2 pm today near nyu nobannowall\n",
      "8934\t0.35482741613624674\tprotesters rally trumps muslim immigration ban\n",
      "47837\t0.37053803108721006\tsenator chuck schumer slams trumps travel ban nyc rally\n",
      "23965\t0.3517789220943597\tblocks call trumps unconstitutional muslim ban comes emergency hearing nyc\n",
      "97957\t0.32968770264912745\tjudge extends emergency stay blocking trumps travel ban via newyork nyc\n",
      "79193\t0.33406314343351484\tknow fridays eo muslim ban temp travel restriction countries w 125 global musli\n",
      "0\t1.0000000000000002\temergency rally trumps muslim travel ban nyc 125 5 pm\n"
     ]
    }
   ],
   "source": [
    "# extract 10 sentence with highest similarity\n",
    "indices = np.argpartition(tfidfCosine[0], -10)[-10:]\n",
    "elements = tfidfCosine[0][indices]\n",
    "print(\"Indices: {}\".format(indices))\n",
    "print(\"Cosine values: {}\".format(elements))\n",
    "print(\"Tweet 0:\", str(data.iloc[0]['Tweet1']))\n",
    "for i in indices:\n",
    "    print(\"{}\\t{}\\t{}\".format(i, tfidfCosine[0][i], str(data.iloc[i]['Tweet1'])))"
   ]
  },
  {
   "cell_type": "code",
   "execution_count": 139,
   "metadata": {},
   "outputs": [
    {
     "name": "stdout",
     "output_type": "stream",
     "text": [
      "Indices: [ 1279 44958 40096 52607 37999 90081 97777 52571 25520     0]\n",
      "Cosine values: [0.85526015 0.85747451 0.85783423 0.8714714  0.87335137 0.87723659\n",
      " 0.88470356 0.89061269 0.897992   1.        ]\n",
      "Tweet 0: emergency rally trumps muslim travel ban nyc 125 5 pm\n",
      "1279\t0.8552601497991861\tprotest today trump dapl downtown 5pm 611 woodward\n",
      "44958\t0.8574745142185886\tseattle protest muslimban tomorrow westlake park 5pm\n",
      "40096\t0.8578342286334354\temergency demo york tomorrow 5pm st helens square protest muslimban uk complicity mu\n",
      "52607\t0.8714713959799587\tmorning half 5 today protest trumps muslim ban hopefully see ️️\n",
      "37999\t0.8733513658784792\tcambridge friends rally 5pm tomorrow gsm trumps muslimban uk govts complicity whos coming ht\n",
      "90081\t0.8772365917424746\ttoday 5pm est take questions president trumps immigration ban response new york\n",
      "97777\t0.8847035615336298\twest hollywood holding antitrump rally today 5pm pst ill defend great president\n",
      "52571\t0.890612686995518\tseattle join us 5pm westlake park protest president trumps immigration refugee ban\n",
      "25520\t0.8979920009954953\tprotest muslimban tomorrow dallas city hall 5 pm\n",
      "0\t1.0000000000000007\temergency rally trumps muslim travel ban nyc 125 5 pm\n"
     ]
    }
   ],
   "source": [
    "embCosine = cosine_similarity(sentenceEmbs[0].reshape(1, -1), sentenceEmbs)\n",
    "# extract 10 sentence with highest similarity\n",
    "indices = np.argpartition(embCosine[0], -10)[-10:]\n",
    "elements = embCosine[0][indices]\n",
    "print(\"Indices: {}\".format(indices))\n",
    "print(\"Cosine values: {}\".format(elements))\n",
    "print(\"Tweet 0:\", str(data.iloc[0]['Tweet1']))\n",
    "for i in indices:\n",
    "    print(\"{}\\t{}\\t{}\".format(i, embCosine[0][i], str(data.iloc[i]['Tweet1'])))"
   ]
  },
  {
   "cell_type": "code",
   "execution_count": 111,
   "metadata": {},
   "outputs": [
    {
     "name": "stdout",
     "output_type": "stream",
     "text": [
      "1279\t[[0.85526013]]\tprotest today trump dapl downtown 5pm 611 woodward\n",
      "44958\t[[0.85747457]]\tseattle protest muslimban tomorrow westlake park 5pm\n",
      "40096\t[[0.8578342]]\temergency demo york tomorrow 5pm st helens square protest muslimban uk complicity mu\n",
      "52607\t[[0.8714714]]\tmorning half 5 today protest trumps muslim ban hopefully see ️️\n",
      "37999\t[[0.87335134]]\tcambridge friends rally 5pm tomorrow gsm trumps muslimban uk govts complicity whos coming ht\n",
      "52571\t[[0.8906126]]\tseattle join us 5pm westlake park protest president trumps immigration refugee ban\n",
      "25520\t[[0.897992]]\tprotest muslimban tomorrow dallas city hall 5 pm\n",
      "97778\t[[0.8847035]]\twest hollywood holding antitrump rally today 5pm pst ill defend great president\n",
      "90082\t[[0.87723655]]\ttoday 5pm est take questions president trumps immigration ban response new york\n",
      "0\t[[1.]]\temergency rally trumps muslim travel ban nyc 125 5 pm\n"
     ]
    }
   ],
   "source": [
    "for i in indices:\n",
    "    print(\"{}\\t{}\\t{}\".format(i, cosine_similarity(sentenceEmbs[0].reshape(1, -1), sentenceEmbs[i].reshape(1, -1)), str(data.iloc[i]['Tweet1'])))"
   ]
  },
  {
   "cell_type": "code",
   "execution_count": 116,
   "metadata": {},
   "outputs": [
    {
     "name": "stdout",
     "output_type": "stream",
     "text": [
      "(10, 768)\n"
     ]
    }
   ],
   "source": [
    "sents = sentenceEmbs[indices]\n",
    "print(sents.shape)"
   ]
  },
  {
   "cell_type": "code",
   "execution_count": 117,
   "metadata": {},
   "outputs": [
    {
     "name": "stdout",
     "output_type": "stream",
     "text": [
      "(10, 10)\n"
     ]
    }
   ],
   "source": [
    "num = np.dot(sents, sents.T)\n",
    "            \n",
    "if scipy.sparse.issparse(sents):\n",
    "    magnitude = norm(sents.toarray(), axis = 1)\n",
    "else:\n",
    "    magnitude = norm(sents, axis = 1)\n",
    "\n",
    "den = np.dot(magnitude.reshape(-1, 1), magnitude.T.reshape(1, -1))\n",
    "\n",
    "\n",
    "cosine_matrix = np.array(num/den)"
   ]
  },
  {
   "cell_type": "code",
   "execution_count": 118,
   "metadata": {},
   "outputs": [
    {
     "data": {
      "text/plain": [
       "array([0.8552605 , 0.85747445, 0.85783404, 0.8714711 , 0.8733514 ,\n",
       "       0.8906124 , 0.89799184, 0.88470346, 0.87723655, 0.9999999 ],\n",
       "      dtype=float32)"
      ]
     },
     "execution_count": 118,
     "metadata": {},
     "output_type": "execute_result"
    }
   ],
   "source": [
    "cosine_matrix[9]"
   ]
  },
  {
   "cell_type": "markdown",
   "metadata": {},
   "source": [
    "# Test bertscore"
   ]
  },
  {
   "cell_type": "code",
   "execution_count": 27,
   "metadata": {},
   "outputs": [],
   "source": [
    "from bert_score import BERTScorer\n",
    "scorer = BERTScorer(lang='en', rescale_with_baseline = True, idf = True, idf_sents = list(data['Tweet']), device='cuda:3')"
   ]
  },
  {
   "cell_type": "code",
   "execution_count": 28,
   "metadata": {},
   "outputs": [],
   "source": [
    "cands = [data.iloc[0]['Tweet']]*data.shape[0]\n",
    "refs = list(data['Tweet'])"
   ]
  },
  {
   "cell_type": "code",
   "execution_count": null,
   "metadata": {},
   "outputs": [
    {
     "name": "stdout",
     "output_type": "stream",
     "text": [
      "0 -- 5000 14.433952569961548\n",
      "5000 -- 10000 14.843559980392456\n",
      "10000 -- 15000 14.934136867523193\n",
      "15000 -- 20000 15.487010478973389\n",
      "20000 -- 25000 21.0456702709198\n",
      "25000 -- 30000 20.31022047996521\n",
      "30000 -- 35000 21.16242003440857\n",
      "35000 -- 40000 20.423917293548584\n",
      "40000 -- 45000 18.55930519104004\n",
      "45000 -- 50000 20.600172758102417\n",
      "50000 -- 55000 20.334948539733887\n",
      "55000 -- 60000 20.02225613594055\n",
      "60000 -- 65000 20.0243399143219\n",
      "65000 -- 70000 19.104448556900024\n",
      "70000 -- 75000 19.304067611694336\n",
      "75000 -- 80000 20.95208215713501\n",
      "80000 -- 85000 21.397560834884644\n"
     ]
    }
   ],
   "source": [
    "import time\n",
    "time0 = time.time()\n",
    "batch_size = 5000\n",
    "f1_scores = []\n",
    "for i in range(0, data.shape[0], batch_size):\n",
    "    _, _, F1 = scorer.score(cands[i:i+batch_size], refs[i:i+batch_size])\n",
    "    f1_scores += F1.tolist()\n",
    "    time1 = time.time()\n",
    "    print(i, \"--\", i+batch_size, time1 - time0)\n",
    "    time0 = time1"
   ]
  },
  {
   "cell_type": "code",
   "execution_count": 31,
   "metadata": {},
   "outputs": [
    {
     "data": {
      "text/plain": [
       "-0.08983207250651078"
      ]
     },
     "execution_count": 31,
     "metadata": {},
     "output_type": "execute_result"
    }
   ],
   "source": [
    "f1_scores1 = np.array(f1_scores).copy()\n",
    "f1_scores1.mean()"
   ]
  },
  {
   "cell_type": "code",
   "execution_count": null,
   "metadata": {},
   "outputs": [],
   "source": [
    "# find most similar tweet to the first one using bert score with idf of 0\n",
    "\n",
    "indices = np.argpartition(f1_scores1, -10)[-10:]\n",
    "elements = f1_scores1[indices]\n",
    "print(\"Indices: {}\".format(indices))\n",
    "print(\"Similarity values: {}\".format(elements))\n",
    "print(\"Tweet 0:\", str(data.iloc[0]['Tweet1']))\n",
    "for i in indices:\n",
    "    print(\"{}\\t{}\\t{}\".format(i, f1_scores1[i], str(data.iloc[i]['Tweet1'])))"
   ]
  },
  {
   "cell_type": "code",
   "execution_count": 63,
   "metadata": {},
   "outputs": [
    {
     "name": "stdout",
     "output_type": "stream",
     "text": [
      "Indices: [49951 52968 41158 94919 41783 53618 52869 53374  8934     0]\n",
      "Similarity values: [0.37086952 0.37508908 0.40021974 0.39870292 0.37976035 0.38699275\n",
      " 0.40110406 0.40852752 0.47117564 1.00000072]\n",
      "Tweet 0: emergency rally trumps muslim travel ban nyc 125 5 pm\n",
      "49951\t0.370869517326355\tthousands protest seattle trumps ban\n",
      "52968\t0.3750890791416168\temergency demo trumps muslimban monday 30 january 530 pm greys monument newcastle\n",
      "41158\t0.40021973848342896\tthousands demonstrate boston trumps immigration orders\n",
      "94919\t0.3987029194831848\tprotesters march nycs federal immigration offices trumps ban\n",
      "41783\t0.37976035475730896\tprotesters new york trumps travel ban\n",
      "53618\t0.38699275255203247\temergency demo today trumps muslimban\n",
      "52869\t0.40110406279563904\tprotesters rally trumps immigration orders\n",
      "53374\t0.40852752327919006\tdemonstrators rally trumps immigration orders indy airport\n",
      "8934\t0.4711756408214569\tprotesters rally trumps muslim immigration ban\n",
      "0\t1.0000007152557373\temergency rally trumps muslim travel ban nyc 125 5 pm\n"
     ]
    }
   ],
   "source": [
    "# find most similar tweet to the first one using bert score with idf of 0\n",
    "\n",
    "indices = np.argpartition(f1_scores1, -10)[-10:]\n",
    "elements = f1_scores1[indices]\n",
    "print(\"Indices: {}\".format(indices))\n",
    "print(\"Similarity values: {}\".format(elements))\n",
    "print(\"Tweet 0:\", str(data.iloc[0]['Tweet1']))\n",
    "for i in indices:\n",
    "    print(\"{}\\t{}\\t{}\".format(i, f1_scores1[i], str(data.iloc[i]['Tweet1'])))"
   ]
  },
  {
   "cell_type": "code",
   "execution_count": 31,
   "metadata": {},
   "outputs": [
    {
     "name": "stdout",
     "output_type": "stream",
     "text": [
      "Indices: [46983 52869 46127 41783 49951 41158  8934 94919 53374     0]\n",
      "Similarity values: [0.44857961 0.4497115  0.46857849 0.45573822 0.45327032 0.47105238\n",
      " 0.53879553 0.45089778 0.46392944 1.        ]\n",
      "Tweet 0: emergency rally against trump's muslim travel ban in nyc , 1/25 at 5 p.m.\n",
      "46983\t0.4485796093940735\thundreds gather in nashville to protest trump's travel ban\n",
      "52869\t0.44971150159835815\tprotesters rally against trump's immigration orders\n",
      "46127\t0.4685784876346588\tprotesters rally at detroit metro airport against trump's muslim ban\n",
      "41783\t0.45573821663856506\tprotesters in new york against trump's travel ban\n",
      "49951\t0.4532703161239624\tthousands protest in seattle against trump's ban\n",
      "41158\t0.4710523784160614\tthousands demonstrate in boston against trump's immigration orders\n",
      "8934\t0.538795530796051\tprotesters rally against trump's muslim immigration ban .\n",
      "94919\t0.45089778304100037\tprotesters march to nyc's federal immigration offices against trump’s ban\n",
      "53374\t0.4639294445514679\tdemonstrators rally against trump’s immigration orders at indy airport\n",
      "0\t1.0\temergency rally against trump's muslim travel ban in nyc , 1/25 at 5 p.m.\n"
     ]
    }
   ],
   "source": [
    "# find most similar tweet to the first one using bert score without idf\n",
    "\n",
    "indices = np.argpartition(f1_scores1, -10)[-10:]\n",
    "elements = f1_scores1[indices]\n",
    "print(\"Indices: {}\".format(indices))\n",
    "print(\"Similarity values: {}\".format(elements))\n",
    "print(\"Tweet 0:\", str(data.iloc[0]['Tweet']))\n",
    "for i in indices:\n",
    "    print(\"{}\\t{}\\t{}\".format(i, f1_scores1[i], str(data.iloc[i]['Tweet'])))"
   ]
  },
  {
   "cell_type": "markdown",
   "metadata": {},
   "source": [
    "## 5. Lexrank with tfidf and bert embeddings"
   ]
  },
  {
   "cell_type": "code",
   "execution_count": 13,
   "metadata": {},
   "outputs": [
    {
     "name": "stdout",
     "output_type": "stream",
     "text": [
      "(123385,)\n"
     ]
    }
   ],
   "source": [
    "lsh = LSH(embeddingData)\n",
    "lsh.train(num_bits = 32)\n",
    "lex = LexRank(embeddingData, lsh)"
   ]
  },
  {
   "cell_type": "code",
   "execution_count": null,
   "metadata": {},
   "outputs": [],
   "source": [
    "%%time\n",
    "lex.build_graph(search_radius = 1, percent = 0.05)"
   ]
  },
  {
   "cell_type": "code",
   "execution_count": 16,
   "metadata": {},
   "outputs": [
    {
     "data": {
      "text/plain": [
       "array([  1,   0, 346, ...,   1,   0,  87], dtype=int32)"
      ]
     },
     "execution_count": 16,
     "metadata": {},
     "output_type": "execute_result"
    }
   ],
   "source": [
    "# lex.matrix.getnnz(axis = 1)"
   ]
  },
  {
   "cell_type": "code",
   "execution_count": 15,
   "metadata": {},
   "outputs": [
    {
     "name": "stdout",
     "output_type": "stream",
     "text": [
      "Iteration: 0\n",
      "Iteration: 10\n",
      "Iteration: 20\n",
      "Iteration: 30\n",
      "Iteration: 40\n",
      "Iteration: 50\n",
      "Iteration: 60\n",
      "Iteration: 70\n",
      "Iteration: 80\n",
      "Iteration: 90\n"
     ]
    }
   ],
   "source": [
    "lex.train(lexrank_iter = 100, damping_factor = 0.85)"
   ]
  },
  {
   "cell_type": "code",
   "execution_count": 16,
   "metadata": {},
   "outputs": [
    {
     "name": "stdout",
     "output_type": "stream",
     "text": [
      "Extracting sentences.....\n",
      "0 ,  id:  105661 :  when will we get a prime minister who stands up against trump for british values top q by today\n",
      "1 ,  id:  108290 :  trumps america is a rogue state the remaining free world nations to impose sanctions before its too late\n",
      "2 ,  id:  24813 :  at jfk where protesters have totally shut down roads to terminal 4 a cheer erupts as news breaks that the\n",
      "3 ,  id:  75672 :  farsi speakers needed at sfo see below\n",
      "4 ,  id:  79361 :  honestly how many people does the uk government deport every single day why would they speak up against the muslimban\n",
      "5 ,  id:  118736 :  48 of trump voters think airport protesters across the country last weekend were paid to do so by george soros\n",
      "6 ,  id:  63237 :  why did miami submit to trumps executive order culture\n",
      "7 ,  id:  63259 :  over 1 million sign u k petition to ban trump from state visit\n",
      "8 ,  id:  119399 :  48 ppl killed by white terrorists in us while 26 were killed by radical islamists since 911\n",
      "9 ,  id:  55284 :  i understand a fight out between über and lyft but wouldnot it be more effective to support a total ban of all trump prod\n",
      "10 ,  id:  5238 :  hamas terrorist spox disapproves of president trump vetting pause\n",
      "11 ,  id:  37680 :  sunchat a cuomo if were deporting immigrants start with me are you an illegal alien are you a me refugee\n",
      "12 ,  id:  106199 :  is a common sense conservative president trump competence safety unity us jobs jobs jobs\n",
      "13 ,  id:  98424 :  if you disapprove of trumps refugee travel ban youre in the minority\n",
      "14 ,  id:  106760 :  aksibelataipan412 31 of americans say travel ban makes them safer poll\n"
     ]
    }
   ],
   "source": [
    "sentIds2 = lex.extract_sentences(n_sents = 15)"
   ]
  },
  {
   "cell_type": "code",
   "execution_count": 19,
   "metadata": {},
   "outputs": [
    {
     "name": "stdout",
     "output_type": "stream",
     "text": [
      "3464\n",
      "5\n"
     ]
    }
   ],
   "source": [
    "print(len(lex.graph[105661]))\n",
    "print(len(lex.graph[106760]))"
   ]
  },
  {
   "cell_type": "code",
   "execution_count": 22,
   "metadata": {},
   "outputs": [
    {
     "name": "stdout",
     "output_type": "stream",
     "text": [
      "0.00012323896237877713\n",
      "1.8887369727844597e-06\n"
     ]
    }
   ],
   "source": [
    "print(lex.scores[105661])\n",
    "print(lex.scores[106760])"
   ]
  },
  {
   "cell_type": "code",
   "execution_count": null,
   "metadata": {},
   "outputs": [],
   "source": [
    "with open('embedding_lex.pkl', 'wb') as f:\n",
    "    pickle.dump(lex, f)"
   ]
  },
  {
   "cell_type": "code",
   "execution_count": null,
   "metadata": {},
   "outputs": [],
   "source": []
  }
 ],
 "metadata": {
  "celltoolbar": "Slideshow",
  "kernelspec": {
   "display_name": "python3.7.3",
   "language": "python",
   "name": "python3.7.3"
  },
  "language_info": {
   "codemirror_mode": {
    "name": "ipython",
    "version": 3
   },
   "file_extension": ".py",
   "mimetype": "text/x-python",
   "name": "python",
   "nbconvert_exporter": "python",
   "pygments_lexer": "ipython3",
   "version": "3.7.3"
  }
 },
 "nbformat": 4,
 "nbformat_minor": 2
}
