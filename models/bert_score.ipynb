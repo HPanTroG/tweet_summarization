{
 "cells": [
  {
   "cell_type": "code",
   "execution_count": 1,
   "metadata": {},
   "outputs": [],
   "source": [
    "from bert_score import BERTScorer\n",
    "import numpy as np\n",
    "import pandas as pd\n",
    "from nltk.corpus import stopwords\n",
    "from sklearn.feature_extraction.text import TfidfVectorizer\n",
    "from lsh import LSH\n",
    "from fast_lexrank import Lexrank\n",
    "import time, emoji, string\n",
    "# hide the loading messages\n",
    "import re\n",
    "import warnings; warnings.simplefilter('ignore')"
   ]
  },
  {
   "cell_type": "code",
   "execution_count": 2,
   "metadata": {
    "scrolled": true
   },
   "outputs": [
    {
     "name": "stdout",
     "output_type": "stream",
     "text": [
      "                   Id                                              Tweet\n",
      "0  824941360449015808  RT @MENTION : Emergency Rally Against Trump's ...\n",
      "1  824941519857610752  RT @MENTION : Theresa May has not apologized t...\n",
      "2  824941616314122240  RT @MENTION : Trump's Immigration Ban Excludes...\n",
      "3  824942056741167105  RT @MENTION : Trump's immigration order expand...\n",
      "4  824942966875774976  ALERT : Senator John McCain Threatens Action O...\n",
      "(123385, 2)\n"
     ]
    }
   ],
   "source": [
    "# read data\n",
    "data = pd.read_csv('/home/ehoang/hnt/data/processed_travel_ban.csv')\n",
    "print(data.head())\n",
    "print(data.shape)"
   ]
  },
  {
   "cell_type": "code",
   "execution_count": 3,
   "metadata": {},
   "outputs": [
    {
     "name": "stdout",
     "output_type": "stream",
     "text": [
      "                   Id                                              Tweet  \\\n",
      "0  824941360449015808  emergency rally against trump's muslim travel ...   \n",
      "1  824941519857610752  theresa may has not apologized to trump for in...   \n",
      "2  824941616314122240  trump's immigration ban excludes countries wit...   \n",
      "3  824942056741167105  trump's immigration order expands the definiti...   \n",
      "4  824942966875774976  alert : senator john mccain threatens action o...   \n",
      "\n",
      "                                              Tweet1  uniWPercent  \n",
      "0  emergency rally trumps muslim travel ban nyc 1...           10  \n",
      "1  theresa may apologized trump insulting fails t...           11  \n",
      "2  trumps immigration ban excludes countries busi...            9  \n",
      "3  trumps immigration order expands definition cr...            6  \n",
      "4  alert senator john mccain threatens action pre...            8  \n"
     ]
    }
   ],
   "source": [
    "# remove rt, @USER, @URL, emoji\n",
    "data['Tweet'] = data['Tweet'].apply(lambda x: x.replace('@MENTION', \"\").replace(\"@URL\", \"\").\n",
    "                                    replace(\"@EMAIL\", \"\").lower())\n",
    "data['Tweet'] = data['Tweet'].apply(lambda x: re.sub(\"^ ?(rt ?)+\", \"\", x))                              \n",
    "data['Tweet'] = data['Tweet'].apply(lambda x: re.sub('^( ?: ?)', '', x))\n",
    "data['Tweet'] = data['Tweet'].apply(lambda x: re.sub(\"  +\", \" \", x))\n",
    "data['Tweet'] = data['Tweet'].apply(lambda x: ''.join(c for c in x if c not in emoji.UNICODE_EMOJI).strip())\n",
    "# remove stopwords, punctuation\n",
    "stopWords = stopwords.words('english')\n",
    "data['Tweet1'] = data['Tweet'].apply(lambda x: ' '.join(y for y in x.split(\" \") if y not in stopWords))\n",
    "data['Tweet1'] = data['Tweet1'].apply(lambda x: x.translate(str.maketrans('', '',  string.punctuation)))\n",
    "data['Tweet1'] = data['Tweet1'].apply(lambda x: re.sub('“|…|’|‘|”|—|→', \"\", x))\n",
    "data['Tweet1'] = data['Tweet1'].apply(lambda x: re.sub(' +', ' ',x).strip())\n",
    "\n",
    "# remove tweets #unique words less than haft of length\n",
    "data['uniWPercent'] = data['Tweet1'].apply(lambda x: 0 if len(set(x.split(\" \")))/len(x.split(\" \")) <= 0.5 else len(x.split(\" \")))\n",
    "data = data[data['uniWPercent']!=0]\n",
    "# # remove tweets with lengths < 3, duplicates\n",
    "while data['uniWPercent'].min() <=2:\n",
    "    data = data[data['uniWPercent'] >2]\n",
    "    data['uniWPercent'] = data['Tweet1'].apply(lambda x: 0 if len(set(x.split(\" \")))/len(x.split(\" \")) <= 0.5 else len(x.split(\" \")))\n",
    "# # # remove duplicates\n",
    "data.drop_duplicates(subset=['Tweet1'], keep='first', inplace = True)\n",
    "print(data.head())"
   ]
  },
  {
   "cell_type": "code",
   "execution_count": 4,
   "metadata": {},
   "outputs": [
    {
     "data": {
      "text/plain": [
       "(105175, 4)"
      ]
     },
     "execution_count": 4,
     "metadata": {},
     "output_type": "execute_result"
    }
   ],
   "source": [
    "data.shape"
   ]
  },
  {
   "cell_type": "code",
   "execution_count": 5,
   "metadata": {},
   "outputs": [],
   "source": [
    "remained_index = data.index"
   ]
  },
  {
   "cell_type": "code",
   "execution_count": 6,
   "metadata": {},
   "outputs": [],
   "source": [
    "data = data.reset_index(drop=True)"
   ]
  },
  {
   "cell_type": "code",
   "execution_count": 7,
   "metadata": {},
   "outputs": [
    {
     "data": {
      "text/plain": [
       "(105175, 4)"
      ]
     },
     "execution_count": 7,
     "metadata": {},
     "output_type": "execute_result"
    }
   ],
   "source": [
    "data.shape"
   ]
  },
  {
   "cell_type": "code",
   "execution_count": 8,
   "metadata": {},
   "outputs": [],
   "source": [
    "# data = data.iloc[0:10000]"
   ]
  },
  {
   "cell_type": "code",
   "execution_count": 9,
   "metadata": {},
   "outputs": [
    {
     "name": "stdout",
     "output_type": "stream",
     "text": [
      "(105175, 48876)\n"
     ]
    }
   ],
   "source": [
    "#extract tfidf vector\n",
    "tfidf = TfidfVectorizer()\n",
    "tfidfData = tfidf.fit_transform(data['Tweet1'])\n",
    "print(tfidfData.shape)"
   ]
  },
  {
   "cell_type": "code",
   "execution_count": 10,
   "metadata": {},
   "outputs": [
    {
     "name": "stdout",
     "output_type": "stream",
     "text": [
      "(105175,)\n"
     ]
    }
   ],
   "source": [
    "lsh_tfidf = LSH(tfidfData)\n",
    "lsh_tfidf.train(num_bits = 8)\n"
   ]
  },
  {
   "cell_type": "code",
   "execution_count": null,
   "metadata": {},
   "outputs": [],
   "source": []
  },
  {
   "cell_type": "code",
   "execution_count": 11,
   "metadata": {},
   "outputs": [],
   "source": [
    "buckets = lsh_tfidf.extract_nearby_bins(max_search_radius = 0)"
   ]
  },
  {
   "cell_type": "code",
   "execution_count": 12,
   "metadata": {},
   "outputs": [
    {
     "name": "stdout",
     "output_type": "stream",
     "text": [
      "540\n",
      "535\n",
      "474\n",
      "493\n",
      "539\n",
      "607\n",
      "538\n",
      "628\n",
      "589\n",
      "575\n",
      "496\n",
      "501\n",
      "586\n",
      "600\n",
      "559\n",
      "584\n",
      "370\n",
      "374\n",
      "369\n",
      "457\n",
      "477\n",
      "425\n",
      "491\n",
      "558\n",
      "396\n",
      "429\n",
      "398\n",
      "415\n",
      "409\n",
      "419\n",
      "411\n",
      "491\n",
      "424\n",
      "470\n",
      "469\n",
      "510\n",
      "470\n",
      "495\n",
      "574\n",
      "578\n",
      "550\n",
      "446\n",
      "454\n",
      "437\n",
      "523\n",
      "556\n",
      "558\n",
      "543\n",
      "297\n",
      "378\n",
      "321\n",
      "424\n",
      "412\n",
      "387\n",
      "504\n",
      "519\n",
      "374\n",
      "379\n",
      "347\n",
      "361\n",
      "443\n",
      "422\n",
      "433\n",
      "456\n",
      "407\n",
      "419\n",
      "355\n",
      "400\n",
      "437\n",
      "477\n",
      "386\n",
      "463\n",
      "435\n",
      "480\n",
      "386\n",
      "440\n",
      "441\n",
      "510\n",
      "413\n",
      "467\n",
      "272\n",
      "292\n",
      "245\n",
      "331\n",
      "301\n",
      "321\n",
      "345\n",
      "468\n",
      "323\n",
      "350\n",
      "300\n",
      "379\n",
      "313\n",
      "384\n",
      "337\n",
      "446\n",
      "349\n",
      "407\n",
      "349\n",
      "427\n",
      "372\n",
      "444\n",
      "444\n",
      "470\n",
      "378\n",
      "477\n",
      "363\n",
      "388\n",
      "405\n",
      "458\n",
      "376\n",
      "473\n",
      "278\n",
      "267\n",
      "282\n",
      "368\n",
      "351\n",
      "319\n",
      "376\n",
      "429\n",
      "296\n",
      "315\n",
      "216\n",
      "293\n",
      "313\n",
      "354\n",
      "231\n",
      "393\n",
      "527\n",
      "503\n",
      "484\n",
      "459\n",
      "564\n",
      "570\n",
      "542\n",
      "622\n",
      "571\n",
      "517\n",
      "460\n",
      "457\n",
      "534\n",
      "603\n",
      "467\n",
      "533\n",
      "405\n",
      "406\n",
      "338\n",
      "423\n",
      "425\n",
      "419\n",
      "498\n",
      "546\n",
      "365\n",
      "354\n",
      "351\n",
      "360\n",
      "390\n",
      "418\n",
      "350\n",
      "391\n",
      "421\n",
      "438\n",
      "426\n",
      "445\n",
      "529\n",
      "509\n",
      "582\n",
      "611\n",
      "471\n",
      "479\n",
      "433\n",
      "385\n",
      "509\n",
      "443\n",
      "480\n",
      "429\n",
      "363\n",
      "376\n",
      "358\n",
      "402\n",
      "436\n",
      "478\n",
      "502\n",
      "574\n",
      "317\n",
      "332\n",
      "338\n",
      "333\n",
      "393\n",
      "374\n",
      "411\n",
      "397\n",
      "420\n",
      "385\n",
      "376\n",
      "405\n",
      "366\n",
      "478\n",
      "377\n",
      "481\n",
      "428\n",
      "456\n",
      "350\n",
      "405\n",
      "392\n",
      "465\n",
      "381\n",
      "432\n",
      "312\n",
      "296\n",
      "278\n",
      "314\n",
      "301\n",
      "284\n",
      "303\n",
      "378\n",
      "289\n",
      "295\n",
      "256\n",
      "327\n",
      "290\n",
      "339\n",
      "251\n",
      "367\n",
      "327\n",
      "400\n",
      "314\n",
      "387\n",
      "392\n",
      "360\n",
      "363\n",
      "458\n",
      "353\n",
      "377\n",
      "309\n",
      "324\n",
      "348\n",
      "408\n",
      "342\n",
      "338\n",
      "266\n",
      "303\n",
      "244\n",
      "341\n",
      "295\n",
      "331\n",
      "369\n",
      "362\n",
      "271\n",
      "298\n",
      "247\n",
      "302\n",
      "300\n",
      "307\n",
      "266\n",
      "339\n"
     ]
    }
   ],
   "source": [
    "for b in buckets:\n",
    "    print(len(b))"
   ]
  },
  {
   "cell_type": "code",
   "execution_count": 13,
   "metadata": {
    "scrolled": true
   },
   "outputs": [],
   "source": [
    "# scorers = []\n",
    "# for i in range(2):\n",
    "#     scorers.append(BERTScorer(lang='en', rescale_with_baseline = True, idf = True, \n",
    "#                               idf_sents = list(data['Tweet']), device = 'cuda:'+str(i)))\n"
   ]
  },
  {
   "cell_type": "code",
   "execution_count": 14,
   "metadata": {},
   "outputs": [],
   "source": [
    "scorer = BERTScorer(lang='en', rescale_with_baseline = True, idf = True, \n",
    "                              idf_sents = list(data['Tweet']), device = 'cuda:0')"
   ]
  },
  {
   "cell_type": "code",
   "execution_count": null,
   "metadata": {
    "scrolled": true
   },
   "outputs": [
    {
     "name": "stdout",
     "output_type": "stream",
     "text": [
      "#buckets: 256\n",
      "buc: 0-len: 540--315.7909483909607, 0.022743484224965707\n",
      "buc: 1-len: 535--292.17539715766907, 0.014058869770285615\n",
      "buc: 2-len: 474--247.8776695728302, 0.014865851270273638\n",
      "buc: 3-len: 493--247.12881898880005, 0.015774596891984745\n"
     ]
    }
   ],
   "source": [
    "%%time\n",
    "lex_tfidf = Lexrank(np.array(data['Tweet']), lsh_tfidf)\n",
    "lex_tfidf.build_graph_bert_score(scorer, nJobs = 4, search_radius = 0, sim_thres = 0.2)"
   ]
  },
  {
   "cell_type": "code",
   "execution_count": 13,
   "metadata": {},
   "outputs": [
    {
     "name": "stdout",
     "output_type": "stream",
     "text": [
      "Iteration: 0\n",
      "Iteration: 10\n",
      "Iteration: 20\n",
      "Iteration: 30\n",
      "Iteration: 40\n",
      "Iteration: 50\n",
      "Iteration: 60\n",
      "Iteration: 70\n",
      "Iteration: 80\n",
      "Iteration: 90\n"
     ]
    }
   ],
   "source": [
    "lex_tfidf.train(lexrank_iter = 100, damping_factor = 0.85)"
   ]
  },
  {
   "cell_type": "code",
   "execution_count": 17,
   "metadata": {},
   "outputs": [
    {
     "name": "stdout",
     "output_type": "stream",
     "text": [
      "Extracting sentences....\n",
      "Sent scores: 10000\n",
      "selected one: 1708, 0.000556831422727555\n",
      "selected one: 1430, 0.0004976549535058439\n",
      "selected one: 373, 0.00047330930829048157\n",
      "selected one: 214, 0.0004665775632020086\n",
      "selected one: 1689, 0.0004551210440695286\n",
      "selected one: 417, 0.000394654693081975\n",
      "selected one: 3080, 0.000389478518627584\n",
      "selected one: 25, 0.0003785667649935931\n",
      "selected one: 1369, 0.000376440875697881\n",
      "selected one: 455, 0.0003686040872707963\n",
      "selected one: 6907, 0.0003566291998140514\n",
      "selected one: 369, 0.0003566105442587286\n",
      "selected one: 3029, 0.0003495930868666619\n",
      "selected one: 80, 0.0003444254689384252\n",
      "selected one: 6395, 0.00034216122003272176\n",
      "selected one: 2730, 0.00034100376069545746\n",
      "selected one: 7144, 0.00033905619056895375\n",
      "selected one: 1471, 0.0003382976574357599\n",
      "selected one: 163, 0.00033712407457642257\n",
      "selected one: 7719, 0.0003328357997816056\n"
     ]
    }
   ],
   "source": [
    "sentIds = lex_tfidf.extract_summary(n_sents = 20, cosine_thres=0.3)"
   ]
  },
  {
   "cell_type": "code",
   "execution_count": 18,
   "metadata": {
    "scrolled": true
   },
   "outputs": [
    {
     "name": "stdout",
     "output_type": "stream",
     "text": [
      "Id #adjacentEdges lexrank\n",
      "0 1708 12 tensor(0.0006)\n",
      "1 1430 20 tensor(0.0005)\n",
      "2 373 16 tensor(0.0005)\n",
      "3 214 10 tensor(0.0005)\n",
      "4 1689 12 tensor(0.0005)\n",
      "5 417 8 tensor(0.0004)\n",
      "6 3080 8 tensor(0.0004)\n",
      "7 25 11 tensor(0.0004)\n",
      "8 1369 7 tensor(0.0004)\n",
      "9 455 10 tensor(0.0004)\n",
      "10 6907 10 tensor(0.0004)\n",
      "11 369 6 tensor(0.0004)\n",
      "12 3029 6 tensor(0.0003)\n",
      "13 80 5 tensor(0.0003)\n",
      "14 6395 6 tensor(0.0003)\n",
      "15 2730 6 tensor(0.0003)\n",
      "16 7144 4 tensor(0.0003)\n",
      "17 1471 14 tensor(0.0003)\n",
      "18 163 12 tensor(0.0003)\n",
      "19 7719 10 tensor(0.0003)\n"
     ]
    }
   ],
   "source": [
    "print(\"Id\", \"#adjacentEdges\", \"lexrank\")\n",
    "for i, idx in enumerate(sentIds):\n",
    "    print(i, idx, len(lex_tfidf.graph[idx]), lex_tfidf.scores[idx])"
   ]
  },
  {
   "cell_type": "code",
   "execution_count": 19,
   "metadata": {},
   "outputs": [
    {
     "name": "stdout",
     "output_type": "stream",
     "text": [
      "0 president trump signs executive order targeting refugees\n",
      "1 trump says syrian christian refugees will be given priority for entering u.s. !\n",
      "2 statement from on trump's immigration executive orders\n",
      "3 link : trump's radical immigration plan : enforce the law .\n",
      "4 president trump has signed an executive action implementing \" new vetting measures \" for immigrants …\n",
      "5 breaking : president trump expected to sign executive order restricting immigration from 7 muslim countries !\n",
      "6 the disastrous consequences of trump’s new immigration rules\n",
      "7 trump's immigration ban excludes countries with business ties via\n",
      "8 take action against trump's executive order slamming the door on refugees .\n",
      "9 watch prime minister theresa may’s meeting with president trump\n",
      "10 refugees challenge trump executive order after being detained at u.s. airports\n",
      "11 trump’s proposed refugee ban would abandon iraqis who risked their lives working for the u.s. military …\n",
      "12 #trump trump suspends refugee entry , vows priority for christians\n",
      "13 leaked : read the full draft of trump executive order restricting muslim entry into #usa - #border\n",
      "14 refugees detained at u.s. airports , prompting legal challenges to trump’s immigration order , via\n",
      "15 read the full text of trump's executive order limiting muslim entry to the u.s. …\n",
      "16 #atlhomeinvasion house party tonight ️ everyone free til 11 free drinks| 3810 austin ct atlanta ga 30331 2\n",
      "17 trump says syrian christian refugees will be given priority for entering u.s. !  see her …\n",
      "18 trump's first week : the executive orders donald trump has signed so far and what they mean …\n",
      "19 refugees detained at u.s. airports challenge trump’s executive order\n"
     ]
    }
   ],
   "source": [
    "# with idf\n",
    "for i, idx in enumerate(sentIds):\n",
    "    print(i, data.iloc[idx]['Tweet'])"
   ]
  },
  {
   "cell_type": "code",
   "execution_count": 17,
   "metadata": {},
   "outputs": [
    {
     "name": "stdout",
     "output_type": "stream",
     "text": [
      "0 president trump signs executive order targeting refugees\n",
      "1 trump says syrian christian refugees will be given priority for entering u.s. !\n",
      "2 statement from on trump's immigration executive orders\n",
      "3 link : trump's radical immigration plan : enforce the law .\n",
      "4 president trump has signed an executive action implementing \" new vetting measures \" for immigrants …\n",
      "5 breaking : president trump expected to sign executive order restricting immigration from 7 muslim countries !\n",
      "6 the disastrous consequences of trump’s new immigration rules\n",
      "7 trump's immigration ban excludes countries with business ties via\n",
      "8 take action against trump's executive order slamming the door on refugees .\n",
      "9 watch prime minister theresa may’s meeting with president trump\n",
      "10 refugees challenge trump executive order after being detained at u.s. airports\n",
      "11 trump’s proposed refugee ban would abandon iraqis who risked their lives working for the u.s. military …\n",
      "12 #trump trump suspends refugee entry , vows priority for christians\n",
      "13 leaked : read the full draft of trump executive order restricting muslim entry into #usa - #border\n",
      "14 refugees detained at u.s. airports , prompting legal challenges to trump’s immigration order , via\n",
      "15 read the full text of trump's executive order limiting muslim entry to the u.s. …\n",
      "16 #atlhomeinvasion house party tonight ️ everyone free til 11 free drinks| 3810 austin ct atlanta ga 30331 2\n",
      "17 trump says syrian christian refugees will be given priority for entering u.s. !  see her …\n",
      "18 trump's first week : the executive orders donald trump has signed so far and what they mean …\n",
      "19 refugees detained at u.s. airports challenge trump’s executive order\n"
     ]
    }
   ],
   "source": [
    "# with idf\n",
    "for i, idx in enumerate(sentIds):\n",
    "    print(i, data.iloc[idx]['Tweet'])"
   ]
  },
  {
   "cell_type": "code",
   "execution_count": null,
   "metadata": {},
   "outputs": [],
   "source": [
    "following trump’s executive order , green card , visa holders already blocked at airports …\n",
    "1 trump executive order : refugees detained at us airports follow for more\n",
    "2 trump signs executive order for ‘ extreme vetting ’ of refugees\n",
    "3 trump executive order : refugees detained at us airports\n",
    "4 trump's state visit to the uk :\n",
    "5 list of trump's executive orders |\n",
    "6 trump executive order : refugees detained at us airports - bbc news\n",
    "7 breaking : prime minister theresa may has arrived at the white house for talks with president trump .\n",
    "8 trump signs executive actions on immigration , military\n",
    "9 president trump signs executive order temporarily halting all refugees\n",
    "10 trump signs ' new vetting ' immigration order\n",
    "11 trump says syrian christian refugees will be given priority for entering u.s. !\n",
    "12 ' we don't want them here ' president trump signs executive order for ' extreme vetting ' of refugees …\n",
    "13 trump’s immigration ban excludes countries with business ties\n",
    "14 breaking : trump to sign executive order today to temporarily halt refugees from some muslim-majority countries - white house\n",
    "15 trump orders ' extreme vetting ' of refugees\n",
    "16 refugees on the way to the u.s. when president trump's executive order was signed were detained at airports …\n",
    "17 trump signs ' extreme vetting ' order to block refugees\n",
    "18 prime minister theresa may arrives at the white house for a meeting with president donald trump\n",
    "19 donald trump has gone too far for dick cheney . dick cheney !!! that dick cheney ."
   ]
  },
  {
   "cell_type": "code",
   "execution_count": 21,
   "metadata": {},
   "outputs": [
    {
     "data": {
      "text/plain": [
       "{318: tensor(0.4154),\n",
       " 721: tensor(0.1207),\n",
       " 1072: tensor(0.4366),\n",
       " 2981: tensor(0.2801),\n",
       " 3612: tensor(0.1630),\n",
       " 4336: tensor(0.3717),\n",
       " 4422: tensor(0.1017),\n",
       " 4492: tensor(0.1199),\n",
       " 4604: tensor(0.1046),\n",
       " 6040: tensor(0.4027),\n",
       " 6088: tensor(0.1614),\n",
       " 7588: tensor(0.2022)}"
      ]
     },
     "execution_count": 21,
     "metadata": {},
     "output_type": "execute_result"
    }
   ],
   "source": [
    "lex_tfidf.graph[1708]"
   ]
  },
  {
   "cell_type": "code",
   "execution_count": 18,
   "metadata": {},
   "outputs": [
    {
     "data": {
      "text/plain": [
       "{3083: tensor(0.2183),\n",
       " 4099: tensor(0.2883),\n",
       " 4318: tensor(0.3272),\n",
       " 4593: tensor(0.3452),\n",
       " 4962: tensor(0.1903),\n",
       " 5040: tensor(0.1836),\n",
       " 5144: tensor(0.1750),\n",
       " 6179: tensor(0.2547),\n",
       " 6600: tensor(0.1153),\n",
       " 6698: tensor(0.3994),\n",
       " 6907: tensor(0.2541),\n",
       " 7123: tensor(0.1382),\n",
       " 7353: tensor(0.6009)}"
      ]
     },
     "execution_count": 18,
     "metadata": {},
     "output_type": "execute_result"
    }
   ],
   "source": [
    "lex_tfidf.graph[4375] #first tweet of tfidf model"
   ]
  },
  {
   "cell_type": "code",
   "execution_count": null,
   "metadata": {},
   "outputs": [],
   "source": []
  },
  {
   "cell_type": "code",
   "execution_count": null,
   "metadata": {},
   "outputs": [],
   "source": []
  },
  {
   "cell_type": "code",
   "execution_count": null,
   "metadata": {},
   "outputs": [],
   "source": []
  },
  {
   "cell_type": "code",
   "execution_count": null,
   "metadata": {},
   "outputs": [],
   "source": [
    "following trump’s executive order , green card , visa holders already blocked at airports …\n",
    "1 trump executive order : refugees detained at us airports follow for more\n",
    "2 trump signs executive order for ‘ extreme vetting ’ of refugees\n",
    "3 trump executive order : refugees detained at us airports\n",
    "4 trump's state visit to the uk :\n",
    "5 list of trump's executive orders |\n",
    "6 trump executive order : refugees detained at us airports - bbc news\n",
    "7 breaking : prime minister theresa may has arrived at the white house for talks with president trump .\n",
    "8 trump signs executive actions on immigration , military\n",
    "9 president trump signs executive order temporarily halting all refugees\n",
    "10 trump signs ' new vetting ' immigration order\n",
    "11 trump says syrian christian refugees will be given priority for entering u.s. !\n",
    "12 ' we don't want them here ' president trump signs executive order for ' extreme vetting ' of refugees …\n",
    "13 trump’s immigration ban excludes countries with business ties\n",
    "14 breaking : trump to sign executive order today to temporarily halt refugees from some muslim-majority countries - white house\n",
    "15 trump orders ' extreme vetting ' of refugees\n",
    "16 refugees on the way to the u.s. when president trump's executive order was signed were detained at airports …\n",
    "17 trump signs ' extreme vetting ' order to block refugees\n",
    "18 prime minister theresa may arrives at the white house for a meeting with president donald trump\n",
    "19 donald trump has gone too far for dick cheney . dick cheney !!! that dick cheney ."
   ]
  },
  {
   "cell_type": "code",
   "execution_count": null,
   "metadata": {},
   "outputs": [],
   "source": []
  },
  {
   "cell_type": "code",
   "execution_count": 21,
   "metadata": {},
   "outputs": [
    {
     "name": "stdout",
     "output_type": "stream",
     "text": [
      "0 not everyone in the u.k. is overjoyed about may’s meeting with trump\n",
      "1 link : trump's radical immigration plan : enforce the law .\n",
      "2 the real danger is the rippling effect of trump’s ban on syrian refugees , both abroad and in the u.s.\n",
      "3 take action against trump's executive order slamming the door on refugees .\n",
      "4 trump’s proposed refugee ban would abandon iraqis who risked their lives working for the u.s. military …\n",
      "5 president trump signs executive order targeting refugees\n",
      "6 trump says syrian christian refugees will be given priority for entering u.s. !\n",
      "7 read the full text of trump's executive order limiting muslim entry to the u.s. …\n",
      "8 breaking : president trump expected to sign executive order restricting immigration from 7 muslim countries !\n",
      "9 entire senior management of state department quit in apparent gesture of defiance to trump …\n",
      "10 wsj : trump signs executive action that he says would keep “ radical islamic terrorists ” out of the u.s.\n",
      "11 donald trump and theresa may hold joint white house press conference - politics live\n",
      "12 i generally keep my political commentary to a minimum . but trump's refugee ban is un-american .\n",
      "13 president trump has signed an executive action implementing \" new vetting measures \" for immigrants …\n",
      "14 #breakingnews trump signs executive action for \" new vetting measures \" to keep out \" radical islamic terrorists \" …\n",
      "15 the disastrous consequences of trump’s new immigration rules\n",
      "16 leaked : read the full draft of trump executive order restricting muslim entry into #usa - #border\n",
      "17 syrians are heartbroken after hearing trump’s plan to ban refugees from the us via\n",
      "18 warren : trump's refugee ban is a \" betrayal of american values \"\n",
      "19 trump is banning refugees from muslim countries . except those linked to his business\n"
     ]
    }
   ],
   "source": [
    "# without idf\n",
    "for i, idx in enumerate(sentIds):\n",
    "    print(i, data.iloc[idx]['Tweet'])"
   ]
  },
  {
   "cell_type": "code",
   "execution_count": 29,
   "metadata": {},
   "outputs": [
    {
     "data": {
      "text/html": [
       "<div>\n",
       "<style scoped>\n",
       "    .dataframe tbody tr th:only-of-type {\n",
       "        vertical-align: middle;\n",
       "    }\n",
       "\n",
       "    .dataframe tbody tr th {\n",
       "        vertical-align: top;\n",
       "    }\n",
       "\n",
       "    .dataframe thead th {\n",
       "        text-align: right;\n",
       "    }\n",
       "</style>\n",
       "<table border=\"1\" class=\"dataframe\">\n",
       "  <thead>\n",
       "    <tr style=\"text-align: right;\">\n",
       "      <th></th>\n",
       "      <th>Id</th>\n",
       "      <th>Tweet</th>\n",
       "      <th>Tweet1</th>\n",
       "      <th>uniWPercent</th>\n",
       "    </tr>\n",
       "  </thead>\n",
       "  <tbody>\n",
       "    <tr>\n",
       "      <th>1216</th>\n",
       "      <td>825064765261176832</td>\n",
       "      <td>company sent out a notice about trump's muslim...</td>\n",
       "      <td>company sent notice trumps muslim ban green ca...</td>\n",
       "      <td>10</td>\n",
       "    </tr>\n",
       "    <tr>\n",
       "      <th>2323</th>\n",
       "      <td>825137645504172032</td>\n",
       "      <td>visas being denied immediately . chaos at airp...</td>\n",
       "      <td>visas denied immediately chaos airports air mu...</td>\n",
       "      <td>13</td>\n",
       "    </tr>\n",
       "    <tr>\n",
       "      <th>2419</th>\n",
       "      <td>825141021906382848</td>\n",
       "      <td>ban applies if you have a visa , green card , ...</td>\n",
       "      <td>ban applies visa green card even dual citizen ...</td>\n",
       "      <td>9</td>\n",
       "    </tr>\n",
       "    <tr>\n",
       "      <th>2609</th>\n",
       "      <td>825147334342303745</td>\n",
       "      <td>current concern : what about people with green...</td>\n",
       "      <td>current concern people green cards currently a...</td>\n",
       "      <td>13</td>\n",
       "    </tr>\n",
       "    <tr>\n",
       "      <th>2755</th>\n",
       "      <td>825152564652081157</td>\n",
       "      <td>many elderly come to green card interview with...</td>\n",
       "      <td>many elderly come green card interview suit ti...</td>\n",
       "      <td>12</td>\n",
       "    </tr>\n",
       "    <tr>\n",
       "      <th>...</th>\n",
       "      <td>...</td>\n",
       "      <td>...</td>\n",
       "      <td>...</td>\n",
       "      <td>...</td>\n",
       "    </tr>\n",
       "    <tr>\n",
       "      <th>9902</th>\n",
       "      <td>825405997065830402</td>\n",
       "      <td>i want to repeat : green card holders were han...</td>\n",
       "      <td>want repeat green card holders handcuffed soci...</td>\n",
       "      <td>12</td>\n",
       "    </tr>\n",
       "    <tr>\n",
       "      <th>9918</th>\n",
       "      <td>825406219376525312</td>\n",
       "      <td>dems , where is your response to what is happe...</td>\n",
       "      <td>dems response happening wrt muslimban refugees...</td>\n",
       "      <td>12</td>\n",
       "    </tr>\n",
       "    <tr>\n",
       "      <th>9922</th>\n",
       "      <td>825406307452801028</td>\n",
       "      <td>green card holders included in trump ban : hom...</td>\n",
       "      <td>green card holders included trump ban homeland...</td>\n",
       "      <td>9</td>\n",
       "    </tr>\n",
       "    <tr>\n",
       "      <th>9975</th>\n",
       "      <td>825406932395626497</td>\n",
       "      <td>and here .... green card holders , too . may w...</td>\n",
       "      <td>green card holders may whatever god universe b...</td>\n",
       "      <td>9</td>\n",
       "    </tr>\n",
       "    <tr>\n",
       "      <th>9996</th>\n",
       "      <td>825407305701208064</td>\n",
       "      <td>dear international community : in cities aroun...</td>\n",
       "      <td>dear international community cities around wor...</td>\n",
       "      <td>14</td>\n",
       "    </tr>\n",
       "  </tbody>\n",
       "</table>\n",
       "<p>147 rows × 4 columns</p>\n",
       "</div>"
      ],
      "text/plain": [
       "                      Id                                              Tweet  \\\n",
       "1216  825064765261176832  company sent out a notice about trump's muslim...   \n",
       "2323  825137645504172032  visas being denied immediately . chaos at airp...   \n",
       "2419  825141021906382848  ban applies if you have a visa , green card , ...   \n",
       "2609  825147334342303745  current concern : what about people with green...   \n",
       "2755  825152564652081157  many elderly come to green card interview with...   \n",
       "...                  ...                                                ...   \n",
       "9902  825405997065830402  i want to repeat : green card holders were han...   \n",
       "9918  825406219376525312  dems , where is your response to what is happe...   \n",
       "9922  825406307452801028  green card holders included in trump ban : hom...   \n",
       "9975  825406932395626497  and here .... green card holders , too . may w...   \n",
       "9996  825407305701208064  dear international community : in cities aroun...   \n",
       "\n",
       "                                                 Tweet1  uniWPercent  \n",
       "1216  company sent notice trumps muslim ban green ca...           10  \n",
       "2323  visas denied immediately chaos airports air mu...           13  \n",
       "2419  ban applies visa green card even dual citizen ...            9  \n",
       "2609  current concern people green cards currently a...           13  \n",
       "2755  many elderly come green card interview suit ti...           12  \n",
       "...                                                 ...          ...  \n",
       "9902  want repeat green card holders handcuffed soci...           12  \n",
       "9918  dems response happening wrt muslimban refugees...           12  \n",
       "9922  green card holders included trump ban homeland...            9  \n",
       "9975  green card holders may whatever god universe b...            9  \n",
       "9996  dear international community cities around wor...           14  \n",
       "\n",
       "[147 rows x 4 columns]"
      ]
     },
     "execution_count": 29,
     "metadata": {},
     "output_type": "execute_result"
    }
   ],
   "source": [
    "data[data['Tweet'].str.contains('green card')]"
   ]
  },
  {
   "cell_type": "code",
   "execution_count": null,
   "metadata": {},
   "outputs": [],
   "source": []
  }
 ],
 "metadata": {
  "kernelspec": {
   "display_name": "python3.7.3",
   "language": "python",
   "name": "python3.7.3"
  },
  "language_info": {
   "codemirror_mode": {
    "name": "ipython",
    "version": 3
   },
   "file_extension": ".py",
   "mimetype": "text/x-python",
   "name": "python",
   "nbconvert_exporter": "python",
   "pygments_lexer": "ipython3",
   "version": "3.7.3"
  }
 },
 "nbformat": 4,
 "nbformat_minor": 2
}
